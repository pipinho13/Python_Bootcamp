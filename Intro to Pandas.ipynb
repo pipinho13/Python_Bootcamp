{
 "cells": [
  {
   "cell_type": "markdown",
   "metadata": {},
   "source": [
    "# Pandas"
   ]
  },
  {
   "cell_type": "markdown",
   "metadata": {},
   "source": [
    "# Series"
   ]
  },
  {
   "cell_type": "code",
   "execution_count": 2,
   "metadata": {
    "collapsed": true
   },
   "outputs": [],
   "source": [
    "import numpy as np\n",
    "import pandas as pd\n",
    "from pandas import Series, DataFrame"
   ]
  },
  {
   "cell_type": "code",
   "execution_count": 4,
   "metadata": {
    "collapsed": true
   },
   "outputs": [],
   "source": [
    "obj=Series([3,6,9,12])"
   ]
  },
  {
   "cell_type": "code",
   "execution_count": 5,
   "metadata": {
    "collapsed": false
   },
   "outputs": [
    {
     "data": {
      "text/plain": [
       "0     3\n",
       "1     6\n",
       "2     9\n",
       "3    12\n",
       "dtype: int64"
      ]
     },
     "execution_count": 5,
     "metadata": {},
     "output_type": "execute_result"
    }
   ],
   "source": [
    "obj"
   ]
  },
  {
   "cell_type": "code",
   "execution_count": 6,
   "metadata": {
    "collapsed": false
   },
   "outputs": [
    {
     "data": {
      "text/plain": [
       "array([ 3,  6,  9, 12], dtype=int64)"
      ]
     },
     "execution_count": 6,
     "metadata": {},
     "output_type": "execute_result"
    }
   ],
   "source": [
    "obj.values"
   ]
  },
  {
   "cell_type": "code",
   "execution_count": 7,
   "metadata": {
    "collapsed": false
   },
   "outputs": [
    {
     "data": {
      "text/plain": [
       "RangeIndex(start=0, stop=4, step=1)"
      ]
     },
     "execution_count": 7,
     "metadata": {},
     "output_type": "execute_result"
    }
   ],
   "source": [
    "obj.index"
   ]
  },
  {
   "cell_type": "code",
   "execution_count": 8,
   "metadata": {
    "collapsed": true
   },
   "outputs": [],
   "source": [
    "ww2_cas= Series([8700000,43000000,3000000,2100000,400000], index=['USSR', 'GERMANY', 'CHINA', 'JAPAN', 'USA'])"
   ]
  },
  {
   "cell_type": "code",
   "execution_count": 9,
   "metadata": {
    "collapsed": false
   },
   "outputs": [
    {
     "data": {
      "text/plain": [
       "USSR        8700000\n",
       "GERMANY    43000000\n",
       "CHINA       3000000\n",
       "JAPAN       2100000\n",
       "USA          400000\n",
       "dtype: int64"
      ]
     },
     "execution_count": 9,
     "metadata": {},
     "output_type": "execute_result"
    }
   ],
   "source": [
    "ww2_cas"
   ]
  },
  {
   "cell_type": "code",
   "execution_count": 10,
   "metadata": {
    "collapsed": false
   },
   "outputs": [
    {
     "data": {
      "text/plain": [
       "400000"
      ]
     },
     "execution_count": 10,
     "metadata": {},
     "output_type": "execute_result"
    }
   ],
   "source": [
    "ww2_cas['USA']"
   ]
  },
  {
   "cell_type": "code",
   "execution_count": 11,
   "metadata": {
    "collapsed": false
   },
   "outputs": [
    {
     "data": {
      "text/plain": [
       "USSR        8700000\n",
       "GERMANY    43000000\n",
       "dtype: int64"
      ]
     },
     "execution_count": 11,
     "metadata": {},
     "output_type": "execute_result"
    }
   ],
   "source": [
    "#Which countris had cas greater than 4m\n",
    "\n",
    "ww2_cas[ww2_cas>4000000]"
   ]
  },
  {
   "cell_type": "code",
   "execution_count": 12,
   "metadata": {
    "collapsed": false
   },
   "outputs": [
    {
     "data": {
      "text/plain": [
       "True"
      ]
     },
     "execution_count": 12,
     "metadata": {},
     "output_type": "execute_result"
    }
   ],
   "source": [
    "'USSR' in ww2_cas"
   ]
  },
  {
   "cell_type": "code",
   "execution_count": 13,
   "metadata": {
    "collapsed": true
   },
   "outputs": [],
   "source": [
    "ww2_dict=ww2_cas.to_dict() ##to dictionary"
   ]
  },
  {
   "cell_type": "code",
   "execution_count": 14,
   "metadata": {
    "collapsed": false
   },
   "outputs": [
    {
     "data": {
      "text/plain": [
       "{'CHINA': 3000000,\n",
       " 'GERMANY': 43000000,\n",
       " 'JAPAN': 2100000,\n",
       " 'USA': 400000,\n",
       " 'USSR': 8700000}"
      ]
     },
     "execution_count": 14,
     "metadata": {},
     "output_type": "execute_result"
    }
   ],
   "source": [
    "ww2_dict"
   ]
  },
  {
   "cell_type": "code",
   "execution_count": 15,
   "metadata": {
    "collapsed": true
   },
   "outputs": [],
   "source": [
    "ww2_series=Series(ww2_dict) ##to series again"
   ]
  },
  {
   "cell_type": "code",
   "execution_count": 16,
   "metadata": {
    "collapsed": false
   },
   "outputs": [
    {
     "data": {
      "text/plain": [
       "CHINA       3000000\n",
       "GERMANY    43000000\n",
       "JAPAN       2100000\n",
       "USA          400000\n",
       "USSR        8700000\n",
       "dtype: int64"
      ]
     },
     "execution_count": 16,
     "metadata": {},
     "output_type": "execute_result"
    }
   ],
   "source": [
    "ww2_series"
   ]
  },
  {
   "cell_type": "code",
   "execution_count": 17,
   "metadata": {
    "collapsed": true
   },
   "outputs": [],
   "source": [
    "countries=['CHINA', 'GERMANY','JAPAN', 'USA', 'USSR', 'ARGENTINA']"
   ]
  },
  {
   "cell_type": "code",
   "execution_count": 18,
   "metadata": {
    "collapsed": true
   },
   "outputs": [],
   "source": [
    "obj2=Series(ww2_dict, index=countries)"
   ]
  },
  {
   "cell_type": "code",
   "execution_count": 19,
   "metadata": {
    "collapsed": false
   },
   "outputs": [
    {
     "data": {
      "text/plain": [
       "CHINA         3000000.0\n",
       "GERMANY      43000000.0\n",
       "JAPAN         2100000.0\n",
       "USA            400000.0\n",
       "USSR          8700000.0\n",
       "ARGENTINA           NaN\n",
       "dtype: float64"
      ]
     },
     "execution_count": 19,
     "metadata": {},
     "output_type": "execute_result"
    }
   ],
   "source": [
    "obj2"
   ]
  },
  {
   "cell_type": "code",
   "execution_count": 20,
   "metadata": {
    "collapsed": false
   },
   "outputs": [
    {
     "data": {
      "text/plain": [
       "CHINA        False\n",
       "GERMANY      False\n",
       "JAPAN        False\n",
       "USA          False\n",
       "USSR         False\n",
       "ARGENTINA     True\n",
       "dtype: bool"
      ]
     },
     "execution_count": 20,
     "metadata": {},
     "output_type": "execute_result"
    }
   ],
   "source": [
    "pd.isnull(obj2)"
   ]
  },
  {
   "cell_type": "code",
   "execution_count": 21,
   "metadata": {
    "collapsed": false
   },
   "outputs": [
    {
     "data": {
      "text/plain": [
       "CHINA        False\n",
       "GERMANY      False\n",
       "JAPAN        False\n",
       "USA          False\n",
       "USSR         False\n",
       "ARGENTINA     True\n",
       "dtype: bool"
      ]
     },
     "execution_count": 21,
     "metadata": {},
     "output_type": "execute_result"
    }
   ],
   "source": [
    "pd.isnull(obj2)"
   ]
  },
  {
   "cell_type": "code",
   "execution_count": 22,
   "metadata": {
    "collapsed": false
   },
   "outputs": [
    {
     "data": {
      "text/plain": [
       "CHINA         True\n",
       "GERMANY       True\n",
       "JAPAN         True\n",
       "USA           True\n",
       "USSR          True\n",
       "ARGENTINA    False\n",
       "dtype: bool"
      ]
     },
     "execution_count": 22,
     "metadata": {},
     "output_type": "execute_result"
    }
   ],
   "source": [
    "pd.notnull(obj2)"
   ]
  },
  {
   "cell_type": "code",
   "execution_count": 23,
   "metadata": {
    "collapsed": false
   },
   "outputs": [
    {
     "data": {
      "text/plain": [
       "CHINA       3000000\n",
       "GERMANY    43000000\n",
       "JAPAN       2100000\n",
       "USA          400000\n",
       "USSR        8700000\n",
       "dtype: int64"
      ]
     },
     "execution_count": 23,
     "metadata": {},
     "output_type": "execute_result"
    }
   ],
   "source": [
    "ww2_series"
   ]
  },
  {
   "cell_type": "code",
   "execution_count": 24,
   "metadata": {
    "collapsed": true
   },
   "outputs": [],
   "source": [
    "###add object"
   ]
  },
  {
   "cell_type": "code",
   "execution_count": 25,
   "metadata": {
    "collapsed": false
   },
   "outputs": [
    {
     "data": {
      "text/plain": [
       "CHINA         3000000.0\n",
       "GERMANY      43000000.0\n",
       "JAPAN         2100000.0\n",
       "USA            400000.0\n",
       "USSR          8700000.0\n",
       "ARGENTINA           NaN\n",
       "dtype: float64"
      ]
     },
     "execution_count": 25,
     "metadata": {},
     "output_type": "execute_result"
    }
   ],
   "source": [
    "obj2"
   ]
  },
  {
   "cell_type": "code",
   "execution_count": 26,
   "metadata": {
    "collapsed": false
   },
   "outputs": [
    {
     "data": {
      "text/plain": [
       "ARGENTINA           NaN\n",
       "CHINA         6000000.0\n",
       "GERMANY      86000000.0\n",
       "JAPAN         4200000.0\n",
       "USA            800000.0\n",
       "USSR         17400000.0\n",
       "dtype: float64"
      ]
     },
     "execution_count": 26,
     "metadata": {},
     "output_type": "execute_result"
    }
   ],
   "source": [
    "ww2_series+obj2"
   ]
  },
  {
   "cell_type": "code",
   "execution_count": 27,
   "metadata": {
    "collapsed": true
   },
   "outputs": [],
   "source": [
    "obj2.name=\"World War 2 Casulties\""
   ]
  },
  {
   "cell_type": "code",
   "execution_count": 28,
   "metadata": {
    "collapsed": false
   },
   "outputs": [
    {
     "data": {
      "text/plain": [
       "CHINA         3000000.0\n",
       "GERMANY      43000000.0\n",
       "JAPAN         2100000.0\n",
       "USA            400000.0\n",
       "USSR          8700000.0\n",
       "ARGENTINA           NaN\n",
       "Name: World War 2 Casulties, dtype: float64"
      ]
     },
     "execution_count": 28,
     "metadata": {},
     "output_type": "execute_result"
    }
   ],
   "source": [
    "obj2"
   ]
  },
  {
   "cell_type": "code",
   "execution_count": 29,
   "metadata": {
    "collapsed": true
   },
   "outputs": [],
   "source": [
    "obj2.index.name='Countries'"
   ]
  },
  {
   "cell_type": "code",
   "execution_count": 30,
   "metadata": {
    "collapsed": false
   },
   "outputs": [
    {
     "data": {
      "text/plain": [
       "Countries\n",
       "CHINA         3000000.0\n",
       "GERMANY      43000000.0\n",
       "JAPAN         2100000.0\n",
       "USA            400000.0\n",
       "USSR          8700000.0\n",
       "ARGENTINA           NaN\n",
       "Name: World War 2 Casulties, dtype: float64"
      ]
     },
     "execution_count": 30,
     "metadata": {},
     "output_type": "execute_result"
    }
   ],
   "source": [
    "obj2"
   ]
  },
  {
   "cell_type": "markdown",
   "metadata": {},
   "source": [
    "# DataFrame"
   ]
  },
  {
   "cell_type": "code",
   "execution_count": 31,
   "metadata": {
    "collapsed": true
   },
   "outputs": [],
   "source": [
    "import numpy as np\n",
    "import pandas as pd\n",
    "\n",
    "from pandas import Series, DataFrame"
   ]
  },
  {
   "cell_type": "code",
   "execution_count": 32,
   "metadata": {
    "collapsed": false
   },
   "outputs": [
    {
     "data": {
      "text/plain": [
       "True"
      ]
     },
     "execution_count": 32,
     "metadata": {},
     "output_type": "execute_result"
    }
   ],
   "source": [
    "import webbrowser\n",
    "website='https://en.wikipedia.org/wiki/NFL_win%E2%80%93loss_records'\n",
    "webbrowser.open(website)"
   ]
  },
  {
   "cell_type": "code",
   "execution_count": 37,
   "metadata": {
    "collapsed": true
   },
   "outputs": [],
   "source": [
    "nfl_frame=pd.read_clipboard()  ###if you copy paste a data frame and you want to paste it write the command on the left!!!"
   ]
  },
  {
   "cell_type": "code",
   "execution_count": 36,
   "metadata": {
    "collapsed": false
   },
   "outputs": [
    {
     "data": {
      "text/html": [
       "<div>\n",
       "<table border=\"1\" class=\"dataframe\">\n",
       "  <thead>\n",
       "    <tr style=\"text-align: right;\">\n",
       "      <th></th>\n",
       "      <th>Rank</th>\n",
       "      <th>Team</th>\n",
       "      <th>Won</th>\n",
       "      <th>Lost</th>\n",
       "      <th>Tied</th>\n",
       "      <th>Pct.</th>\n",
       "      <th>First</th>\n",
       "      <th>NFL</th>\n",
       "      <th>Season</th>\n",
       "      <th>Total</th>\n",
       "      <th>Games</th>\n",
       "      <th>Division</th>\n",
       "    </tr>\n",
       "  </thead>\n",
       "  <tbody>\n",
       "    <tr>\n",
       "      <th>0</th>\n",
       "      <td>1</td>\n",
       "      <td>Chicago</td>\n",
       "      <td>Bears</td>\n",
       "      <td>741</td>\n",
       "      <td>555</td>\n",
       "      <td>42</td>\n",
       "      <td>0.570</td>\n",
       "      <td>1920.000</td>\n",
       "      <td>1,338</td>\n",
       "      <td>NFC</td>\n",
       "      <td>North</td>\n",
       "      <td>NaN</td>\n",
       "    </tr>\n",
       "    <tr>\n",
       "      <th>1</th>\n",
       "      <td>2</td>\n",
       "      <td>Dallas</td>\n",
       "      <td>Cowboys</td>\n",
       "      <td>480</td>\n",
       "      <td>364</td>\n",
       "      <td>6</td>\n",
       "      <td>0.568</td>\n",
       "      <td>1960.000</td>\n",
       "      <td>850</td>\n",
       "      <td>NFC</td>\n",
       "      <td>East</td>\n",
       "      <td>NaN</td>\n",
       "    </tr>\n",
       "    <tr>\n",
       "      <th>2</th>\n",
       "      <td>3</td>\n",
       "      <td>Green</td>\n",
       "      <td>Bay</td>\n",
       "      <td>Packers</td>\n",
       "      <td>720</td>\n",
       "      <td>547</td>\n",
       "      <td>37.000</td>\n",
       "      <td>0.566</td>\n",
       "      <td>1921</td>\n",
       "      <td>1,304</td>\n",
       "      <td>NFC</td>\n",
       "      <td>North</td>\n",
       "    </tr>\n",
       "    <tr>\n",
       "      <th>3</th>\n",
       "      <td>4</td>\n",
       "      <td>Miami</td>\n",
       "      <td>Dolphins</td>\n",
       "      <td>429</td>\n",
       "      <td>335</td>\n",
       "      <td>4</td>\n",
       "      <td>0.561</td>\n",
       "      <td>1966.000</td>\n",
       "      <td>768</td>\n",
       "      <td>AFC</td>\n",
       "      <td>East</td>\n",
       "      <td>NaN</td>\n",
       "    </tr>\n",
       "    <tr>\n",
       "      <th>4</th>\n",
       "      <td>5</td>\n",
       "      <td>New</td>\n",
       "      <td>England</td>\n",
       "      <td>Patriots</td>\n",
       "      <td>462</td>\n",
       "      <td>381</td>\n",
       "      <td>9.000</td>\n",
       "      <td>0.548</td>\n",
       "      <td>1960</td>\n",
       "      <td>852</td>\n",
       "      <td>AFC</td>\n",
       "      <td>East</td>\n",
       "    </tr>\n",
       "    <tr>\n",
       "      <th>5</th>\n",
       "      <td>6</td>\n",
       "      <td>San</td>\n",
       "      <td>Francisco</td>\n",
       "      <td>49ers</td>\n",
       "      <td>520</td>\n",
       "      <td>436</td>\n",
       "      <td>14.000</td>\n",
       "      <td>0.543</td>\n",
       "      <td>1950</td>\n",
       "      <td>970</td>\n",
       "      <td>NFC</td>\n",
       "      <td>West</td>\n",
       "    </tr>\n",
       "    <tr>\n",
       "      <th>6</th>\n",
       "      <td>7</td>\n",
       "      <td>Baltimore</td>\n",
       "      <td>Ravens</td>\n",
       "      <td>173</td>\n",
       "      <td>146</td>\n",
       "      <td>1</td>\n",
       "      <td>0.542</td>\n",
       "      <td>1996.000</td>\n",
       "      <td>320</td>\n",
       "      <td>AFC</td>\n",
       "      <td>North</td>\n",
       "      <td>NaN</td>\n",
       "    </tr>\n",
       "    <tr>\n",
       "      <th>7</th>\n",
       "      <td>8</td>\n",
       "      <td>Minnesota</td>\n",
       "      <td>Vikings</td>\n",
       "      <td>449</td>\n",
       "      <td>379</td>\n",
       "      <td>10</td>\n",
       "      <td>0.542</td>\n",
       "      <td>1961.000</td>\n",
       "      <td>838</td>\n",
       "      <td>NFC</td>\n",
       "      <td>North</td>\n",
       "      <td>NaN</td>\n",
       "    </tr>\n",
       "  </tbody>\n",
       "</table>\n",
       "</div>"
      ],
      "text/plain": [
       "   Rank       Team        Won      Lost  Tied  Pct.   First       NFL Season  \\\n",
       "0     1    Chicago      Bears       741   555    42   0.570  1920.000  1,338   \n",
       "1     2     Dallas    Cowboys       480   364     6   0.568  1960.000    850   \n",
       "2     3      Green        Bay   Packers   720   547  37.000     0.566   1921   \n",
       "3     4      Miami   Dolphins       429   335     4   0.561  1966.000    768   \n",
       "4     5        New    England  Patriots   462   381   9.000     0.548   1960   \n",
       "5     6        San  Francisco     49ers   520   436  14.000     0.543   1950   \n",
       "6     7  Baltimore     Ravens       173   146     1   0.542  1996.000    320   \n",
       "7     8  Minnesota    Vikings       449   379    10   0.542  1961.000    838   \n",
       "\n",
       "   Total  Games Division  \n",
       "0    NFC  North      NaN  \n",
       "1    NFC   East      NaN  \n",
       "2  1,304    NFC    North  \n",
       "3    AFC   East      NaN  \n",
       "4    852    AFC     East  \n",
       "5    970    NFC     West  \n",
       "6    AFC  North      NaN  \n",
       "7    NFC  North      NaN  "
      ]
     },
     "execution_count": 36,
     "metadata": {},
     "output_type": "execute_result"
    }
   ],
   "source": [
    "nfl_frame\n"
   ]
  },
  {
   "cell_type": "code",
   "execution_count": 39,
   "metadata": {
    "collapsed": false
   },
   "outputs": [
    {
     "data": {
      "text/plain": [
       "Index([u'nfl_frame'], dtype='object')"
      ]
     },
     "execution_count": 39,
     "metadata": {},
     "output_type": "execute_result"
    }
   ],
   "source": [
    "###if you want to grap the column names\n",
    "nfl_frame.columns"
   ]
  },
  {
   "cell_type": "code",
   "execution_count": 43,
   "metadata": {
    "collapsed": false
   },
   "outputs": [],
   "source": [
    "nfl_frame2=pd.read_clipboard()"
   ]
  },
  {
   "cell_type": "code",
   "execution_count": 44,
   "metadata": {
    "collapsed": false
   },
   "outputs": [
    {
     "data": {
      "text/plain": [
       "Index([u'Rank', u'Team', u'Won', u'Lost', u'Tied', u'Pct.', u'First', u'NFL',\n",
       "       u'Season', u'Total', u'Games', u'Division'],\n",
       "      dtype='object')"
      ]
     },
     "execution_count": 44,
     "metadata": {},
     "output_type": "execute_result"
    }
   ],
   "source": [
    "nfl_frame2.columns"
   ]
  },
  {
   "cell_type": "code",
   "execution_count": 45,
   "metadata": {
    "collapsed": false
   },
   "outputs": [
    {
     "data": {
      "text/html": [
       "<div>\n",
       "<table border=\"1\" class=\"dataframe\">\n",
       "  <thead>\n",
       "    <tr style=\"text-align: right;\">\n",
       "      <th></th>\n",
       "      <th>Rank</th>\n",
       "      <th>Team</th>\n",
       "      <th>Won</th>\n",
       "      <th>Lost</th>\n",
       "      <th>Tied</th>\n",
       "      <th>Pct.</th>\n",
       "      <th>First</th>\n",
       "      <th>NFL</th>\n",
       "      <th>Season</th>\n",
       "      <th>Total</th>\n",
       "      <th>Games</th>\n",
       "      <th>Division</th>\n",
       "    </tr>\n",
       "  </thead>\n",
       "  <tbody>\n",
       "    <tr>\n",
       "      <th>0</th>\n",
       "      <td>1</td>\n",
       "      <td>Chicago</td>\n",
       "      <td>Bears</td>\n",
       "      <td>741</td>\n",
       "      <td>555</td>\n",
       "      <td>42</td>\n",
       "      <td>0.570</td>\n",
       "      <td>1920.000</td>\n",
       "      <td>1,338</td>\n",
       "      <td>NFC</td>\n",
       "      <td>North</td>\n",
       "      <td>NaN</td>\n",
       "    </tr>\n",
       "    <tr>\n",
       "      <th>1</th>\n",
       "      <td>2</td>\n",
       "      <td>Dallas</td>\n",
       "      <td>Cowboys</td>\n",
       "      <td>480</td>\n",
       "      <td>364</td>\n",
       "      <td>6</td>\n",
       "      <td>0.568</td>\n",
       "      <td>1960.000</td>\n",
       "      <td>850</td>\n",
       "      <td>NFC</td>\n",
       "      <td>East</td>\n",
       "      <td>NaN</td>\n",
       "    </tr>\n",
       "    <tr>\n",
       "      <th>2</th>\n",
       "      <td>3</td>\n",
       "      <td>Green</td>\n",
       "      <td>Bay</td>\n",
       "      <td>Packers</td>\n",
       "      <td>720</td>\n",
       "      <td>547</td>\n",
       "      <td>37.000</td>\n",
       "      <td>0.566</td>\n",
       "      <td>1921</td>\n",
       "      <td>1,304</td>\n",
       "      <td>NFC</td>\n",
       "      <td>North</td>\n",
       "    </tr>\n",
       "    <tr>\n",
       "      <th>3</th>\n",
       "      <td>4</td>\n",
       "      <td>Miami</td>\n",
       "      <td>Dolphins</td>\n",
       "      <td>429</td>\n",
       "      <td>335</td>\n",
       "      <td>4</td>\n",
       "      <td>0.561</td>\n",
       "      <td>1966.000</td>\n",
       "      <td>768</td>\n",
       "      <td>AFC</td>\n",
       "      <td>East</td>\n",
       "      <td>NaN</td>\n",
       "    </tr>\n",
       "    <tr>\n",
       "      <th>4</th>\n",
       "      <td>5</td>\n",
       "      <td>New</td>\n",
       "      <td>England</td>\n",
       "      <td>Patriots</td>\n",
       "      <td>462</td>\n",
       "      <td>381</td>\n",
       "      <td>9.000</td>\n",
       "      <td>0.548</td>\n",
       "      <td>1960</td>\n",
       "      <td>852</td>\n",
       "      <td>AFC</td>\n",
       "      <td>East</td>\n",
       "    </tr>\n",
       "    <tr>\n",
       "      <th>5</th>\n",
       "      <td>6</td>\n",
       "      <td>San</td>\n",
       "      <td>Francisco</td>\n",
       "      <td>49ers</td>\n",
       "      <td>520</td>\n",
       "      <td>436</td>\n",
       "      <td>14.000</td>\n",
       "      <td>0.543</td>\n",
       "      <td>1950</td>\n",
       "      <td>970</td>\n",
       "      <td>NFC</td>\n",
       "      <td>West</td>\n",
       "    </tr>\n",
       "    <tr>\n",
       "      <th>6</th>\n",
       "      <td>7</td>\n",
       "      <td>Baltimore</td>\n",
       "      <td>Ravens</td>\n",
       "      <td>173</td>\n",
       "      <td>146</td>\n",
       "      <td>1</td>\n",
       "      <td>0.542</td>\n",
       "      <td>1996.000</td>\n",
       "      <td>320</td>\n",
       "      <td>AFC</td>\n",
       "      <td>North</td>\n",
       "      <td>NaN</td>\n",
       "    </tr>\n",
       "    <tr>\n",
       "      <th>7</th>\n",
       "      <td>8</td>\n",
       "      <td>Minnesota</td>\n",
       "      <td>Vikings</td>\n",
       "      <td>449</td>\n",
       "      <td>379</td>\n",
       "      <td>10</td>\n",
       "      <td>0.542</td>\n",
       "      <td>1961.000</td>\n",
       "      <td>838</td>\n",
       "      <td>NFC</td>\n",
       "      <td>North</td>\n",
       "      <td>NaN</td>\n",
       "    </tr>\n",
       "    <tr>\n",
       "      <th>8</th>\n",
       "      <td>9</td>\n",
       "      <td>New</td>\n",
       "      <td>York</td>\n",
       "      <td>Giants</td>\n",
       "      <td>673</td>\n",
       "      <td>567</td>\n",
       "      <td>33.000</td>\n",
       "      <td>0.542</td>\n",
       "      <td>1925</td>\n",
       "      <td>1,273</td>\n",
       "      <td>NFC</td>\n",
       "      <td>East</td>\n",
       "    </tr>\n",
       "    <tr>\n",
       "      <th>9</th>\n",
       "      <td>10</td>\n",
       "      <td>Denver</td>\n",
       "      <td>Broncos</td>\n",
       "      <td>456</td>\n",
       "      <td>386</td>\n",
       "      <td>10</td>\n",
       "      <td>0.541</td>\n",
       "      <td>1960.000</td>\n",
       "      <td>852</td>\n",
       "      <td>AFC</td>\n",
       "      <td>West</td>\n",
       "      <td>NaN</td>\n",
       "    </tr>\n",
       "    <tr>\n",
       "      <th>10</th>\n",
       "      <td>11</td>\n",
       "      <td>Indianapolis</td>\n",
       "      <td>Colts</td>\n",
       "      <td>494</td>\n",
       "      <td>433</td>\n",
       "      <td>7</td>\n",
       "      <td>0.533</td>\n",
       "      <td>1953.000</td>\n",
       "      <td>934</td>\n",
       "      <td>AFC</td>\n",
       "      <td>South</td>\n",
       "      <td>NaN</td>\n",
       "    </tr>\n",
       "    <tr>\n",
       "      <th>11</th>\n",
       "      <td>12</td>\n",
       "      <td>Oakland</td>\n",
       "      <td>Raiders</td>\n",
       "      <td>444</td>\n",
       "      <td>397</td>\n",
       "      <td>11</td>\n",
       "      <td>0.528</td>\n",
       "      <td>1960.000</td>\n",
       "      <td>852</td>\n",
       "      <td>AFC</td>\n",
       "      <td>West</td>\n",
       "      <td>NaN</td>\n",
       "    </tr>\n",
       "    <tr>\n",
       "      <th>12</th>\n",
       "      <td>13</td>\n",
       "      <td>Pittsburgh</td>\n",
       "      <td>Steelers</td>\n",
       "      <td>590</td>\n",
       "      <td>530</td>\n",
       "      <td>20</td>\n",
       "      <td>0.526</td>\n",
       "      <td>1933.000</td>\n",
       "      <td>1,140</td>\n",
       "      <td>AFC</td>\n",
       "      <td>North</td>\n",
       "      <td>NaN</td>\n",
       "    </tr>\n",
       "    <tr>\n",
       "      <th>13</th>\n",
       "      <td>14</td>\n",
       "      <td>Kansas</td>\n",
       "      <td>City</td>\n",
       "      <td>Chiefs</td>\n",
       "      <td>435</td>\n",
       "      <td>405</td>\n",
       "      <td>12.000</td>\n",
       "      <td>0.518</td>\n",
       "      <td>1960</td>\n",
       "      <td>852</td>\n",
       "      <td>AFC</td>\n",
       "      <td>West</td>\n",
       "    </tr>\n",
       "    <tr>\n",
       "      <th>14</th>\n",
       "      <td>15</td>\n",
       "      <td>Washington</td>\n",
       "      <td>Redskins</td>\n",
       "      <td>578</td>\n",
       "      <td>565</td>\n",
       "      <td>27</td>\n",
       "      <td>0.506</td>\n",
       "      <td>1932.000</td>\n",
       "      <td>1,170</td>\n",
       "      <td>NFC</td>\n",
       "      <td>East</td>\n",
       "      <td>NaN</td>\n",
       "    </tr>\n",
       "    <tr>\n",
       "      <th>15</th>\n",
       "      <td>16</td>\n",
       "      <td>Cleveland</td>\n",
       "      <td>Browns</td>\n",
       "      <td>461</td>\n",
       "      <td>451</td>\n",
       "      <td>10</td>\n",
       "      <td>0.505</td>\n",
       "      <td>1950.000</td>\n",
       "      <td>922</td>\n",
       "      <td>AFC</td>\n",
       "      <td>North</td>\n",
       "      <td>NaN</td>\n",
       "    </tr>\n",
       "    <tr>\n",
       "      <th>16</th>\n",
       "      <td>17</td>\n",
       "      <td>Seattle</td>\n",
       "      <td>Seahawks</td>\n",
       "      <td>315</td>\n",
       "      <td>313</td>\n",
       "      <td>0</td>\n",
       "      <td>0.502</td>\n",
       "      <td>1976.000</td>\n",
       "      <td>628</td>\n",
       "      <td>NFC</td>\n",
       "      <td>West</td>\n",
       "      <td>NaN</td>\n",
       "    </tr>\n",
       "    <tr>\n",
       "      <th>17</th>\n",
       "      <td>18</td>\n",
       "      <td>San</td>\n",
       "      <td>Diego</td>\n",
       "      <td>Chargers</td>\n",
       "      <td>421</td>\n",
       "      <td>420</td>\n",
       "      <td>11.000</td>\n",
       "      <td>0.501</td>\n",
       "      <td>1960</td>\n",
       "      <td>852</td>\n",
       "      <td>AFC</td>\n",
       "      <td>West</td>\n",
       "    </tr>\n",
       "    <tr>\n",
       "      <th>18</th>\n",
       "      <td>19</td>\n",
       "      <td>Los</td>\n",
       "      <td>Angeles</td>\n",
       "      <td>Rams</td>\n",
       "      <td>540</td>\n",
       "      <td>542</td>\n",
       "      <td>21.000</td>\n",
       "      <td>0.499</td>\n",
       "      <td>1937</td>\n",
       "      <td>1,103</td>\n",
       "      <td>NFC</td>\n",
       "      <td>West</td>\n",
       "    </tr>\n",
       "    <tr>\n",
       "      <th>19</th>\n",
       "      <td>20</td>\n",
       "      <td>Carolina</td>\n",
       "      <td>Panthers</td>\n",
       "      <td>166</td>\n",
       "      <td>169</td>\n",
       "      <td>1</td>\n",
       "      <td>0.496</td>\n",
       "      <td>1995.000</td>\n",
       "      <td>336</td>\n",
       "      <td>NFC</td>\n",
       "      <td>South</td>\n",
       "      <td>NaN</td>\n",
       "    </tr>\n",
       "    <tr>\n",
       "      <th>20</th>\n",
       "      <td>21</td>\n",
       "      <td>Philadelphia</td>\n",
       "      <td>Eagles</td>\n",
       "      <td>548</td>\n",
       "      <td>582</td>\n",
       "      <td>26</td>\n",
       "      <td>0.485</td>\n",
       "      <td>1933.000</td>\n",
       "      <td>1,156</td>\n",
       "      <td>NFC</td>\n",
       "      <td>East</td>\n",
       "      <td>NaN</td>\n",
       "    </tr>\n",
       "    <tr>\n",
       "      <th>21</th>\n",
       "      <td>22</td>\n",
       "      <td>Tennessee</td>\n",
       "      <td>Titans</td>\n",
       "      <td>404</td>\n",
       "      <td>442</td>\n",
       "      <td>6</td>\n",
       "      <td>0.478</td>\n",
       "      <td>1960.000</td>\n",
       "      <td>852</td>\n",
       "      <td>AFC</td>\n",
       "      <td>South</td>\n",
       "      <td>NaN</td>\n",
       "    </tr>\n",
       "    <tr>\n",
       "      <th>22</th>\n",
       "      <td>23</td>\n",
       "      <td>Buffalo</td>\n",
       "      <td>Bills</td>\n",
       "      <td>393</td>\n",
       "      <td>451</td>\n",
       "      <td>8</td>\n",
       "      <td>0.466</td>\n",
       "      <td>1960.000</td>\n",
       "      <td>852</td>\n",
       "      <td>AFC</td>\n",
       "      <td>East</td>\n",
       "      <td>NaN</td>\n",
       "    </tr>\n",
       "    <tr>\n",
       "      <th>23</th>\n",
       "      <td>24</td>\n",
       "      <td>New</td>\n",
       "      <td>York</td>\n",
       "      <td>Jets</td>\n",
       "      <td>387</td>\n",
       "      <td>457</td>\n",
       "      <td>8.000</td>\n",
       "      <td>0.459</td>\n",
       "      <td>1960</td>\n",
       "      <td>852</td>\n",
       "      <td>AFC</td>\n",
       "      <td>East</td>\n",
       "    </tr>\n",
       "    <tr>\n",
       "      <th>24</th>\n",
       "      <td>25</td>\n",
       "      <td>Detroit</td>\n",
       "      <td>Lions</td>\n",
       "      <td>535</td>\n",
       "      <td>634</td>\n",
       "      <td>32</td>\n",
       "      <td>0.459</td>\n",
       "      <td>1930.000</td>\n",
       "      <td>1,201</td>\n",
       "      <td>NFC</td>\n",
       "      <td>North</td>\n",
       "      <td>NaN</td>\n",
       "    </tr>\n",
       "    <tr>\n",
       "      <th>25</th>\n",
       "      <td>26</td>\n",
       "      <td>Cincinnati</td>\n",
       "      <td>Bengals</td>\n",
       "      <td>338</td>\n",
       "      <td>399</td>\n",
       "      <td>3</td>\n",
       "      <td>0.459</td>\n",
       "      <td>1968.000</td>\n",
       "      <td>740</td>\n",
       "      <td>AFC</td>\n",
       "      <td>North</td>\n",
       "      <td>NaN</td>\n",
       "    </tr>\n",
       "    <tr>\n",
       "      <th>26</th>\n",
       "      <td>27</td>\n",
       "      <td>Jacksonville</td>\n",
       "      <td>Jaguars</td>\n",
       "      <td>152</td>\n",
       "      <td>184</td>\n",
       "      <td>0</td>\n",
       "      <td>0.452</td>\n",
       "      <td>1995.000</td>\n",
       "      <td>336</td>\n",
       "      <td>AFC</td>\n",
       "      <td>South</td>\n",
       "      <td>NaN</td>\n",
       "    </tr>\n",
       "    <tr>\n",
       "      <th>27</th>\n",
       "      <td>28</td>\n",
       "      <td>New</td>\n",
       "      <td>Orleans</td>\n",
       "      <td>Saints</td>\n",
       "      <td>331</td>\n",
       "      <td>418</td>\n",
       "      <td>5.000</td>\n",
       "      <td>0.442</td>\n",
       "      <td>1967</td>\n",
       "      <td>754</td>\n",
       "      <td>NFC</td>\n",
       "      <td>South</td>\n",
       "    </tr>\n",
       "    <tr>\n",
       "      <th>28</th>\n",
       "      <td>29</td>\n",
       "      <td>Atlanta</td>\n",
       "      <td>Falcons</td>\n",
       "      <td>330</td>\n",
       "      <td>432</td>\n",
       "      <td>6</td>\n",
       "      <td>0.434</td>\n",
       "      <td>1966.000</td>\n",
       "      <td>768</td>\n",
       "      <td>NFC</td>\n",
       "      <td>South</td>\n",
       "      <td>NaN</td>\n",
       "    </tr>\n",
       "    <tr>\n",
       "      <th>29</th>\n",
       "      <td>30</td>\n",
       "      <td>Houston</td>\n",
       "      <td>Texans</td>\n",
       "      <td>97</td>\n",
       "      <td>127</td>\n",
       "      <td>0</td>\n",
       "      <td>0.433</td>\n",
       "      <td>2002.000</td>\n",
       "      <td>224</td>\n",
       "      <td>AFC</td>\n",
       "      <td>South</td>\n",
       "      <td>NaN</td>\n",
       "    </tr>\n",
       "    <tr>\n",
       "      <th>30</th>\n",
       "      <td>31</td>\n",
       "      <td>Arizona</td>\n",
       "      <td>Cardinals</td>\n",
       "      <td>535</td>\n",
       "      <td>724</td>\n",
       "      <td>39</td>\n",
       "      <td>0.427</td>\n",
       "      <td>1920.000</td>\n",
       "      <td>1,298</td>\n",
       "      <td>NFC</td>\n",
       "      <td>West</td>\n",
       "      <td>NaN</td>\n",
       "    </tr>\n",
       "    <tr>\n",
       "      <th>31</th>\n",
       "      <td>32</td>\n",
       "      <td>Tampa</td>\n",
       "      <td>Bay</td>\n",
       "      <td>Buccaneers</td>\n",
       "      <td>241</td>\n",
       "      <td>386</td>\n",
       "      <td>1.000</td>\n",
       "      <td>0.385</td>\n",
       "      <td>1976</td>\n",
       "      <td>628</td>\n",
       "      <td>NFC</td>\n",
       "      <td>South</td>\n",
       "    </tr>\n",
       "  </tbody>\n",
       "</table>\n",
       "</div>"
      ],
      "text/plain": [
       "    Rank          Team        Won        Lost  Tied  Pct.   First       NFL  \\\n",
       "0      1       Chicago      Bears         741   555    42   0.570  1920.000   \n",
       "1      2        Dallas    Cowboys         480   364     6   0.568  1960.000   \n",
       "2      3         Green        Bay     Packers   720   547  37.000     0.566   \n",
       "3      4         Miami   Dolphins         429   335     4   0.561  1966.000   \n",
       "4      5           New    England    Patriots   462   381   9.000     0.548   \n",
       "5      6           San  Francisco       49ers   520   436  14.000     0.543   \n",
       "6      7     Baltimore     Ravens         173   146     1   0.542  1996.000   \n",
       "7      8     Minnesota    Vikings         449   379    10   0.542  1961.000   \n",
       "8      9           New       York      Giants   673   567  33.000     0.542   \n",
       "9     10        Denver    Broncos         456   386    10   0.541  1960.000   \n",
       "10    11  Indianapolis      Colts         494   433     7   0.533  1953.000   \n",
       "11    12       Oakland    Raiders         444   397    11   0.528  1960.000   \n",
       "12    13    Pittsburgh   Steelers         590   530    20   0.526  1933.000   \n",
       "13    14        Kansas       City      Chiefs   435   405  12.000     0.518   \n",
       "14    15    Washington   Redskins         578   565    27   0.506  1932.000   \n",
       "15    16     Cleveland     Browns         461   451    10   0.505  1950.000   \n",
       "16    17       Seattle   Seahawks         315   313     0   0.502  1976.000   \n",
       "17    18           San      Diego    Chargers   421   420  11.000     0.501   \n",
       "18    19           Los    Angeles        Rams   540   542  21.000     0.499   \n",
       "19    20      Carolina   Panthers         166   169     1   0.496  1995.000   \n",
       "20    21  Philadelphia     Eagles         548   582    26   0.485  1933.000   \n",
       "21    22     Tennessee     Titans         404   442     6   0.478  1960.000   \n",
       "22    23       Buffalo      Bills         393   451     8   0.466  1960.000   \n",
       "23    24           New       York        Jets   387   457   8.000     0.459   \n",
       "24    25       Detroit      Lions         535   634    32   0.459  1930.000   \n",
       "25    26    Cincinnati    Bengals         338   399     3   0.459  1968.000   \n",
       "26    27  Jacksonville    Jaguars         152   184     0   0.452  1995.000   \n",
       "27    28           New    Orleans      Saints   331   418   5.000     0.442   \n",
       "28    29       Atlanta    Falcons         330   432     6   0.434  1966.000   \n",
       "29    30       Houston     Texans          97   127     0   0.433  2002.000   \n",
       "30    31       Arizona  Cardinals         535   724    39   0.427  1920.000   \n",
       "31    32         Tampa        Bay  Buccaneers   241   386   1.000     0.385   \n",
       "\n",
       "   Season  Total  Games Division  \n",
       "0   1,338    NFC  North      NaN  \n",
       "1     850    NFC   East      NaN  \n",
       "2    1921  1,304    NFC    North  \n",
       "3     768    AFC   East      NaN  \n",
       "4    1960    852    AFC     East  \n",
       "5    1950    970    NFC     West  \n",
       "6     320    AFC  North      NaN  \n",
       "7     838    NFC  North      NaN  \n",
       "8    1925  1,273    NFC     East  \n",
       "9     852    AFC   West      NaN  \n",
       "10    934    AFC  South      NaN  \n",
       "11    852    AFC   West      NaN  \n",
       "12  1,140    AFC  North      NaN  \n",
       "13   1960    852    AFC     West  \n",
       "14  1,170    NFC   East      NaN  \n",
       "15    922    AFC  North      NaN  \n",
       "16    628    NFC   West      NaN  \n",
       "17   1960    852    AFC     West  \n",
       "18   1937  1,103    NFC     West  \n",
       "19    336    NFC  South      NaN  \n",
       "20  1,156    NFC   East      NaN  \n",
       "21    852    AFC  South      NaN  \n",
       "22    852    AFC   East      NaN  \n",
       "23   1960    852    AFC     East  \n",
       "24  1,201    NFC  North      NaN  \n",
       "25    740    AFC  North      NaN  \n",
       "26    336    AFC  South      NaN  \n",
       "27   1967    754    NFC    South  \n",
       "28    768    NFC  South      NaN  \n",
       "29    224    AFC  South      NaN  \n",
       "30  1,298    NFC   West      NaN  \n",
       "31   1976    628    NFC    South  "
      ]
     },
     "execution_count": 45,
     "metadata": {},
     "output_type": "execute_result"
    }
   ],
   "source": [
    "nfl_frame2"
   ]
  },
  {
   "cell_type": "code",
   "execution_count": 46,
   "metadata": {
    "collapsed": false
   },
   "outputs": [
    {
     "data": {
      "text/plain": [
       "0          Chicago\n",
       "1           Dallas\n",
       "2            Green\n",
       "3            Miami\n",
       "4              New\n",
       "5              San\n",
       "6        Baltimore\n",
       "7        Minnesota\n",
       "8              New\n",
       "9           Denver\n",
       "10    Indianapolis\n",
       "11         Oakland\n",
       "12      Pittsburgh\n",
       "13          Kansas\n",
       "14      Washington\n",
       "15       Cleveland\n",
       "16         Seattle\n",
       "17             San\n",
       "18             Los\n",
       "19        Carolina\n",
       "20    Philadelphia\n",
       "21       Tennessee\n",
       "22         Buffalo\n",
       "23             New\n",
       "24         Detroit\n",
       "25      Cincinnati\n",
       "26    Jacksonville\n",
       "27             New\n",
       "28         Atlanta\n",
       "29         Houston\n",
       "30         Arizona\n",
       "31           Tampa\n",
       "Name: Team, dtype: object"
      ]
     },
     "execution_count": 46,
     "metadata": {},
     "output_type": "execute_result"
    }
   ],
   "source": [
    "nfl_frame2.Team"
   ]
  },
  {
   "cell_type": "code",
   "execution_count": 47,
   "metadata": {
    "collapsed": true
   },
   "outputs": [],
   "source": [
    "###if there are names with two words you have to write it like nfl_frame2['First Season']"
   ]
  },
  {
   "cell_type": "code",
   "execution_count": 48,
   "metadata": {
    "collapsed": false
   },
   "outputs": [
    {
     "data": {
      "text/html": [
       "<div>\n",
       "<table border=\"1\" class=\"dataframe\">\n",
       "  <thead>\n",
       "    <tr style=\"text-align: right;\">\n",
       "      <th></th>\n",
       "      <th>Team</th>\n",
       "      <th>Won</th>\n",
       "      <th>Lost</th>\n",
       "    </tr>\n",
       "  </thead>\n",
       "  <tbody>\n",
       "    <tr>\n",
       "      <th>0</th>\n",
       "      <td>Chicago</td>\n",
       "      <td>Bears</td>\n",
       "      <td>741</td>\n",
       "    </tr>\n",
       "    <tr>\n",
       "      <th>1</th>\n",
       "      <td>Dallas</td>\n",
       "      <td>Cowboys</td>\n",
       "      <td>480</td>\n",
       "    </tr>\n",
       "    <tr>\n",
       "      <th>2</th>\n",
       "      <td>Green</td>\n",
       "      <td>Bay</td>\n",
       "      <td>Packers</td>\n",
       "    </tr>\n",
       "    <tr>\n",
       "      <th>3</th>\n",
       "      <td>Miami</td>\n",
       "      <td>Dolphins</td>\n",
       "      <td>429</td>\n",
       "    </tr>\n",
       "    <tr>\n",
       "      <th>4</th>\n",
       "      <td>New</td>\n",
       "      <td>England</td>\n",
       "      <td>Patriots</td>\n",
       "    </tr>\n",
       "    <tr>\n",
       "      <th>5</th>\n",
       "      <td>San</td>\n",
       "      <td>Francisco</td>\n",
       "      <td>49ers</td>\n",
       "    </tr>\n",
       "    <tr>\n",
       "      <th>6</th>\n",
       "      <td>Baltimore</td>\n",
       "      <td>Ravens</td>\n",
       "      <td>173</td>\n",
       "    </tr>\n",
       "    <tr>\n",
       "      <th>7</th>\n",
       "      <td>Minnesota</td>\n",
       "      <td>Vikings</td>\n",
       "      <td>449</td>\n",
       "    </tr>\n",
       "    <tr>\n",
       "      <th>8</th>\n",
       "      <td>New</td>\n",
       "      <td>York</td>\n",
       "      <td>Giants</td>\n",
       "    </tr>\n",
       "    <tr>\n",
       "      <th>9</th>\n",
       "      <td>Denver</td>\n",
       "      <td>Broncos</td>\n",
       "      <td>456</td>\n",
       "    </tr>\n",
       "    <tr>\n",
       "      <th>10</th>\n",
       "      <td>Indianapolis</td>\n",
       "      <td>Colts</td>\n",
       "      <td>494</td>\n",
       "    </tr>\n",
       "    <tr>\n",
       "      <th>11</th>\n",
       "      <td>Oakland</td>\n",
       "      <td>Raiders</td>\n",
       "      <td>444</td>\n",
       "    </tr>\n",
       "    <tr>\n",
       "      <th>12</th>\n",
       "      <td>Pittsburgh</td>\n",
       "      <td>Steelers</td>\n",
       "      <td>590</td>\n",
       "    </tr>\n",
       "    <tr>\n",
       "      <th>13</th>\n",
       "      <td>Kansas</td>\n",
       "      <td>City</td>\n",
       "      <td>Chiefs</td>\n",
       "    </tr>\n",
       "    <tr>\n",
       "      <th>14</th>\n",
       "      <td>Washington</td>\n",
       "      <td>Redskins</td>\n",
       "      <td>578</td>\n",
       "    </tr>\n",
       "    <tr>\n",
       "      <th>15</th>\n",
       "      <td>Cleveland</td>\n",
       "      <td>Browns</td>\n",
       "      <td>461</td>\n",
       "    </tr>\n",
       "    <tr>\n",
       "      <th>16</th>\n",
       "      <td>Seattle</td>\n",
       "      <td>Seahawks</td>\n",
       "      <td>315</td>\n",
       "    </tr>\n",
       "    <tr>\n",
       "      <th>17</th>\n",
       "      <td>San</td>\n",
       "      <td>Diego</td>\n",
       "      <td>Chargers</td>\n",
       "    </tr>\n",
       "    <tr>\n",
       "      <th>18</th>\n",
       "      <td>Los</td>\n",
       "      <td>Angeles</td>\n",
       "      <td>Rams</td>\n",
       "    </tr>\n",
       "    <tr>\n",
       "      <th>19</th>\n",
       "      <td>Carolina</td>\n",
       "      <td>Panthers</td>\n",
       "      <td>166</td>\n",
       "    </tr>\n",
       "    <tr>\n",
       "      <th>20</th>\n",
       "      <td>Philadelphia</td>\n",
       "      <td>Eagles</td>\n",
       "      <td>548</td>\n",
       "    </tr>\n",
       "    <tr>\n",
       "      <th>21</th>\n",
       "      <td>Tennessee</td>\n",
       "      <td>Titans</td>\n",
       "      <td>404</td>\n",
       "    </tr>\n",
       "    <tr>\n",
       "      <th>22</th>\n",
       "      <td>Buffalo</td>\n",
       "      <td>Bills</td>\n",
       "      <td>393</td>\n",
       "    </tr>\n",
       "    <tr>\n",
       "      <th>23</th>\n",
       "      <td>New</td>\n",
       "      <td>York</td>\n",
       "      <td>Jets</td>\n",
       "    </tr>\n",
       "    <tr>\n",
       "      <th>24</th>\n",
       "      <td>Detroit</td>\n",
       "      <td>Lions</td>\n",
       "      <td>535</td>\n",
       "    </tr>\n",
       "    <tr>\n",
       "      <th>25</th>\n",
       "      <td>Cincinnati</td>\n",
       "      <td>Bengals</td>\n",
       "      <td>338</td>\n",
       "    </tr>\n",
       "    <tr>\n",
       "      <th>26</th>\n",
       "      <td>Jacksonville</td>\n",
       "      <td>Jaguars</td>\n",
       "      <td>152</td>\n",
       "    </tr>\n",
       "    <tr>\n",
       "      <th>27</th>\n",
       "      <td>New</td>\n",
       "      <td>Orleans</td>\n",
       "      <td>Saints</td>\n",
       "    </tr>\n",
       "    <tr>\n",
       "      <th>28</th>\n",
       "      <td>Atlanta</td>\n",
       "      <td>Falcons</td>\n",
       "      <td>330</td>\n",
       "    </tr>\n",
       "    <tr>\n",
       "      <th>29</th>\n",
       "      <td>Houston</td>\n",
       "      <td>Texans</td>\n",
       "      <td>97</td>\n",
       "    </tr>\n",
       "    <tr>\n",
       "      <th>30</th>\n",
       "      <td>Arizona</td>\n",
       "      <td>Cardinals</td>\n",
       "      <td>535</td>\n",
       "    </tr>\n",
       "    <tr>\n",
       "      <th>31</th>\n",
       "      <td>Tampa</td>\n",
       "      <td>Bay</td>\n",
       "      <td>Buccaneers</td>\n",
       "    </tr>\n",
       "  </tbody>\n",
       "</table>\n",
       "</div>"
      ],
      "text/plain": [
       "            Team        Won        Lost\n",
       "0        Chicago      Bears         741\n",
       "1         Dallas    Cowboys         480\n",
       "2          Green        Bay     Packers\n",
       "3          Miami   Dolphins         429\n",
       "4            New    England    Patriots\n",
       "5            San  Francisco       49ers\n",
       "6      Baltimore     Ravens         173\n",
       "7      Minnesota    Vikings         449\n",
       "8            New       York      Giants\n",
       "9         Denver    Broncos         456\n",
       "10  Indianapolis      Colts         494\n",
       "11       Oakland    Raiders         444\n",
       "12    Pittsburgh   Steelers         590\n",
       "13        Kansas       City      Chiefs\n",
       "14    Washington   Redskins         578\n",
       "15     Cleveland     Browns         461\n",
       "16       Seattle   Seahawks         315\n",
       "17           San      Diego    Chargers\n",
       "18           Los    Angeles        Rams\n",
       "19      Carolina   Panthers         166\n",
       "20  Philadelphia     Eagles         548\n",
       "21     Tennessee     Titans         404\n",
       "22       Buffalo      Bills         393\n",
       "23           New       York        Jets\n",
       "24       Detroit      Lions         535\n",
       "25    Cincinnati    Bengals         338\n",
       "26  Jacksonville    Jaguars         152\n",
       "27           New    Orleans      Saints\n",
       "28       Atlanta    Falcons         330\n",
       "29       Houston     Texans          97\n",
       "30       Arizona  Cardinals         535\n",
       "31         Tampa        Bay  Buccaneers"
      ]
     },
     "execution_count": 48,
     "metadata": {},
     "output_type": "execute_result"
    }
   ],
   "source": [
    "###if you want to grap multiple columns\n",
    "\n",
    "DataFrame(nfl_frame2, columns=['Team', 'Won', 'Lost'])"
   ]
  },
  {
   "cell_type": "code",
   "execution_count": 49,
   "metadata": {
    "collapsed": false
   },
   "outputs": [
    {
     "data": {
      "text/html": [
       "<div>\n",
       "<table border=\"1\" class=\"dataframe\">\n",
       "  <thead>\n",
       "    <tr style=\"text-align: right;\">\n",
       "      <th></th>\n",
       "      <th>Rank</th>\n",
       "      <th>Team</th>\n",
       "      <th>Won</th>\n",
       "      <th>Lost</th>\n",
       "      <th>Tied</th>\n",
       "      <th>Pct.</th>\n",
       "      <th>First</th>\n",
       "      <th>NFL</th>\n",
       "      <th>Season</th>\n",
       "      <th>Total</th>\n",
       "      <th>Games</th>\n",
       "      <th>Division</th>\n",
       "    </tr>\n",
       "  </thead>\n",
       "  <tbody>\n",
       "    <tr>\n",
       "      <th>22</th>\n",
       "      <td>23</td>\n",
       "      <td>Buffalo</td>\n",
       "      <td>Bills</td>\n",
       "      <td>393</td>\n",
       "      <td>451</td>\n",
       "      <td>8</td>\n",
       "      <td>0.466</td>\n",
       "      <td>1960.000</td>\n",
       "      <td>852</td>\n",
       "      <td>AFC</td>\n",
       "      <td>East</td>\n",
       "      <td>NaN</td>\n",
       "    </tr>\n",
       "    <tr>\n",
       "      <th>23</th>\n",
       "      <td>24</td>\n",
       "      <td>New</td>\n",
       "      <td>York</td>\n",
       "      <td>Jets</td>\n",
       "      <td>387</td>\n",
       "      <td>457</td>\n",
       "      <td>8.000</td>\n",
       "      <td>0.459</td>\n",
       "      <td>1960</td>\n",
       "      <td>852</td>\n",
       "      <td>AFC</td>\n",
       "      <td>East</td>\n",
       "    </tr>\n",
       "    <tr>\n",
       "      <th>24</th>\n",
       "      <td>25</td>\n",
       "      <td>Detroit</td>\n",
       "      <td>Lions</td>\n",
       "      <td>535</td>\n",
       "      <td>634</td>\n",
       "      <td>32</td>\n",
       "      <td>0.459</td>\n",
       "      <td>1930.000</td>\n",
       "      <td>1,201</td>\n",
       "      <td>NFC</td>\n",
       "      <td>North</td>\n",
       "      <td>NaN</td>\n",
       "    </tr>\n",
       "    <tr>\n",
       "      <th>25</th>\n",
       "      <td>26</td>\n",
       "      <td>Cincinnati</td>\n",
       "      <td>Bengals</td>\n",
       "      <td>338</td>\n",
       "      <td>399</td>\n",
       "      <td>3</td>\n",
       "      <td>0.459</td>\n",
       "      <td>1968.000</td>\n",
       "      <td>740</td>\n",
       "      <td>AFC</td>\n",
       "      <td>North</td>\n",
       "      <td>NaN</td>\n",
       "    </tr>\n",
       "    <tr>\n",
       "      <th>26</th>\n",
       "      <td>27</td>\n",
       "      <td>Jacksonville</td>\n",
       "      <td>Jaguars</td>\n",
       "      <td>152</td>\n",
       "      <td>184</td>\n",
       "      <td>0</td>\n",
       "      <td>0.452</td>\n",
       "      <td>1995.000</td>\n",
       "      <td>336</td>\n",
       "      <td>AFC</td>\n",
       "      <td>South</td>\n",
       "      <td>NaN</td>\n",
       "    </tr>\n",
       "    <tr>\n",
       "      <th>27</th>\n",
       "      <td>28</td>\n",
       "      <td>New</td>\n",
       "      <td>Orleans</td>\n",
       "      <td>Saints</td>\n",
       "      <td>331</td>\n",
       "      <td>418</td>\n",
       "      <td>5.000</td>\n",
       "      <td>0.442</td>\n",
       "      <td>1967</td>\n",
       "      <td>754</td>\n",
       "      <td>NFC</td>\n",
       "      <td>South</td>\n",
       "    </tr>\n",
       "    <tr>\n",
       "      <th>28</th>\n",
       "      <td>29</td>\n",
       "      <td>Atlanta</td>\n",
       "      <td>Falcons</td>\n",
       "      <td>330</td>\n",
       "      <td>432</td>\n",
       "      <td>6</td>\n",
       "      <td>0.434</td>\n",
       "      <td>1966.000</td>\n",
       "      <td>768</td>\n",
       "      <td>NFC</td>\n",
       "      <td>South</td>\n",
       "      <td>NaN</td>\n",
       "    </tr>\n",
       "    <tr>\n",
       "      <th>29</th>\n",
       "      <td>30</td>\n",
       "      <td>Houston</td>\n",
       "      <td>Texans</td>\n",
       "      <td>97</td>\n",
       "      <td>127</td>\n",
       "      <td>0</td>\n",
       "      <td>0.433</td>\n",
       "      <td>2002.000</td>\n",
       "      <td>224</td>\n",
       "      <td>AFC</td>\n",
       "      <td>South</td>\n",
       "      <td>NaN</td>\n",
       "    </tr>\n",
       "    <tr>\n",
       "      <th>30</th>\n",
       "      <td>31</td>\n",
       "      <td>Arizona</td>\n",
       "      <td>Cardinals</td>\n",
       "      <td>535</td>\n",
       "      <td>724</td>\n",
       "      <td>39</td>\n",
       "      <td>0.427</td>\n",
       "      <td>1920.000</td>\n",
       "      <td>1,298</td>\n",
       "      <td>NFC</td>\n",
       "      <td>West</td>\n",
       "      <td>NaN</td>\n",
       "    </tr>\n",
       "    <tr>\n",
       "      <th>31</th>\n",
       "      <td>32</td>\n",
       "      <td>Tampa</td>\n",
       "      <td>Bay</td>\n",
       "      <td>Buccaneers</td>\n",
       "      <td>241</td>\n",
       "      <td>386</td>\n",
       "      <td>1.000</td>\n",
       "      <td>0.385</td>\n",
       "      <td>1976</td>\n",
       "      <td>628</td>\n",
       "      <td>NFC</td>\n",
       "      <td>South</td>\n",
       "    </tr>\n",
       "  </tbody>\n",
       "</table>\n",
       "</div>"
      ],
      "text/plain": [
       "    Rank          Team        Won        Lost  Tied  Pct.  First       NFL  \\\n",
       "22    23       Buffalo      Bills         393   451     8  0.466  1960.000   \n",
       "23    24           New       York        Jets   387   457  8.000     0.459   \n",
       "24    25       Detroit      Lions         535   634    32  0.459  1930.000   \n",
       "25    26    Cincinnati    Bengals         338   399     3  0.459  1968.000   \n",
       "26    27  Jacksonville    Jaguars         152   184     0  0.452  1995.000   \n",
       "27    28           New    Orleans      Saints   331   418  5.000     0.442   \n",
       "28    29       Atlanta    Falcons         330   432     6  0.434  1966.000   \n",
       "29    30       Houston     Texans          97   127     0  0.433  2002.000   \n",
       "30    31       Arizona  Cardinals         535   724    39  0.427  1920.000   \n",
       "31    32         Tampa        Bay  Buccaneers   241   386  1.000     0.385   \n",
       "\n",
       "   Season Total  Games Division  \n",
       "22    852   AFC   East      NaN  \n",
       "23   1960   852    AFC     East  \n",
       "24  1,201   NFC  North      NaN  \n",
       "25    740   AFC  North      NaN  \n",
       "26    336   AFC  South      NaN  \n",
       "27   1967   754    NFC    South  \n",
       "28    768   NFC  South      NaN  \n",
       "29    224   AFC  South      NaN  \n",
       "30  1,298   NFC   West      NaN  \n",
       "31   1976   628    NFC    South  "
      ]
     },
     "execution_count": 49,
     "metadata": {},
     "output_type": "execute_result"
    }
   ],
   "source": [
    "###first five rows\n",
    "nfl_frame2.head()\n",
    "###first 10\n",
    "nfl_frame2.head(10)\n",
    "\n",
    "###last 10\n",
    "nfl_frame2.tail(10)\n",
    "\n"
   ]
  },
  {
   "cell_type": "code",
   "execution_count": 51,
   "metadata": {
    "collapsed": false
   },
   "outputs": [
    {
     "data": {
      "text/plain": [
       "Rank               4\n",
       "Team           Miami\n",
       "Won         Dolphins\n",
       "Lost             429\n",
       "Tied             335\n",
       "Pct.               4\n",
       "First          0.561\n",
       "NFL             1966\n",
       "Season           768\n",
       "Total            AFC\n",
       "Games           East\n",
       "Division         NaN\n",
       "Name: 3, dtype: object"
      ]
     },
     "execution_count": 51,
     "metadata": {},
     "output_type": "execute_result"
    }
   ],
   "source": [
    "###indexing dataframe choose the index 3 row (i.e. the forth)\n",
    "\n",
    "nfl_frame2.ix[3]"
   ]
  },
  {
   "cell_type": "code",
   "execution_count": 52,
   "metadata": {
    "collapsed": true
   },
   "outputs": [],
   "source": [
    "###adding values\n",
    "nfl_frame2['Stadium']=\"Levi's stadium\""
   ]
  },
  {
   "cell_type": "code",
   "execution_count": 53,
   "metadata": {
    "collapsed": false
   },
   "outputs": [
    {
     "data": {
      "text/html": [
       "<div>\n",
       "<table border=\"1\" class=\"dataframe\">\n",
       "  <thead>\n",
       "    <tr style=\"text-align: right;\">\n",
       "      <th></th>\n",
       "      <th>Rank</th>\n",
       "      <th>Team</th>\n",
       "      <th>Won</th>\n",
       "      <th>Lost</th>\n",
       "      <th>Tied</th>\n",
       "      <th>Pct.</th>\n",
       "      <th>First</th>\n",
       "      <th>NFL</th>\n",
       "      <th>Season</th>\n",
       "      <th>Total</th>\n",
       "      <th>Games</th>\n",
       "      <th>Division</th>\n",
       "      <th>Stadium</th>\n",
       "    </tr>\n",
       "  </thead>\n",
       "  <tbody>\n",
       "    <tr>\n",
       "      <th>0</th>\n",
       "      <td>1</td>\n",
       "      <td>Chicago</td>\n",
       "      <td>Bears</td>\n",
       "      <td>741</td>\n",
       "      <td>555</td>\n",
       "      <td>42</td>\n",
       "      <td>0.570</td>\n",
       "      <td>1920.000</td>\n",
       "      <td>1,338</td>\n",
       "      <td>NFC</td>\n",
       "      <td>North</td>\n",
       "      <td>NaN</td>\n",
       "      <td>Levi's stadium</td>\n",
       "    </tr>\n",
       "    <tr>\n",
       "      <th>1</th>\n",
       "      <td>2</td>\n",
       "      <td>Dallas</td>\n",
       "      <td>Cowboys</td>\n",
       "      <td>480</td>\n",
       "      <td>364</td>\n",
       "      <td>6</td>\n",
       "      <td>0.568</td>\n",
       "      <td>1960.000</td>\n",
       "      <td>850</td>\n",
       "      <td>NFC</td>\n",
       "      <td>East</td>\n",
       "      <td>NaN</td>\n",
       "      <td>Levi's stadium</td>\n",
       "    </tr>\n",
       "    <tr>\n",
       "      <th>2</th>\n",
       "      <td>3</td>\n",
       "      <td>Green</td>\n",
       "      <td>Bay</td>\n",
       "      <td>Packers</td>\n",
       "      <td>720</td>\n",
       "      <td>547</td>\n",
       "      <td>37.000</td>\n",
       "      <td>0.566</td>\n",
       "      <td>1921</td>\n",
       "      <td>1,304</td>\n",
       "      <td>NFC</td>\n",
       "      <td>North</td>\n",
       "      <td>Levi's stadium</td>\n",
       "    </tr>\n",
       "    <tr>\n",
       "      <th>3</th>\n",
       "      <td>4</td>\n",
       "      <td>Miami</td>\n",
       "      <td>Dolphins</td>\n",
       "      <td>429</td>\n",
       "      <td>335</td>\n",
       "      <td>4</td>\n",
       "      <td>0.561</td>\n",
       "      <td>1966.000</td>\n",
       "      <td>768</td>\n",
       "      <td>AFC</td>\n",
       "      <td>East</td>\n",
       "      <td>NaN</td>\n",
       "      <td>Levi's stadium</td>\n",
       "    </tr>\n",
       "    <tr>\n",
       "      <th>4</th>\n",
       "      <td>5</td>\n",
       "      <td>New</td>\n",
       "      <td>England</td>\n",
       "      <td>Patriots</td>\n",
       "      <td>462</td>\n",
       "      <td>381</td>\n",
       "      <td>9.000</td>\n",
       "      <td>0.548</td>\n",
       "      <td>1960</td>\n",
       "      <td>852</td>\n",
       "      <td>AFC</td>\n",
       "      <td>East</td>\n",
       "      <td>Levi's stadium</td>\n",
       "    </tr>\n",
       "    <tr>\n",
       "      <th>5</th>\n",
       "      <td>6</td>\n",
       "      <td>San</td>\n",
       "      <td>Francisco</td>\n",
       "      <td>49ers</td>\n",
       "      <td>520</td>\n",
       "      <td>436</td>\n",
       "      <td>14.000</td>\n",
       "      <td>0.543</td>\n",
       "      <td>1950</td>\n",
       "      <td>970</td>\n",
       "      <td>NFC</td>\n",
       "      <td>West</td>\n",
       "      <td>Levi's stadium</td>\n",
       "    </tr>\n",
       "    <tr>\n",
       "      <th>6</th>\n",
       "      <td>7</td>\n",
       "      <td>Baltimore</td>\n",
       "      <td>Ravens</td>\n",
       "      <td>173</td>\n",
       "      <td>146</td>\n",
       "      <td>1</td>\n",
       "      <td>0.542</td>\n",
       "      <td>1996.000</td>\n",
       "      <td>320</td>\n",
       "      <td>AFC</td>\n",
       "      <td>North</td>\n",
       "      <td>NaN</td>\n",
       "      <td>Levi's stadium</td>\n",
       "    </tr>\n",
       "    <tr>\n",
       "      <th>7</th>\n",
       "      <td>8</td>\n",
       "      <td>Minnesota</td>\n",
       "      <td>Vikings</td>\n",
       "      <td>449</td>\n",
       "      <td>379</td>\n",
       "      <td>10</td>\n",
       "      <td>0.542</td>\n",
       "      <td>1961.000</td>\n",
       "      <td>838</td>\n",
       "      <td>NFC</td>\n",
       "      <td>North</td>\n",
       "      <td>NaN</td>\n",
       "      <td>Levi's stadium</td>\n",
       "    </tr>\n",
       "    <tr>\n",
       "      <th>8</th>\n",
       "      <td>9</td>\n",
       "      <td>New</td>\n",
       "      <td>York</td>\n",
       "      <td>Giants</td>\n",
       "      <td>673</td>\n",
       "      <td>567</td>\n",
       "      <td>33.000</td>\n",
       "      <td>0.542</td>\n",
       "      <td>1925</td>\n",
       "      <td>1,273</td>\n",
       "      <td>NFC</td>\n",
       "      <td>East</td>\n",
       "      <td>Levi's stadium</td>\n",
       "    </tr>\n",
       "    <tr>\n",
       "      <th>9</th>\n",
       "      <td>10</td>\n",
       "      <td>Denver</td>\n",
       "      <td>Broncos</td>\n",
       "      <td>456</td>\n",
       "      <td>386</td>\n",
       "      <td>10</td>\n",
       "      <td>0.541</td>\n",
       "      <td>1960.000</td>\n",
       "      <td>852</td>\n",
       "      <td>AFC</td>\n",
       "      <td>West</td>\n",
       "      <td>NaN</td>\n",
       "      <td>Levi's stadium</td>\n",
       "    </tr>\n",
       "    <tr>\n",
       "      <th>10</th>\n",
       "      <td>11</td>\n",
       "      <td>Indianapolis</td>\n",
       "      <td>Colts</td>\n",
       "      <td>494</td>\n",
       "      <td>433</td>\n",
       "      <td>7</td>\n",
       "      <td>0.533</td>\n",
       "      <td>1953.000</td>\n",
       "      <td>934</td>\n",
       "      <td>AFC</td>\n",
       "      <td>South</td>\n",
       "      <td>NaN</td>\n",
       "      <td>Levi's stadium</td>\n",
       "    </tr>\n",
       "    <tr>\n",
       "      <th>11</th>\n",
       "      <td>12</td>\n",
       "      <td>Oakland</td>\n",
       "      <td>Raiders</td>\n",
       "      <td>444</td>\n",
       "      <td>397</td>\n",
       "      <td>11</td>\n",
       "      <td>0.528</td>\n",
       "      <td>1960.000</td>\n",
       "      <td>852</td>\n",
       "      <td>AFC</td>\n",
       "      <td>West</td>\n",
       "      <td>NaN</td>\n",
       "      <td>Levi's stadium</td>\n",
       "    </tr>\n",
       "    <tr>\n",
       "      <th>12</th>\n",
       "      <td>13</td>\n",
       "      <td>Pittsburgh</td>\n",
       "      <td>Steelers</td>\n",
       "      <td>590</td>\n",
       "      <td>530</td>\n",
       "      <td>20</td>\n",
       "      <td>0.526</td>\n",
       "      <td>1933.000</td>\n",
       "      <td>1,140</td>\n",
       "      <td>AFC</td>\n",
       "      <td>North</td>\n",
       "      <td>NaN</td>\n",
       "      <td>Levi's stadium</td>\n",
       "    </tr>\n",
       "    <tr>\n",
       "      <th>13</th>\n",
       "      <td>14</td>\n",
       "      <td>Kansas</td>\n",
       "      <td>City</td>\n",
       "      <td>Chiefs</td>\n",
       "      <td>435</td>\n",
       "      <td>405</td>\n",
       "      <td>12.000</td>\n",
       "      <td>0.518</td>\n",
       "      <td>1960</td>\n",
       "      <td>852</td>\n",
       "      <td>AFC</td>\n",
       "      <td>West</td>\n",
       "      <td>Levi's stadium</td>\n",
       "    </tr>\n",
       "    <tr>\n",
       "      <th>14</th>\n",
       "      <td>15</td>\n",
       "      <td>Washington</td>\n",
       "      <td>Redskins</td>\n",
       "      <td>578</td>\n",
       "      <td>565</td>\n",
       "      <td>27</td>\n",
       "      <td>0.506</td>\n",
       "      <td>1932.000</td>\n",
       "      <td>1,170</td>\n",
       "      <td>NFC</td>\n",
       "      <td>East</td>\n",
       "      <td>NaN</td>\n",
       "      <td>Levi's stadium</td>\n",
       "    </tr>\n",
       "    <tr>\n",
       "      <th>15</th>\n",
       "      <td>16</td>\n",
       "      <td>Cleveland</td>\n",
       "      <td>Browns</td>\n",
       "      <td>461</td>\n",
       "      <td>451</td>\n",
       "      <td>10</td>\n",
       "      <td>0.505</td>\n",
       "      <td>1950.000</td>\n",
       "      <td>922</td>\n",
       "      <td>AFC</td>\n",
       "      <td>North</td>\n",
       "      <td>NaN</td>\n",
       "      <td>Levi's stadium</td>\n",
       "    </tr>\n",
       "    <tr>\n",
       "      <th>16</th>\n",
       "      <td>17</td>\n",
       "      <td>Seattle</td>\n",
       "      <td>Seahawks</td>\n",
       "      <td>315</td>\n",
       "      <td>313</td>\n",
       "      <td>0</td>\n",
       "      <td>0.502</td>\n",
       "      <td>1976.000</td>\n",
       "      <td>628</td>\n",
       "      <td>NFC</td>\n",
       "      <td>West</td>\n",
       "      <td>NaN</td>\n",
       "      <td>Levi's stadium</td>\n",
       "    </tr>\n",
       "    <tr>\n",
       "      <th>17</th>\n",
       "      <td>18</td>\n",
       "      <td>San</td>\n",
       "      <td>Diego</td>\n",
       "      <td>Chargers</td>\n",
       "      <td>421</td>\n",
       "      <td>420</td>\n",
       "      <td>11.000</td>\n",
       "      <td>0.501</td>\n",
       "      <td>1960</td>\n",
       "      <td>852</td>\n",
       "      <td>AFC</td>\n",
       "      <td>West</td>\n",
       "      <td>Levi's stadium</td>\n",
       "    </tr>\n",
       "    <tr>\n",
       "      <th>18</th>\n",
       "      <td>19</td>\n",
       "      <td>Los</td>\n",
       "      <td>Angeles</td>\n",
       "      <td>Rams</td>\n",
       "      <td>540</td>\n",
       "      <td>542</td>\n",
       "      <td>21.000</td>\n",
       "      <td>0.499</td>\n",
       "      <td>1937</td>\n",
       "      <td>1,103</td>\n",
       "      <td>NFC</td>\n",
       "      <td>West</td>\n",
       "      <td>Levi's stadium</td>\n",
       "    </tr>\n",
       "    <tr>\n",
       "      <th>19</th>\n",
       "      <td>20</td>\n",
       "      <td>Carolina</td>\n",
       "      <td>Panthers</td>\n",
       "      <td>166</td>\n",
       "      <td>169</td>\n",
       "      <td>1</td>\n",
       "      <td>0.496</td>\n",
       "      <td>1995.000</td>\n",
       "      <td>336</td>\n",
       "      <td>NFC</td>\n",
       "      <td>South</td>\n",
       "      <td>NaN</td>\n",
       "      <td>Levi's stadium</td>\n",
       "    </tr>\n",
       "    <tr>\n",
       "      <th>20</th>\n",
       "      <td>21</td>\n",
       "      <td>Philadelphia</td>\n",
       "      <td>Eagles</td>\n",
       "      <td>548</td>\n",
       "      <td>582</td>\n",
       "      <td>26</td>\n",
       "      <td>0.485</td>\n",
       "      <td>1933.000</td>\n",
       "      <td>1,156</td>\n",
       "      <td>NFC</td>\n",
       "      <td>East</td>\n",
       "      <td>NaN</td>\n",
       "      <td>Levi's stadium</td>\n",
       "    </tr>\n",
       "    <tr>\n",
       "      <th>21</th>\n",
       "      <td>22</td>\n",
       "      <td>Tennessee</td>\n",
       "      <td>Titans</td>\n",
       "      <td>404</td>\n",
       "      <td>442</td>\n",
       "      <td>6</td>\n",
       "      <td>0.478</td>\n",
       "      <td>1960.000</td>\n",
       "      <td>852</td>\n",
       "      <td>AFC</td>\n",
       "      <td>South</td>\n",
       "      <td>NaN</td>\n",
       "      <td>Levi's stadium</td>\n",
       "    </tr>\n",
       "    <tr>\n",
       "      <th>22</th>\n",
       "      <td>23</td>\n",
       "      <td>Buffalo</td>\n",
       "      <td>Bills</td>\n",
       "      <td>393</td>\n",
       "      <td>451</td>\n",
       "      <td>8</td>\n",
       "      <td>0.466</td>\n",
       "      <td>1960.000</td>\n",
       "      <td>852</td>\n",
       "      <td>AFC</td>\n",
       "      <td>East</td>\n",
       "      <td>NaN</td>\n",
       "      <td>Levi's stadium</td>\n",
       "    </tr>\n",
       "    <tr>\n",
       "      <th>23</th>\n",
       "      <td>24</td>\n",
       "      <td>New</td>\n",
       "      <td>York</td>\n",
       "      <td>Jets</td>\n",
       "      <td>387</td>\n",
       "      <td>457</td>\n",
       "      <td>8.000</td>\n",
       "      <td>0.459</td>\n",
       "      <td>1960</td>\n",
       "      <td>852</td>\n",
       "      <td>AFC</td>\n",
       "      <td>East</td>\n",
       "      <td>Levi's stadium</td>\n",
       "    </tr>\n",
       "    <tr>\n",
       "      <th>24</th>\n",
       "      <td>25</td>\n",
       "      <td>Detroit</td>\n",
       "      <td>Lions</td>\n",
       "      <td>535</td>\n",
       "      <td>634</td>\n",
       "      <td>32</td>\n",
       "      <td>0.459</td>\n",
       "      <td>1930.000</td>\n",
       "      <td>1,201</td>\n",
       "      <td>NFC</td>\n",
       "      <td>North</td>\n",
       "      <td>NaN</td>\n",
       "      <td>Levi's stadium</td>\n",
       "    </tr>\n",
       "    <tr>\n",
       "      <th>25</th>\n",
       "      <td>26</td>\n",
       "      <td>Cincinnati</td>\n",
       "      <td>Bengals</td>\n",
       "      <td>338</td>\n",
       "      <td>399</td>\n",
       "      <td>3</td>\n",
       "      <td>0.459</td>\n",
       "      <td>1968.000</td>\n",
       "      <td>740</td>\n",
       "      <td>AFC</td>\n",
       "      <td>North</td>\n",
       "      <td>NaN</td>\n",
       "      <td>Levi's stadium</td>\n",
       "    </tr>\n",
       "    <tr>\n",
       "      <th>26</th>\n",
       "      <td>27</td>\n",
       "      <td>Jacksonville</td>\n",
       "      <td>Jaguars</td>\n",
       "      <td>152</td>\n",
       "      <td>184</td>\n",
       "      <td>0</td>\n",
       "      <td>0.452</td>\n",
       "      <td>1995.000</td>\n",
       "      <td>336</td>\n",
       "      <td>AFC</td>\n",
       "      <td>South</td>\n",
       "      <td>NaN</td>\n",
       "      <td>Levi's stadium</td>\n",
       "    </tr>\n",
       "    <tr>\n",
       "      <th>27</th>\n",
       "      <td>28</td>\n",
       "      <td>New</td>\n",
       "      <td>Orleans</td>\n",
       "      <td>Saints</td>\n",
       "      <td>331</td>\n",
       "      <td>418</td>\n",
       "      <td>5.000</td>\n",
       "      <td>0.442</td>\n",
       "      <td>1967</td>\n",
       "      <td>754</td>\n",
       "      <td>NFC</td>\n",
       "      <td>South</td>\n",
       "      <td>Levi's stadium</td>\n",
       "    </tr>\n",
       "    <tr>\n",
       "      <th>28</th>\n",
       "      <td>29</td>\n",
       "      <td>Atlanta</td>\n",
       "      <td>Falcons</td>\n",
       "      <td>330</td>\n",
       "      <td>432</td>\n",
       "      <td>6</td>\n",
       "      <td>0.434</td>\n",
       "      <td>1966.000</td>\n",
       "      <td>768</td>\n",
       "      <td>NFC</td>\n",
       "      <td>South</td>\n",
       "      <td>NaN</td>\n",
       "      <td>Levi's stadium</td>\n",
       "    </tr>\n",
       "    <tr>\n",
       "      <th>29</th>\n",
       "      <td>30</td>\n",
       "      <td>Houston</td>\n",
       "      <td>Texans</td>\n",
       "      <td>97</td>\n",
       "      <td>127</td>\n",
       "      <td>0</td>\n",
       "      <td>0.433</td>\n",
       "      <td>2002.000</td>\n",
       "      <td>224</td>\n",
       "      <td>AFC</td>\n",
       "      <td>South</td>\n",
       "      <td>NaN</td>\n",
       "      <td>Levi's stadium</td>\n",
       "    </tr>\n",
       "    <tr>\n",
       "      <th>30</th>\n",
       "      <td>31</td>\n",
       "      <td>Arizona</td>\n",
       "      <td>Cardinals</td>\n",
       "      <td>535</td>\n",
       "      <td>724</td>\n",
       "      <td>39</td>\n",
       "      <td>0.427</td>\n",
       "      <td>1920.000</td>\n",
       "      <td>1,298</td>\n",
       "      <td>NFC</td>\n",
       "      <td>West</td>\n",
       "      <td>NaN</td>\n",
       "      <td>Levi's stadium</td>\n",
       "    </tr>\n",
       "    <tr>\n",
       "      <th>31</th>\n",
       "      <td>32</td>\n",
       "      <td>Tampa</td>\n",
       "      <td>Bay</td>\n",
       "      <td>Buccaneers</td>\n",
       "      <td>241</td>\n",
       "      <td>386</td>\n",
       "      <td>1.000</td>\n",
       "      <td>0.385</td>\n",
       "      <td>1976</td>\n",
       "      <td>628</td>\n",
       "      <td>NFC</td>\n",
       "      <td>South</td>\n",
       "      <td>Levi's stadium</td>\n",
       "    </tr>\n",
       "  </tbody>\n",
       "</table>\n",
       "</div>"
      ],
      "text/plain": [
       "    Rank          Team        Won        Lost  Tied  Pct.   First       NFL  \\\n",
       "0      1       Chicago      Bears         741   555    42   0.570  1920.000   \n",
       "1      2        Dallas    Cowboys         480   364     6   0.568  1960.000   \n",
       "2      3         Green        Bay     Packers   720   547  37.000     0.566   \n",
       "3      4         Miami   Dolphins         429   335     4   0.561  1966.000   \n",
       "4      5           New    England    Patriots   462   381   9.000     0.548   \n",
       "5      6           San  Francisco       49ers   520   436  14.000     0.543   \n",
       "6      7     Baltimore     Ravens         173   146     1   0.542  1996.000   \n",
       "7      8     Minnesota    Vikings         449   379    10   0.542  1961.000   \n",
       "8      9           New       York      Giants   673   567  33.000     0.542   \n",
       "9     10        Denver    Broncos         456   386    10   0.541  1960.000   \n",
       "10    11  Indianapolis      Colts         494   433     7   0.533  1953.000   \n",
       "11    12       Oakland    Raiders         444   397    11   0.528  1960.000   \n",
       "12    13    Pittsburgh   Steelers         590   530    20   0.526  1933.000   \n",
       "13    14        Kansas       City      Chiefs   435   405  12.000     0.518   \n",
       "14    15    Washington   Redskins         578   565    27   0.506  1932.000   \n",
       "15    16     Cleveland     Browns         461   451    10   0.505  1950.000   \n",
       "16    17       Seattle   Seahawks         315   313     0   0.502  1976.000   \n",
       "17    18           San      Diego    Chargers   421   420  11.000     0.501   \n",
       "18    19           Los    Angeles        Rams   540   542  21.000     0.499   \n",
       "19    20      Carolina   Panthers         166   169     1   0.496  1995.000   \n",
       "20    21  Philadelphia     Eagles         548   582    26   0.485  1933.000   \n",
       "21    22     Tennessee     Titans         404   442     6   0.478  1960.000   \n",
       "22    23       Buffalo      Bills         393   451     8   0.466  1960.000   \n",
       "23    24           New       York        Jets   387   457   8.000     0.459   \n",
       "24    25       Detroit      Lions         535   634    32   0.459  1930.000   \n",
       "25    26    Cincinnati    Bengals         338   399     3   0.459  1968.000   \n",
       "26    27  Jacksonville    Jaguars         152   184     0   0.452  1995.000   \n",
       "27    28           New    Orleans      Saints   331   418   5.000     0.442   \n",
       "28    29       Atlanta    Falcons         330   432     6   0.434  1966.000   \n",
       "29    30       Houston     Texans          97   127     0   0.433  2002.000   \n",
       "30    31       Arizona  Cardinals         535   724    39   0.427  1920.000   \n",
       "31    32         Tampa        Bay  Buccaneers   241   386   1.000     0.385   \n",
       "\n",
       "   Season  Total  Games Division         Stadium  \n",
       "0   1,338    NFC  North      NaN  Levi's stadium  \n",
       "1     850    NFC   East      NaN  Levi's stadium  \n",
       "2    1921  1,304    NFC    North  Levi's stadium  \n",
       "3     768    AFC   East      NaN  Levi's stadium  \n",
       "4    1960    852    AFC     East  Levi's stadium  \n",
       "5    1950    970    NFC     West  Levi's stadium  \n",
       "6     320    AFC  North      NaN  Levi's stadium  \n",
       "7     838    NFC  North      NaN  Levi's stadium  \n",
       "8    1925  1,273    NFC     East  Levi's stadium  \n",
       "9     852    AFC   West      NaN  Levi's stadium  \n",
       "10    934    AFC  South      NaN  Levi's stadium  \n",
       "11    852    AFC   West      NaN  Levi's stadium  \n",
       "12  1,140    AFC  North      NaN  Levi's stadium  \n",
       "13   1960    852    AFC     West  Levi's stadium  \n",
       "14  1,170    NFC   East      NaN  Levi's stadium  \n",
       "15    922    AFC  North      NaN  Levi's stadium  \n",
       "16    628    NFC   West      NaN  Levi's stadium  \n",
       "17   1960    852    AFC     West  Levi's stadium  \n",
       "18   1937  1,103    NFC     West  Levi's stadium  \n",
       "19    336    NFC  South      NaN  Levi's stadium  \n",
       "20  1,156    NFC   East      NaN  Levi's stadium  \n",
       "21    852    AFC  South      NaN  Levi's stadium  \n",
       "22    852    AFC   East      NaN  Levi's stadium  \n",
       "23   1960    852    AFC     East  Levi's stadium  \n",
       "24  1,201    NFC  North      NaN  Levi's stadium  \n",
       "25    740    AFC  North      NaN  Levi's stadium  \n",
       "26    336    AFC  South      NaN  Levi's stadium  \n",
       "27   1967    754    NFC    South  Levi's stadium  \n",
       "28    768    NFC  South      NaN  Levi's stadium  \n",
       "29    224    AFC  South      NaN  Levi's stadium  \n",
       "30  1,298    NFC   West      NaN  Levi's stadium  \n",
       "31   1976    628    NFC    South  Levi's stadium  "
      ]
     },
     "execution_count": 53,
     "metadata": {},
     "output_type": "execute_result"
    }
   ],
   "source": [
    "nfl_frame2"
   ]
  },
  {
   "cell_type": "code",
   "execution_count": 56,
   "metadata": {
    "collapsed": false
   },
   "outputs": [],
   "source": [
    "nfl_frame2['Stadium']=np.arange(32)\n"
   ]
  },
  {
   "cell_type": "code",
   "execution_count": 57,
   "metadata": {
    "collapsed": false
   },
   "outputs": [
    {
     "data": {
      "text/html": [
       "<div>\n",
       "<table border=\"1\" class=\"dataframe\">\n",
       "  <thead>\n",
       "    <tr style=\"text-align: right;\">\n",
       "      <th></th>\n",
       "      <th>Rank</th>\n",
       "      <th>Team</th>\n",
       "      <th>Won</th>\n",
       "      <th>Lost</th>\n",
       "      <th>Tied</th>\n",
       "      <th>Pct.</th>\n",
       "      <th>First</th>\n",
       "      <th>NFL</th>\n",
       "      <th>Season</th>\n",
       "      <th>Total</th>\n",
       "      <th>Games</th>\n",
       "      <th>Division</th>\n",
       "      <th>Stadium</th>\n",
       "    </tr>\n",
       "  </thead>\n",
       "  <tbody>\n",
       "    <tr>\n",
       "      <th>0</th>\n",
       "      <td>1</td>\n",
       "      <td>Chicago</td>\n",
       "      <td>Bears</td>\n",
       "      <td>741</td>\n",
       "      <td>555</td>\n",
       "      <td>42</td>\n",
       "      <td>0.570</td>\n",
       "      <td>1920.000</td>\n",
       "      <td>1,338</td>\n",
       "      <td>NFC</td>\n",
       "      <td>North</td>\n",
       "      <td>NaN</td>\n",
       "      <td>0</td>\n",
       "    </tr>\n",
       "    <tr>\n",
       "      <th>1</th>\n",
       "      <td>2</td>\n",
       "      <td>Dallas</td>\n",
       "      <td>Cowboys</td>\n",
       "      <td>480</td>\n",
       "      <td>364</td>\n",
       "      <td>6</td>\n",
       "      <td>0.568</td>\n",
       "      <td>1960.000</td>\n",
       "      <td>850</td>\n",
       "      <td>NFC</td>\n",
       "      <td>East</td>\n",
       "      <td>NaN</td>\n",
       "      <td>1</td>\n",
       "    </tr>\n",
       "    <tr>\n",
       "      <th>2</th>\n",
       "      <td>3</td>\n",
       "      <td>Green</td>\n",
       "      <td>Bay</td>\n",
       "      <td>Packers</td>\n",
       "      <td>720</td>\n",
       "      <td>547</td>\n",
       "      <td>37.000</td>\n",
       "      <td>0.566</td>\n",
       "      <td>1921</td>\n",
       "      <td>1,304</td>\n",
       "      <td>NFC</td>\n",
       "      <td>North</td>\n",
       "      <td>2</td>\n",
       "    </tr>\n",
       "    <tr>\n",
       "      <th>3</th>\n",
       "      <td>4</td>\n",
       "      <td>Miami</td>\n",
       "      <td>Dolphins</td>\n",
       "      <td>429</td>\n",
       "      <td>335</td>\n",
       "      <td>4</td>\n",
       "      <td>0.561</td>\n",
       "      <td>1966.000</td>\n",
       "      <td>768</td>\n",
       "      <td>AFC</td>\n",
       "      <td>East</td>\n",
       "      <td>NaN</td>\n",
       "      <td>3</td>\n",
       "    </tr>\n",
       "    <tr>\n",
       "      <th>4</th>\n",
       "      <td>5</td>\n",
       "      <td>New</td>\n",
       "      <td>England</td>\n",
       "      <td>Patriots</td>\n",
       "      <td>462</td>\n",
       "      <td>381</td>\n",
       "      <td>9.000</td>\n",
       "      <td>0.548</td>\n",
       "      <td>1960</td>\n",
       "      <td>852</td>\n",
       "      <td>AFC</td>\n",
       "      <td>East</td>\n",
       "      <td>4</td>\n",
       "    </tr>\n",
       "    <tr>\n",
       "      <th>5</th>\n",
       "      <td>6</td>\n",
       "      <td>San</td>\n",
       "      <td>Francisco</td>\n",
       "      <td>49ers</td>\n",
       "      <td>520</td>\n",
       "      <td>436</td>\n",
       "      <td>14.000</td>\n",
       "      <td>0.543</td>\n",
       "      <td>1950</td>\n",
       "      <td>970</td>\n",
       "      <td>NFC</td>\n",
       "      <td>West</td>\n",
       "      <td>5</td>\n",
       "    </tr>\n",
       "    <tr>\n",
       "      <th>6</th>\n",
       "      <td>7</td>\n",
       "      <td>Baltimore</td>\n",
       "      <td>Ravens</td>\n",
       "      <td>173</td>\n",
       "      <td>146</td>\n",
       "      <td>1</td>\n",
       "      <td>0.542</td>\n",
       "      <td>1996.000</td>\n",
       "      <td>320</td>\n",
       "      <td>AFC</td>\n",
       "      <td>North</td>\n",
       "      <td>NaN</td>\n",
       "      <td>6</td>\n",
       "    </tr>\n",
       "    <tr>\n",
       "      <th>7</th>\n",
       "      <td>8</td>\n",
       "      <td>Minnesota</td>\n",
       "      <td>Vikings</td>\n",
       "      <td>449</td>\n",
       "      <td>379</td>\n",
       "      <td>10</td>\n",
       "      <td>0.542</td>\n",
       "      <td>1961.000</td>\n",
       "      <td>838</td>\n",
       "      <td>NFC</td>\n",
       "      <td>North</td>\n",
       "      <td>NaN</td>\n",
       "      <td>7</td>\n",
       "    </tr>\n",
       "    <tr>\n",
       "      <th>8</th>\n",
       "      <td>9</td>\n",
       "      <td>New</td>\n",
       "      <td>York</td>\n",
       "      <td>Giants</td>\n",
       "      <td>673</td>\n",
       "      <td>567</td>\n",
       "      <td>33.000</td>\n",
       "      <td>0.542</td>\n",
       "      <td>1925</td>\n",
       "      <td>1,273</td>\n",
       "      <td>NFC</td>\n",
       "      <td>East</td>\n",
       "      <td>8</td>\n",
       "    </tr>\n",
       "    <tr>\n",
       "      <th>9</th>\n",
       "      <td>10</td>\n",
       "      <td>Denver</td>\n",
       "      <td>Broncos</td>\n",
       "      <td>456</td>\n",
       "      <td>386</td>\n",
       "      <td>10</td>\n",
       "      <td>0.541</td>\n",
       "      <td>1960.000</td>\n",
       "      <td>852</td>\n",
       "      <td>AFC</td>\n",
       "      <td>West</td>\n",
       "      <td>NaN</td>\n",
       "      <td>9</td>\n",
       "    </tr>\n",
       "    <tr>\n",
       "      <th>10</th>\n",
       "      <td>11</td>\n",
       "      <td>Indianapolis</td>\n",
       "      <td>Colts</td>\n",
       "      <td>494</td>\n",
       "      <td>433</td>\n",
       "      <td>7</td>\n",
       "      <td>0.533</td>\n",
       "      <td>1953.000</td>\n",
       "      <td>934</td>\n",
       "      <td>AFC</td>\n",
       "      <td>South</td>\n",
       "      <td>NaN</td>\n",
       "      <td>10</td>\n",
       "    </tr>\n",
       "    <tr>\n",
       "      <th>11</th>\n",
       "      <td>12</td>\n",
       "      <td>Oakland</td>\n",
       "      <td>Raiders</td>\n",
       "      <td>444</td>\n",
       "      <td>397</td>\n",
       "      <td>11</td>\n",
       "      <td>0.528</td>\n",
       "      <td>1960.000</td>\n",
       "      <td>852</td>\n",
       "      <td>AFC</td>\n",
       "      <td>West</td>\n",
       "      <td>NaN</td>\n",
       "      <td>11</td>\n",
       "    </tr>\n",
       "    <tr>\n",
       "      <th>12</th>\n",
       "      <td>13</td>\n",
       "      <td>Pittsburgh</td>\n",
       "      <td>Steelers</td>\n",
       "      <td>590</td>\n",
       "      <td>530</td>\n",
       "      <td>20</td>\n",
       "      <td>0.526</td>\n",
       "      <td>1933.000</td>\n",
       "      <td>1,140</td>\n",
       "      <td>AFC</td>\n",
       "      <td>North</td>\n",
       "      <td>NaN</td>\n",
       "      <td>12</td>\n",
       "    </tr>\n",
       "    <tr>\n",
       "      <th>13</th>\n",
       "      <td>14</td>\n",
       "      <td>Kansas</td>\n",
       "      <td>City</td>\n",
       "      <td>Chiefs</td>\n",
       "      <td>435</td>\n",
       "      <td>405</td>\n",
       "      <td>12.000</td>\n",
       "      <td>0.518</td>\n",
       "      <td>1960</td>\n",
       "      <td>852</td>\n",
       "      <td>AFC</td>\n",
       "      <td>West</td>\n",
       "      <td>13</td>\n",
       "    </tr>\n",
       "    <tr>\n",
       "      <th>14</th>\n",
       "      <td>15</td>\n",
       "      <td>Washington</td>\n",
       "      <td>Redskins</td>\n",
       "      <td>578</td>\n",
       "      <td>565</td>\n",
       "      <td>27</td>\n",
       "      <td>0.506</td>\n",
       "      <td>1932.000</td>\n",
       "      <td>1,170</td>\n",
       "      <td>NFC</td>\n",
       "      <td>East</td>\n",
       "      <td>NaN</td>\n",
       "      <td>14</td>\n",
       "    </tr>\n",
       "    <tr>\n",
       "      <th>15</th>\n",
       "      <td>16</td>\n",
       "      <td>Cleveland</td>\n",
       "      <td>Browns</td>\n",
       "      <td>461</td>\n",
       "      <td>451</td>\n",
       "      <td>10</td>\n",
       "      <td>0.505</td>\n",
       "      <td>1950.000</td>\n",
       "      <td>922</td>\n",
       "      <td>AFC</td>\n",
       "      <td>North</td>\n",
       "      <td>NaN</td>\n",
       "      <td>15</td>\n",
       "    </tr>\n",
       "    <tr>\n",
       "      <th>16</th>\n",
       "      <td>17</td>\n",
       "      <td>Seattle</td>\n",
       "      <td>Seahawks</td>\n",
       "      <td>315</td>\n",
       "      <td>313</td>\n",
       "      <td>0</td>\n",
       "      <td>0.502</td>\n",
       "      <td>1976.000</td>\n",
       "      <td>628</td>\n",
       "      <td>NFC</td>\n",
       "      <td>West</td>\n",
       "      <td>NaN</td>\n",
       "      <td>16</td>\n",
       "    </tr>\n",
       "    <tr>\n",
       "      <th>17</th>\n",
       "      <td>18</td>\n",
       "      <td>San</td>\n",
       "      <td>Diego</td>\n",
       "      <td>Chargers</td>\n",
       "      <td>421</td>\n",
       "      <td>420</td>\n",
       "      <td>11.000</td>\n",
       "      <td>0.501</td>\n",
       "      <td>1960</td>\n",
       "      <td>852</td>\n",
       "      <td>AFC</td>\n",
       "      <td>West</td>\n",
       "      <td>17</td>\n",
       "    </tr>\n",
       "    <tr>\n",
       "      <th>18</th>\n",
       "      <td>19</td>\n",
       "      <td>Los</td>\n",
       "      <td>Angeles</td>\n",
       "      <td>Rams</td>\n",
       "      <td>540</td>\n",
       "      <td>542</td>\n",
       "      <td>21.000</td>\n",
       "      <td>0.499</td>\n",
       "      <td>1937</td>\n",
       "      <td>1,103</td>\n",
       "      <td>NFC</td>\n",
       "      <td>West</td>\n",
       "      <td>18</td>\n",
       "    </tr>\n",
       "    <tr>\n",
       "      <th>19</th>\n",
       "      <td>20</td>\n",
       "      <td>Carolina</td>\n",
       "      <td>Panthers</td>\n",
       "      <td>166</td>\n",
       "      <td>169</td>\n",
       "      <td>1</td>\n",
       "      <td>0.496</td>\n",
       "      <td>1995.000</td>\n",
       "      <td>336</td>\n",
       "      <td>NFC</td>\n",
       "      <td>South</td>\n",
       "      <td>NaN</td>\n",
       "      <td>19</td>\n",
       "    </tr>\n",
       "    <tr>\n",
       "      <th>20</th>\n",
       "      <td>21</td>\n",
       "      <td>Philadelphia</td>\n",
       "      <td>Eagles</td>\n",
       "      <td>548</td>\n",
       "      <td>582</td>\n",
       "      <td>26</td>\n",
       "      <td>0.485</td>\n",
       "      <td>1933.000</td>\n",
       "      <td>1,156</td>\n",
       "      <td>NFC</td>\n",
       "      <td>East</td>\n",
       "      <td>NaN</td>\n",
       "      <td>20</td>\n",
       "    </tr>\n",
       "    <tr>\n",
       "      <th>21</th>\n",
       "      <td>22</td>\n",
       "      <td>Tennessee</td>\n",
       "      <td>Titans</td>\n",
       "      <td>404</td>\n",
       "      <td>442</td>\n",
       "      <td>6</td>\n",
       "      <td>0.478</td>\n",
       "      <td>1960.000</td>\n",
       "      <td>852</td>\n",
       "      <td>AFC</td>\n",
       "      <td>South</td>\n",
       "      <td>NaN</td>\n",
       "      <td>21</td>\n",
       "    </tr>\n",
       "    <tr>\n",
       "      <th>22</th>\n",
       "      <td>23</td>\n",
       "      <td>Buffalo</td>\n",
       "      <td>Bills</td>\n",
       "      <td>393</td>\n",
       "      <td>451</td>\n",
       "      <td>8</td>\n",
       "      <td>0.466</td>\n",
       "      <td>1960.000</td>\n",
       "      <td>852</td>\n",
       "      <td>AFC</td>\n",
       "      <td>East</td>\n",
       "      <td>NaN</td>\n",
       "      <td>22</td>\n",
       "    </tr>\n",
       "    <tr>\n",
       "      <th>23</th>\n",
       "      <td>24</td>\n",
       "      <td>New</td>\n",
       "      <td>York</td>\n",
       "      <td>Jets</td>\n",
       "      <td>387</td>\n",
       "      <td>457</td>\n",
       "      <td>8.000</td>\n",
       "      <td>0.459</td>\n",
       "      <td>1960</td>\n",
       "      <td>852</td>\n",
       "      <td>AFC</td>\n",
       "      <td>East</td>\n",
       "      <td>23</td>\n",
       "    </tr>\n",
       "    <tr>\n",
       "      <th>24</th>\n",
       "      <td>25</td>\n",
       "      <td>Detroit</td>\n",
       "      <td>Lions</td>\n",
       "      <td>535</td>\n",
       "      <td>634</td>\n",
       "      <td>32</td>\n",
       "      <td>0.459</td>\n",
       "      <td>1930.000</td>\n",
       "      <td>1,201</td>\n",
       "      <td>NFC</td>\n",
       "      <td>North</td>\n",
       "      <td>NaN</td>\n",
       "      <td>24</td>\n",
       "    </tr>\n",
       "    <tr>\n",
       "      <th>25</th>\n",
       "      <td>26</td>\n",
       "      <td>Cincinnati</td>\n",
       "      <td>Bengals</td>\n",
       "      <td>338</td>\n",
       "      <td>399</td>\n",
       "      <td>3</td>\n",
       "      <td>0.459</td>\n",
       "      <td>1968.000</td>\n",
       "      <td>740</td>\n",
       "      <td>AFC</td>\n",
       "      <td>North</td>\n",
       "      <td>NaN</td>\n",
       "      <td>25</td>\n",
       "    </tr>\n",
       "    <tr>\n",
       "      <th>26</th>\n",
       "      <td>27</td>\n",
       "      <td>Jacksonville</td>\n",
       "      <td>Jaguars</td>\n",
       "      <td>152</td>\n",
       "      <td>184</td>\n",
       "      <td>0</td>\n",
       "      <td>0.452</td>\n",
       "      <td>1995.000</td>\n",
       "      <td>336</td>\n",
       "      <td>AFC</td>\n",
       "      <td>South</td>\n",
       "      <td>NaN</td>\n",
       "      <td>26</td>\n",
       "    </tr>\n",
       "    <tr>\n",
       "      <th>27</th>\n",
       "      <td>28</td>\n",
       "      <td>New</td>\n",
       "      <td>Orleans</td>\n",
       "      <td>Saints</td>\n",
       "      <td>331</td>\n",
       "      <td>418</td>\n",
       "      <td>5.000</td>\n",
       "      <td>0.442</td>\n",
       "      <td>1967</td>\n",
       "      <td>754</td>\n",
       "      <td>NFC</td>\n",
       "      <td>South</td>\n",
       "      <td>27</td>\n",
       "    </tr>\n",
       "    <tr>\n",
       "      <th>28</th>\n",
       "      <td>29</td>\n",
       "      <td>Atlanta</td>\n",
       "      <td>Falcons</td>\n",
       "      <td>330</td>\n",
       "      <td>432</td>\n",
       "      <td>6</td>\n",
       "      <td>0.434</td>\n",
       "      <td>1966.000</td>\n",
       "      <td>768</td>\n",
       "      <td>NFC</td>\n",
       "      <td>South</td>\n",
       "      <td>NaN</td>\n",
       "      <td>28</td>\n",
       "    </tr>\n",
       "    <tr>\n",
       "      <th>29</th>\n",
       "      <td>30</td>\n",
       "      <td>Houston</td>\n",
       "      <td>Texans</td>\n",
       "      <td>97</td>\n",
       "      <td>127</td>\n",
       "      <td>0</td>\n",
       "      <td>0.433</td>\n",
       "      <td>2002.000</td>\n",
       "      <td>224</td>\n",
       "      <td>AFC</td>\n",
       "      <td>South</td>\n",
       "      <td>NaN</td>\n",
       "      <td>29</td>\n",
       "    </tr>\n",
       "    <tr>\n",
       "      <th>30</th>\n",
       "      <td>31</td>\n",
       "      <td>Arizona</td>\n",
       "      <td>Cardinals</td>\n",
       "      <td>535</td>\n",
       "      <td>724</td>\n",
       "      <td>39</td>\n",
       "      <td>0.427</td>\n",
       "      <td>1920.000</td>\n",
       "      <td>1,298</td>\n",
       "      <td>NFC</td>\n",
       "      <td>West</td>\n",
       "      <td>NaN</td>\n",
       "      <td>30</td>\n",
       "    </tr>\n",
       "    <tr>\n",
       "      <th>31</th>\n",
       "      <td>32</td>\n",
       "      <td>Tampa</td>\n",
       "      <td>Bay</td>\n",
       "      <td>Buccaneers</td>\n",
       "      <td>241</td>\n",
       "      <td>386</td>\n",
       "      <td>1.000</td>\n",
       "      <td>0.385</td>\n",
       "      <td>1976</td>\n",
       "      <td>628</td>\n",
       "      <td>NFC</td>\n",
       "      <td>South</td>\n",
       "      <td>31</td>\n",
       "    </tr>\n",
       "  </tbody>\n",
       "</table>\n",
       "</div>"
      ],
      "text/plain": [
       "    Rank          Team        Won        Lost  Tied  Pct.   First       NFL  \\\n",
       "0      1       Chicago      Bears         741   555    42   0.570  1920.000   \n",
       "1      2        Dallas    Cowboys         480   364     6   0.568  1960.000   \n",
       "2      3         Green        Bay     Packers   720   547  37.000     0.566   \n",
       "3      4         Miami   Dolphins         429   335     4   0.561  1966.000   \n",
       "4      5           New    England    Patriots   462   381   9.000     0.548   \n",
       "5      6           San  Francisco       49ers   520   436  14.000     0.543   \n",
       "6      7     Baltimore     Ravens         173   146     1   0.542  1996.000   \n",
       "7      8     Minnesota    Vikings         449   379    10   0.542  1961.000   \n",
       "8      9           New       York      Giants   673   567  33.000     0.542   \n",
       "9     10        Denver    Broncos         456   386    10   0.541  1960.000   \n",
       "10    11  Indianapolis      Colts         494   433     7   0.533  1953.000   \n",
       "11    12       Oakland    Raiders         444   397    11   0.528  1960.000   \n",
       "12    13    Pittsburgh   Steelers         590   530    20   0.526  1933.000   \n",
       "13    14        Kansas       City      Chiefs   435   405  12.000     0.518   \n",
       "14    15    Washington   Redskins         578   565    27   0.506  1932.000   \n",
       "15    16     Cleveland     Browns         461   451    10   0.505  1950.000   \n",
       "16    17       Seattle   Seahawks         315   313     0   0.502  1976.000   \n",
       "17    18           San      Diego    Chargers   421   420  11.000     0.501   \n",
       "18    19           Los    Angeles        Rams   540   542  21.000     0.499   \n",
       "19    20      Carolina   Panthers         166   169     1   0.496  1995.000   \n",
       "20    21  Philadelphia     Eagles         548   582    26   0.485  1933.000   \n",
       "21    22     Tennessee     Titans         404   442     6   0.478  1960.000   \n",
       "22    23       Buffalo      Bills         393   451     8   0.466  1960.000   \n",
       "23    24           New       York        Jets   387   457   8.000     0.459   \n",
       "24    25       Detroit      Lions         535   634    32   0.459  1930.000   \n",
       "25    26    Cincinnati    Bengals         338   399     3   0.459  1968.000   \n",
       "26    27  Jacksonville    Jaguars         152   184     0   0.452  1995.000   \n",
       "27    28           New    Orleans      Saints   331   418   5.000     0.442   \n",
       "28    29       Atlanta    Falcons         330   432     6   0.434  1966.000   \n",
       "29    30       Houston     Texans          97   127     0   0.433  2002.000   \n",
       "30    31       Arizona  Cardinals         535   724    39   0.427  1920.000   \n",
       "31    32         Tampa        Bay  Buccaneers   241   386   1.000     0.385   \n",
       "\n",
       "   Season  Total  Games Division  Stadium  \n",
       "0   1,338    NFC  North      NaN        0  \n",
       "1     850    NFC   East      NaN        1  \n",
       "2    1921  1,304    NFC    North        2  \n",
       "3     768    AFC   East      NaN        3  \n",
       "4    1960    852    AFC     East        4  \n",
       "5    1950    970    NFC     West        5  \n",
       "6     320    AFC  North      NaN        6  \n",
       "7     838    NFC  North      NaN        7  \n",
       "8    1925  1,273    NFC     East        8  \n",
       "9     852    AFC   West      NaN        9  \n",
       "10    934    AFC  South      NaN       10  \n",
       "11    852    AFC   West      NaN       11  \n",
       "12  1,140    AFC  North      NaN       12  \n",
       "13   1960    852    AFC     West       13  \n",
       "14  1,170    NFC   East      NaN       14  \n",
       "15    922    AFC  North      NaN       15  \n",
       "16    628    NFC   West      NaN       16  \n",
       "17   1960    852    AFC     West       17  \n",
       "18   1937  1,103    NFC     West       18  \n",
       "19    336    NFC  South      NaN       19  \n",
       "20  1,156    NFC   East      NaN       20  \n",
       "21    852    AFC  South      NaN       21  \n",
       "22    852    AFC   East      NaN       22  \n",
       "23   1960    852    AFC     East       23  \n",
       "24  1,201    NFC  North      NaN       24  \n",
       "25    740    AFC  North      NaN       25  \n",
       "26    336    AFC  South      NaN       26  \n",
       "27   1967    754    NFC    South       27  \n",
       "28    768    NFC  South      NaN       28  \n",
       "29    224    AFC  South      NaN       29  \n",
       "30  1,298    NFC   West      NaN       30  \n",
       "31   1976    628    NFC    South       31  "
      ]
     },
     "execution_count": 57,
     "metadata": {},
     "output_type": "execute_result"
    }
   ],
   "source": [
    "nfl_frame2\n"
   ]
  },
  {
   "cell_type": "code",
   "execution_count": 58,
   "metadata": {
    "collapsed": true
   },
   "outputs": [],
   "source": [
    "###add a series\n",
    "\n",
    "stadiums=Series([\"Levi's stadium\", \"AT$T Stadium\"], index=[5,0])"
   ]
  },
  {
   "cell_type": "code",
   "execution_count": 61,
   "metadata": {
    "collapsed": true
   },
   "outputs": [],
   "source": [
    "###merge series with data frame\n",
    "nfl_frame2['Stadium']=stadiums"
   ]
  },
  {
   "cell_type": "code",
   "execution_count": 62,
   "metadata": {
    "collapsed": false
   },
   "outputs": [
    {
     "data": {
      "text/html": [
       "<div>\n",
       "<table border=\"1\" class=\"dataframe\">\n",
       "  <thead>\n",
       "    <tr style=\"text-align: right;\">\n",
       "      <th></th>\n",
       "      <th>Rank</th>\n",
       "      <th>Team</th>\n",
       "      <th>Won</th>\n",
       "      <th>Lost</th>\n",
       "      <th>Tied</th>\n",
       "      <th>Pct.</th>\n",
       "      <th>First</th>\n",
       "      <th>NFL</th>\n",
       "      <th>Season</th>\n",
       "      <th>Total</th>\n",
       "      <th>Games</th>\n",
       "      <th>Division</th>\n",
       "      <th>Stadium</th>\n",
       "    </tr>\n",
       "  </thead>\n",
       "  <tbody>\n",
       "    <tr>\n",
       "      <th>0</th>\n",
       "      <td>1</td>\n",
       "      <td>Chicago</td>\n",
       "      <td>Bears</td>\n",
       "      <td>741</td>\n",
       "      <td>555</td>\n",
       "      <td>42</td>\n",
       "      <td>0.570</td>\n",
       "      <td>1920.000</td>\n",
       "      <td>1,338</td>\n",
       "      <td>NFC</td>\n",
       "      <td>North</td>\n",
       "      <td>NaN</td>\n",
       "      <td>AT$T Stadium</td>\n",
       "    </tr>\n",
       "    <tr>\n",
       "      <th>1</th>\n",
       "      <td>2</td>\n",
       "      <td>Dallas</td>\n",
       "      <td>Cowboys</td>\n",
       "      <td>480</td>\n",
       "      <td>364</td>\n",
       "      <td>6</td>\n",
       "      <td>0.568</td>\n",
       "      <td>1960.000</td>\n",
       "      <td>850</td>\n",
       "      <td>NFC</td>\n",
       "      <td>East</td>\n",
       "      <td>NaN</td>\n",
       "      <td>NaN</td>\n",
       "    </tr>\n",
       "    <tr>\n",
       "      <th>2</th>\n",
       "      <td>3</td>\n",
       "      <td>Green</td>\n",
       "      <td>Bay</td>\n",
       "      <td>Packers</td>\n",
       "      <td>720</td>\n",
       "      <td>547</td>\n",
       "      <td>37.000</td>\n",
       "      <td>0.566</td>\n",
       "      <td>1921</td>\n",
       "      <td>1,304</td>\n",
       "      <td>NFC</td>\n",
       "      <td>North</td>\n",
       "      <td>NaN</td>\n",
       "    </tr>\n",
       "    <tr>\n",
       "      <th>3</th>\n",
       "      <td>4</td>\n",
       "      <td>Miami</td>\n",
       "      <td>Dolphins</td>\n",
       "      <td>429</td>\n",
       "      <td>335</td>\n",
       "      <td>4</td>\n",
       "      <td>0.561</td>\n",
       "      <td>1966.000</td>\n",
       "      <td>768</td>\n",
       "      <td>AFC</td>\n",
       "      <td>East</td>\n",
       "      <td>NaN</td>\n",
       "      <td>NaN</td>\n",
       "    </tr>\n",
       "    <tr>\n",
       "      <th>4</th>\n",
       "      <td>5</td>\n",
       "      <td>New</td>\n",
       "      <td>England</td>\n",
       "      <td>Patriots</td>\n",
       "      <td>462</td>\n",
       "      <td>381</td>\n",
       "      <td>9.000</td>\n",
       "      <td>0.548</td>\n",
       "      <td>1960</td>\n",
       "      <td>852</td>\n",
       "      <td>AFC</td>\n",
       "      <td>East</td>\n",
       "      <td>NaN</td>\n",
       "    </tr>\n",
       "    <tr>\n",
       "      <th>5</th>\n",
       "      <td>6</td>\n",
       "      <td>San</td>\n",
       "      <td>Francisco</td>\n",
       "      <td>49ers</td>\n",
       "      <td>520</td>\n",
       "      <td>436</td>\n",
       "      <td>14.000</td>\n",
       "      <td>0.543</td>\n",
       "      <td>1950</td>\n",
       "      <td>970</td>\n",
       "      <td>NFC</td>\n",
       "      <td>West</td>\n",
       "      <td>Levi's stadium</td>\n",
       "    </tr>\n",
       "    <tr>\n",
       "      <th>6</th>\n",
       "      <td>7</td>\n",
       "      <td>Baltimore</td>\n",
       "      <td>Ravens</td>\n",
       "      <td>173</td>\n",
       "      <td>146</td>\n",
       "      <td>1</td>\n",
       "      <td>0.542</td>\n",
       "      <td>1996.000</td>\n",
       "      <td>320</td>\n",
       "      <td>AFC</td>\n",
       "      <td>North</td>\n",
       "      <td>NaN</td>\n",
       "      <td>NaN</td>\n",
       "    </tr>\n",
       "    <tr>\n",
       "      <th>7</th>\n",
       "      <td>8</td>\n",
       "      <td>Minnesota</td>\n",
       "      <td>Vikings</td>\n",
       "      <td>449</td>\n",
       "      <td>379</td>\n",
       "      <td>10</td>\n",
       "      <td>0.542</td>\n",
       "      <td>1961.000</td>\n",
       "      <td>838</td>\n",
       "      <td>NFC</td>\n",
       "      <td>North</td>\n",
       "      <td>NaN</td>\n",
       "      <td>NaN</td>\n",
       "    </tr>\n",
       "    <tr>\n",
       "      <th>8</th>\n",
       "      <td>9</td>\n",
       "      <td>New</td>\n",
       "      <td>York</td>\n",
       "      <td>Giants</td>\n",
       "      <td>673</td>\n",
       "      <td>567</td>\n",
       "      <td>33.000</td>\n",
       "      <td>0.542</td>\n",
       "      <td>1925</td>\n",
       "      <td>1,273</td>\n",
       "      <td>NFC</td>\n",
       "      <td>East</td>\n",
       "      <td>NaN</td>\n",
       "    </tr>\n",
       "    <tr>\n",
       "      <th>9</th>\n",
       "      <td>10</td>\n",
       "      <td>Denver</td>\n",
       "      <td>Broncos</td>\n",
       "      <td>456</td>\n",
       "      <td>386</td>\n",
       "      <td>10</td>\n",
       "      <td>0.541</td>\n",
       "      <td>1960.000</td>\n",
       "      <td>852</td>\n",
       "      <td>AFC</td>\n",
       "      <td>West</td>\n",
       "      <td>NaN</td>\n",
       "      <td>NaN</td>\n",
       "    </tr>\n",
       "    <tr>\n",
       "      <th>10</th>\n",
       "      <td>11</td>\n",
       "      <td>Indianapolis</td>\n",
       "      <td>Colts</td>\n",
       "      <td>494</td>\n",
       "      <td>433</td>\n",
       "      <td>7</td>\n",
       "      <td>0.533</td>\n",
       "      <td>1953.000</td>\n",
       "      <td>934</td>\n",
       "      <td>AFC</td>\n",
       "      <td>South</td>\n",
       "      <td>NaN</td>\n",
       "      <td>NaN</td>\n",
       "    </tr>\n",
       "    <tr>\n",
       "      <th>11</th>\n",
       "      <td>12</td>\n",
       "      <td>Oakland</td>\n",
       "      <td>Raiders</td>\n",
       "      <td>444</td>\n",
       "      <td>397</td>\n",
       "      <td>11</td>\n",
       "      <td>0.528</td>\n",
       "      <td>1960.000</td>\n",
       "      <td>852</td>\n",
       "      <td>AFC</td>\n",
       "      <td>West</td>\n",
       "      <td>NaN</td>\n",
       "      <td>NaN</td>\n",
       "    </tr>\n",
       "    <tr>\n",
       "      <th>12</th>\n",
       "      <td>13</td>\n",
       "      <td>Pittsburgh</td>\n",
       "      <td>Steelers</td>\n",
       "      <td>590</td>\n",
       "      <td>530</td>\n",
       "      <td>20</td>\n",
       "      <td>0.526</td>\n",
       "      <td>1933.000</td>\n",
       "      <td>1,140</td>\n",
       "      <td>AFC</td>\n",
       "      <td>North</td>\n",
       "      <td>NaN</td>\n",
       "      <td>NaN</td>\n",
       "    </tr>\n",
       "    <tr>\n",
       "      <th>13</th>\n",
       "      <td>14</td>\n",
       "      <td>Kansas</td>\n",
       "      <td>City</td>\n",
       "      <td>Chiefs</td>\n",
       "      <td>435</td>\n",
       "      <td>405</td>\n",
       "      <td>12.000</td>\n",
       "      <td>0.518</td>\n",
       "      <td>1960</td>\n",
       "      <td>852</td>\n",
       "      <td>AFC</td>\n",
       "      <td>West</td>\n",
       "      <td>NaN</td>\n",
       "    </tr>\n",
       "    <tr>\n",
       "      <th>14</th>\n",
       "      <td>15</td>\n",
       "      <td>Washington</td>\n",
       "      <td>Redskins</td>\n",
       "      <td>578</td>\n",
       "      <td>565</td>\n",
       "      <td>27</td>\n",
       "      <td>0.506</td>\n",
       "      <td>1932.000</td>\n",
       "      <td>1,170</td>\n",
       "      <td>NFC</td>\n",
       "      <td>East</td>\n",
       "      <td>NaN</td>\n",
       "      <td>NaN</td>\n",
       "    </tr>\n",
       "    <tr>\n",
       "      <th>15</th>\n",
       "      <td>16</td>\n",
       "      <td>Cleveland</td>\n",
       "      <td>Browns</td>\n",
       "      <td>461</td>\n",
       "      <td>451</td>\n",
       "      <td>10</td>\n",
       "      <td>0.505</td>\n",
       "      <td>1950.000</td>\n",
       "      <td>922</td>\n",
       "      <td>AFC</td>\n",
       "      <td>North</td>\n",
       "      <td>NaN</td>\n",
       "      <td>NaN</td>\n",
       "    </tr>\n",
       "    <tr>\n",
       "      <th>16</th>\n",
       "      <td>17</td>\n",
       "      <td>Seattle</td>\n",
       "      <td>Seahawks</td>\n",
       "      <td>315</td>\n",
       "      <td>313</td>\n",
       "      <td>0</td>\n",
       "      <td>0.502</td>\n",
       "      <td>1976.000</td>\n",
       "      <td>628</td>\n",
       "      <td>NFC</td>\n",
       "      <td>West</td>\n",
       "      <td>NaN</td>\n",
       "      <td>NaN</td>\n",
       "    </tr>\n",
       "    <tr>\n",
       "      <th>17</th>\n",
       "      <td>18</td>\n",
       "      <td>San</td>\n",
       "      <td>Diego</td>\n",
       "      <td>Chargers</td>\n",
       "      <td>421</td>\n",
       "      <td>420</td>\n",
       "      <td>11.000</td>\n",
       "      <td>0.501</td>\n",
       "      <td>1960</td>\n",
       "      <td>852</td>\n",
       "      <td>AFC</td>\n",
       "      <td>West</td>\n",
       "      <td>NaN</td>\n",
       "    </tr>\n",
       "    <tr>\n",
       "      <th>18</th>\n",
       "      <td>19</td>\n",
       "      <td>Los</td>\n",
       "      <td>Angeles</td>\n",
       "      <td>Rams</td>\n",
       "      <td>540</td>\n",
       "      <td>542</td>\n",
       "      <td>21.000</td>\n",
       "      <td>0.499</td>\n",
       "      <td>1937</td>\n",
       "      <td>1,103</td>\n",
       "      <td>NFC</td>\n",
       "      <td>West</td>\n",
       "      <td>NaN</td>\n",
       "    </tr>\n",
       "    <tr>\n",
       "      <th>19</th>\n",
       "      <td>20</td>\n",
       "      <td>Carolina</td>\n",
       "      <td>Panthers</td>\n",
       "      <td>166</td>\n",
       "      <td>169</td>\n",
       "      <td>1</td>\n",
       "      <td>0.496</td>\n",
       "      <td>1995.000</td>\n",
       "      <td>336</td>\n",
       "      <td>NFC</td>\n",
       "      <td>South</td>\n",
       "      <td>NaN</td>\n",
       "      <td>NaN</td>\n",
       "    </tr>\n",
       "    <tr>\n",
       "      <th>20</th>\n",
       "      <td>21</td>\n",
       "      <td>Philadelphia</td>\n",
       "      <td>Eagles</td>\n",
       "      <td>548</td>\n",
       "      <td>582</td>\n",
       "      <td>26</td>\n",
       "      <td>0.485</td>\n",
       "      <td>1933.000</td>\n",
       "      <td>1,156</td>\n",
       "      <td>NFC</td>\n",
       "      <td>East</td>\n",
       "      <td>NaN</td>\n",
       "      <td>NaN</td>\n",
       "    </tr>\n",
       "    <tr>\n",
       "      <th>21</th>\n",
       "      <td>22</td>\n",
       "      <td>Tennessee</td>\n",
       "      <td>Titans</td>\n",
       "      <td>404</td>\n",
       "      <td>442</td>\n",
       "      <td>6</td>\n",
       "      <td>0.478</td>\n",
       "      <td>1960.000</td>\n",
       "      <td>852</td>\n",
       "      <td>AFC</td>\n",
       "      <td>South</td>\n",
       "      <td>NaN</td>\n",
       "      <td>NaN</td>\n",
       "    </tr>\n",
       "    <tr>\n",
       "      <th>22</th>\n",
       "      <td>23</td>\n",
       "      <td>Buffalo</td>\n",
       "      <td>Bills</td>\n",
       "      <td>393</td>\n",
       "      <td>451</td>\n",
       "      <td>8</td>\n",
       "      <td>0.466</td>\n",
       "      <td>1960.000</td>\n",
       "      <td>852</td>\n",
       "      <td>AFC</td>\n",
       "      <td>East</td>\n",
       "      <td>NaN</td>\n",
       "      <td>NaN</td>\n",
       "    </tr>\n",
       "    <tr>\n",
       "      <th>23</th>\n",
       "      <td>24</td>\n",
       "      <td>New</td>\n",
       "      <td>York</td>\n",
       "      <td>Jets</td>\n",
       "      <td>387</td>\n",
       "      <td>457</td>\n",
       "      <td>8.000</td>\n",
       "      <td>0.459</td>\n",
       "      <td>1960</td>\n",
       "      <td>852</td>\n",
       "      <td>AFC</td>\n",
       "      <td>East</td>\n",
       "      <td>NaN</td>\n",
       "    </tr>\n",
       "    <tr>\n",
       "      <th>24</th>\n",
       "      <td>25</td>\n",
       "      <td>Detroit</td>\n",
       "      <td>Lions</td>\n",
       "      <td>535</td>\n",
       "      <td>634</td>\n",
       "      <td>32</td>\n",
       "      <td>0.459</td>\n",
       "      <td>1930.000</td>\n",
       "      <td>1,201</td>\n",
       "      <td>NFC</td>\n",
       "      <td>North</td>\n",
       "      <td>NaN</td>\n",
       "      <td>NaN</td>\n",
       "    </tr>\n",
       "    <tr>\n",
       "      <th>25</th>\n",
       "      <td>26</td>\n",
       "      <td>Cincinnati</td>\n",
       "      <td>Bengals</td>\n",
       "      <td>338</td>\n",
       "      <td>399</td>\n",
       "      <td>3</td>\n",
       "      <td>0.459</td>\n",
       "      <td>1968.000</td>\n",
       "      <td>740</td>\n",
       "      <td>AFC</td>\n",
       "      <td>North</td>\n",
       "      <td>NaN</td>\n",
       "      <td>NaN</td>\n",
       "    </tr>\n",
       "    <tr>\n",
       "      <th>26</th>\n",
       "      <td>27</td>\n",
       "      <td>Jacksonville</td>\n",
       "      <td>Jaguars</td>\n",
       "      <td>152</td>\n",
       "      <td>184</td>\n",
       "      <td>0</td>\n",
       "      <td>0.452</td>\n",
       "      <td>1995.000</td>\n",
       "      <td>336</td>\n",
       "      <td>AFC</td>\n",
       "      <td>South</td>\n",
       "      <td>NaN</td>\n",
       "      <td>NaN</td>\n",
       "    </tr>\n",
       "    <tr>\n",
       "      <th>27</th>\n",
       "      <td>28</td>\n",
       "      <td>New</td>\n",
       "      <td>Orleans</td>\n",
       "      <td>Saints</td>\n",
       "      <td>331</td>\n",
       "      <td>418</td>\n",
       "      <td>5.000</td>\n",
       "      <td>0.442</td>\n",
       "      <td>1967</td>\n",
       "      <td>754</td>\n",
       "      <td>NFC</td>\n",
       "      <td>South</td>\n",
       "      <td>NaN</td>\n",
       "    </tr>\n",
       "    <tr>\n",
       "      <th>28</th>\n",
       "      <td>29</td>\n",
       "      <td>Atlanta</td>\n",
       "      <td>Falcons</td>\n",
       "      <td>330</td>\n",
       "      <td>432</td>\n",
       "      <td>6</td>\n",
       "      <td>0.434</td>\n",
       "      <td>1966.000</td>\n",
       "      <td>768</td>\n",
       "      <td>NFC</td>\n",
       "      <td>South</td>\n",
       "      <td>NaN</td>\n",
       "      <td>NaN</td>\n",
       "    </tr>\n",
       "    <tr>\n",
       "      <th>29</th>\n",
       "      <td>30</td>\n",
       "      <td>Houston</td>\n",
       "      <td>Texans</td>\n",
       "      <td>97</td>\n",
       "      <td>127</td>\n",
       "      <td>0</td>\n",
       "      <td>0.433</td>\n",
       "      <td>2002.000</td>\n",
       "      <td>224</td>\n",
       "      <td>AFC</td>\n",
       "      <td>South</td>\n",
       "      <td>NaN</td>\n",
       "      <td>NaN</td>\n",
       "    </tr>\n",
       "    <tr>\n",
       "      <th>30</th>\n",
       "      <td>31</td>\n",
       "      <td>Arizona</td>\n",
       "      <td>Cardinals</td>\n",
       "      <td>535</td>\n",
       "      <td>724</td>\n",
       "      <td>39</td>\n",
       "      <td>0.427</td>\n",
       "      <td>1920.000</td>\n",
       "      <td>1,298</td>\n",
       "      <td>NFC</td>\n",
       "      <td>West</td>\n",
       "      <td>NaN</td>\n",
       "      <td>NaN</td>\n",
       "    </tr>\n",
       "    <tr>\n",
       "      <th>31</th>\n",
       "      <td>32</td>\n",
       "      <td>Tampa</td>\n",
       "      <td>Bay</td>\n",
       "      <td>Buccaneers</td>\n",
       "      <td>241</td>\n",
       "      <td>386</td>\n",
       "      <td>1.000</td>\n",
       "      <td>0.385</td>\n",
       "      <td>1976</td>\n",
       "      <td>628</td>\n",
       "      <td>NFC</td>\n",
       "      <td>South</td>\n",
       "      <td>NaN</td>\n",
       "    </tr>\n",
       "  </tbody>\n",
       "</table>\n",
       "</div>"
      ],
      "text/plain": [
       "    Rank          Team        Won        Lost  Tied  Pct.   First       NFL  \\\n",
       "0      1       Chicago      Bears         741   555    42   0.570  1920.000   \n",
       "1      2        Dallas    Cowboys         480   364     6   0.568  1960.000   \n",
       "2      3         Green        Bay     Packers   720   547  37.000     0.566   \n",
       "3      4         Miami   Dolphins         429   335     4   0.561  1966.000   \n",
       "4      5           New    England    Patriots   462   381   9.000     0.548   \n",
       "5      6           San  Francisco       49ers   520   436  14.000     0.543   \n",
       "6      7     Baltimore     Ravens         173   146     1   0.542  1996.000   \n",
       "7      8     Minnesota    Vikings         449   379    10   0.542  1961.000   \n",
       "8      9           New       York      Giants   673   567  33.000     0.542   \n",
       "9     10        Denver    Broncos         456   386    10   0.541  1960.000   \n",
       "10    11  Indianapolis      Colts         494   433     7   0.533  1953.000   \n",
       "11    12       Oakland    Raiders         444   397    11   0.528  1960.000   \n",
       "12    13    Pittsburgh   Steelers         590   530    20   0.526  1933.000   \n",
       "13    14        Kansas       City      Chiefs   435   405  12.000     0.518   \n",
       "14    15    Washington   Redskins         578   565    27   0.506  1932.000   \n",
       "15    16     Cleveland     Browns         461   451    10   0.505  1950.000   \n",
       "16    17       Seattle   Seahawks         315   313     0   0.502  1976.000   \n",
       "17    18           San      Diego    Chargers   421   420  11.000     0.501   \n",
       "18    19           Los    Angeles        Rams   540   542  21.000     0.499   \n",
       "19    20      Carolina   Panthers         166   169     1   0.496  1995.000   \n",
       "20    21  Philadelphia     Eagles         548   582    26   0.485  1933.000   \n",
       "21    22     Tennessee     Titans         404   442     6   0.478  1960.000   \n",
       "22    23       Buffalo      Bills         393   451     8   0.466  1960.000   \n",
       "23    24           New       York        Jets   387   457   8.000     0.459   \n",
       "24    25       Detroit      Lions         535   634    32   0.459  1930.000   \n",
       "25    26    Cincinnati    Bengals         338   399     3   0.459  1968.000   \n",
       "26    27  Jacksonville    Jaguars         152   184     0   0.452  1995.000   \n",
       "27    28           New    Orleans      Saints   331   418   5.000     0.442   \n",
       "28    29       Atlanta    Falcons         330   432     6   0.434  1966.000   \n",
       "29    30       Houston     Texans          97   127     0   0.433  2002.000   \n",
       "30    31       Arizona  Cardinals         535   724    39   0.427  1920.000   \n",
       "31    32         Tampa        Bay  Buccaneers   241   386   1.000     0.385   \n",
       "\n",
       "   Season  Total  Games Division         Stadium  \n",
       "0   1,338    NFC  North      NaN    AT$T Stadium  \n",
       "1     850    NFC   East      NaN             NaN  \n",
       "2    1921  1,304    NFC    North             NaN  \n",
       "3     768    AFC   East      NaN             NaN  \n",
       "4    1960    852    AFC     East             NaN  \n",
       "5    1950    970    NFC     West  Levi's stadium  \n",
       "6     320    AFC  North      NaN             NaN  \n",
       "7     838    NFC  North      NaN             NaN  \n",
       "8    1925  1,273    NFC     East             NaN  \n",
       "9     852    AFC   West      NaN             NaN  \n",
       "10    934    AFC  South      NaN             NaN  \n",
       "11    852    AFC   West      NaN             NaN  \n",
       "12  1,140    AFC  North      NaN             NaN  \n",
       "13   1960    852    AFC     West             NaN  \n",
       "14  1,170    NFC   East      NaN             NaN  \n",
       "15    922    AFC  North      NaN             NaN  \n",
       "16    628    NFC   West      NaN             NaN  \n",
       "17   1960    852    AFC     West             NaN  \n",
       "18   1937  1,103    NFC     West             NaN  \n",
       "19    336    NFC  South      NaN             NaN  \n",
       "20  1,156    NFC   East      NaN             NaN  \n",
       "21    852    AFC  South      NaN             NaN  \n",
       "22    852    AFC   East      NaN             NaN  \n",
       "23   1960    852    AFC     East             NaN  \n",
       "24  1,201    NFC  North      NaN             NaN  \n",
       "25    740    AFC  North      NaN             NaN  \n",
       "26    336    AFC  South      NaN             NaN  \n",
       "27   1967    754    NFC    South             NaN  \n",
       "28    768    NFC  South      NaN             NaN  \n",
       "29    224    AFC  South      NaN             NaN  \n",
       "30  1,298    NFC   West      NaN             NaN  \n",
       "31   1976    628    NFC    South             NaN  "
      ]
     },
     "execution_count": 62,
     "metadata": {},
     "output_type": "execute_result"
    }
   ],
   "source": [
    "nfl_frame2"
   ]
  },
  {
   "cell_type": "code",
   "execution_count": 63,
   "metadata": {
    "collapsed": true
   },
   "outputs": [],
   "source": [
    "###delete columns\n",
    "\n",
    "del nfl_frame2['Stadium']"
   ]
  },
  {
   "cell_type": "code",
   "execution_count": 64,
   "metadata": {
    "collapsed": false
   },
   "outputs": [
    {
     "data": {
      "text/html": [
       "<div>\n",
       "<table border=\"1\" class=\"dataframe\">\n",
       "  <thead>\n",
       "    <tr style=\"text-align: right;\">\n",
       "      <th></th>\n",
       "      <th>Rank</th>\n",
       "      <th>Team</th>\n",
       "      <th>Won</th>\n",
       "      <th>Lost</th>\n",
       "      <th>Tied</th>\n",
       "      <th>Pct.</th>\n",
       "      <th>First</th>\n",
       "      <th>NFL</th>\n",
       "      <th>Season</th>\n",
       "      <th>Total</th>\n",
       "      <th>Games</th>\n",
       "      <th>Division</th>\n",
       "    </tr>\n",
       "  </thead>\n",
       "  <tbody>\n",
       "    <tr>\n",
       "      <th>0</th>\n",
       "      <td>1</td>\n",
       "      <td>Chicago</td>\n",
       "      <td>Bears</td>\n",
       "      <td>741</td>\n",
       "      <td>555</td>\n",
       "      <td>42</td>\n",
       "      <td>0.570</td>\n",
       "      <td>1920.000</td>\n",
       "      <td>1,338</td>\n",
       "      <td>NFC</td>\n",
       "      <td>North</td>\n",
       "      <td>NaN</td>\n",
       "    </tr>\n",
       "    <tr>\n",
       "      <th>1</th>\n",
       "      <td>2</td>\n",
       "      <td>Dallas</td>\n",
       "      <td>Cowboys</td>\n",
       "      <td>480</td>\n",
       "      <td>364</td>\n",
       "      <td>6</td>\n",
       "      <td>0.568</td>\n",
       "      <td>1960.000</td>\n",
       "      <td>850</td>\n",
       "      <td>NFC</td>\n",
       "      <td>East</td>\n",
       "      <td>NaN</td>\n",
       "    </tr>\n",
       "    <tr>\n",
       "      <th>2</th>\n",
       "      <td>3</td>\n",
       "      <td>Green</td>\n",
       "      <td>Bay</td>\n",
       "      <td>Packers</td>\n",
       "      <td>720</td>\n",
       "      <td>547</td>\n",
       "      <td>37.000</td>\n",
       "      <td>0.566</td>\n",
       "      <td>1921</td>\n",
       "      <td>1,304</td>\n",
       "      <td>NFC</td>\n",
       "      <td>North</td>\n",
       "    </tr>\n",
       "    <tr>\n",
       "      <th>3</th>\n",
       "      <td>4</td>\n",
       "      <td>Miami</td>\n",
       "      <td>Dolphins</td>\n",
       "      <td>429</td>\n",
       "      <td>335</td>\n",
       "      <td>4</td>\n",
       "      <td>0.561</td>\n",
       "      <td>1966.000</td>\n",
       "      <td>768</td>\n",
       "      <td>AFC</td>\n",
       "      <td>East</td>\n",
       "      <td>NaN</td>\n",
       "    </tr>\n",
       "    <tr>\n",
       "      <th>4</th>\n",
       "      <td>5</td>\n",
       "      <td>New</td>\n",
       "      <td>England</td>\n",
       "      <td>Patriots</td>\n",
       "      <td>462</td>\n",
       "      <td>381</td>\n",
       "      <td>9.000</td>\n",
       "      <td>0.548</td>\n",
       "      <td>1960</td>\n",
       "      <td>852</td>\n",
       "      <td>AFC</td>\n",
       "      <td>East</td>\n",
       "    </tr>\n",
       "  </tbody>\n",
       "</table>\n",
       "</div>"
      ],
      "text/plain": [
       "   Rank     Team       Won      Lost  Tied  Pct.   First       NFL Season  \\\n",
       "0     1  Chicago     Bears       741   555    42   0.570  1920.000  1,338   \n",
       "1     2   Dallas   Cowboys       480   364     6   0.568  1960.000    850   \n",
       "2     3    Green       Bay   Packers   720   547  37.000     0.566   1921   \n",
       "3     4    Miami  Dolphins       429   335     4   0.561  1966.000    768   \n",
       "4     5      New   England  Patriots   462   381   9.000     0.548   1960   \n",
       "\n",
       "   Total  Games Division  \n",
       "0    NFC  North      NaN  \n",
       "1    NFC   East      NaN  \n",
       "2  1,304    NFC    North  \n",
       "3    AFC   East      NaN  \n",
       "4    852    AFC     East  "
      ]
     },
     "execution_count": 64,
     "metadata": {},
     "output_type": "execute_result"
    }
   ],
   "source": [
    "nfl_frame2.head()"
   ]
  },
  {
   "cell_type": "code",
   "execution_count": 69,
   "metadata": {
    "collapsed": true
   },
   "outputs": [],
   "source": [
    "### create a dictionary\n",
    "\n",
    "data={'city':['SF', 'LA', 'NYC'], 'Population':[837000,3880000,8400000]}"
   ]
  },
  {
   "cell_type": "code",
   "execution_count": 70,
   "metadata": {
    "collapsed": false
   },
   "outputs": [
    {
     "data": {
      "text/plain": [
       "{'Population': [837000, 3880000, 8400000], 'city': ['SF', 'LA', 'NYC']}"
      ]
     },
     "execution_count": 70,
     "metadata": {},
     "output_type": "execute_result"
    }
   ],
   "source": [
    "data"
   ]
  },
  {
   "cell_type": "code",
   "execution_count": 71,
   "metadata": {
    "collapsed": true
   },
   "outputs": [],
   "source": [
    "city_frame=DataFrame(data)"
   ]
  },
  {
   "cell_type": "code",
   "execution_count": 72,
   "metadata": {
    "collapsed": false
   },
   "outputs": [
    {
     "data": {
      "text/html": [
       "<div>\n",
       "<table border=\"1\" class=\"dataframe\">\n",
       "  <thead>\n",
       "    <tr style=\"text-align: right;\">\n",
       "      <th></th>\n",
       "      <th>Population</th>\n",
       "      <th>city</th>\n",
       "    </tr>\n",
       "  </thead>\n",
       "  <tbody>\n",
       "    <tr>\n",
       "      <th>0</th>\n",
       "      <td>837000</td>\n",
       "      <td>SF</td>\n",
       "    </tr>\n",
       "    <tr>\n",
       "      <th>1</th>\n",
       "      <td>3880000</td>\n",
       "      <td>LA</td>\n",
       "    </tr>\n",
       "    <tr>\n",
       "      <th>2</th>\n",
       "      <td>8400000</td>\n",
       "      <td>NYC</td>\n",
       "    </tr>\n",
       "  </tbody>\n",
       "</table>\n",
       "</div>"
      ],
      "text/plain": [
       "   Population city\n",
       "0      837000   SF\n",
       "1     3880000   LA\n",
       "2     8400000  NYC"
      ]
     },
     "execution_count": 72,
     "metadata": {},
     "output_type": "execute_result"
    }
   ],
   "source": [
    "city_frame"
   ]
  },
  {
   "cell_type": "markdown",
   "metadata": {},
   "source": [
    "# Index Objects"
   ]
  },
  {
   "cell_type": "code",
   "execution_count": 73,
   "metadata": {
    "collapsed": true
   },
   "outputs": [],
   "source": [
    "import numpy as np\n",
    "from pandas import Series, DataFrame\n",
    "\n",
    "import pandas as pd"
   ]
  },
  {
   "cell_type": "code",
   "execution_count": 74,
   "metadata": {
    "collapsed": true
   },
   "outputs": [],
   "source": [
    "my_ser=Series([1,2,3,4],index=['A','B','C','D'])"
   ]
  },
  {
   "cell_type": "code",
   "execution_count": 75,
   "metadata": {
    "collapsed": false
   },
   "outputs": [
    {
     "data": {
      "text/plain": [
       "A    1\n",
       "B    2\n",
       "C    3\n",
       "D    4\n",
       "dtype: int64"
      ]
     },
     "execution_count": 75,
     "metadata": {},
     "output_type": "execute_result"
    }
   ],
   "source": [
    "my_ser\n"
   ]
  },
  {
   "cell_type": "code",
   "execution_count": 76,
   "metadata": {
    "collapsed": true
   },
   "outputs": [],
   "source": [
    "my_index=my_ser.index"
   ]
  },
  {
   "cell_type": "code",
   "execution_count": 77,
   "metadata": {
    "collapsed": false
   },
   "outputs": [
    {
     "data": {
      "text/plain": [
       "Index([u'A', u'B', u'C', u'D'], dtype='object')"
      ]
     },
     "execution_count": 77,
     "metadata": {},
     "output_type": "execute_result"
    }
   ],
   "source": [
    "my_index"
   ]
  },
  {
   "cell_type": "code",
   "execution_count": 78,
   "metadata": {
    "collapsed": false
   },
   "outputs": [
    {
     "data": {
      "text/plain": [
       "'C'"
      ]
     },
     "execution_count": 78,
     "metadata": {},
     "output_type": "execute_result"
    }
   ],
   "source": [
    "my_index[2]"
   ]
  },
  {
   "cell_type": "code",
   "execution_count": 79,
   "metadata": {
    "collapsed": false
   },
   "outputs": [
    {
     "data": {
      "text/plain": [
       "Index([u'C', u'D'], dtype='object')"
      ]
     },
     "execution_count": 79,
     "metadata": {},
     "output_type": "execute_result"
    }
   ],
   "source": [
    "##get all from 2 \n",
    "my_index[2:]"
   ]
  },
  {
   "cell_type": "code",
   "execution_count": 80,
   "metadata": {
    "collapsed": false
   },
   "outputs": [
    {
     "data": {
      "text/plain": [
       "'A'"
      ]
     },
     "execution_count": 80,
     "metadata": {},
     "output_type": "execute_result"
    }
   ],
   "source": [
    "my_index[0]"
   ]
  },
  {
   "cell_type": "code",
   "execution_count": 83,
   "metadata": {
    "collapsed": false
   },
   "outputs": [
    {
     "ename": "TypeError",
     "evalue": "Index does not support mutable operations",
     "output_type": "error",
     "traceback": [
      "\u001b[1;31m---------------------------------------------------------------------------\u001b[0m",
      "\u001b[1;31mTypeError\u001b[0m                                 Traceback (most recent call last)",
      "\u001b[1;32m<ipython-input-83-2bc13d3eb7ef>\u001b[0m in \u001b[0;36m<module>\u001b[1;34m()\u001b[0m\n\u001b[0;32m      1\u001b[0m \u001b[1;31m###!!!!INDEXES ARE IMMUTABLE!!!\u001b[0m\u001b[1;33m\u001b[0m\u001b[1;33m\u001b[0m\u001b[0m\n\u001b[0;32m      2\u001b[0m \u001b[1;33m\u001b[0m\u001b[0m\n\u001b[1;32m----> 3\u001b[1;33m \u001b[0mmy_index\u001b[0m\u001b[1;33m[\u001b[0m\u001b[1;36m0\u001b[0m\u001b[1;33m]\u001b[0m\u001b[1;33m=\u001b[0m\u001b[1;34m'Z'\u001b[0m\u001b[1;33m\u001b[0m\u001b[0m\n\u001b[0m",
      "\u001b[1;32mC:\\Users\\gpipis\\AppData\\Local\\Continuum\\Anaconda2\\lib\\site-packages\\pandas\\indexes\\base.pyc\u001b[0m in \u001b[0;36m__setitem__\u001b[1;34m(self, key, value)\u001b[0m\n\u001b[0;32m   1235\u001b[0m \u001b[1;33m\u001b[0m\u001b[0m\n\u001b[0;32m   1236\u001b[0m     \u001b[1;32mdef\u001b[0m \u001b[0m__setitem__\u001b[0m\u001b[1;33m(\u001b[0m\u001b[0mself\u001b[0m\u001b[1;33m,\u001b[0m \u001b[0mkey\u001b[0m\u001b[1;33m,\u001b[0m \u001b[0mvalue\u001b[0m\u001b[1;33m)\u001b[0m\u001b[1;33m:\u001b[0m\u001b[1;33m\u001b[0m\u001b[0m\n\u001b[1;32m-> 1237\u001b[1;33m         \u001b[1;32mraise\u001b[0m \u001b[0mTypeError\u001b[0m\u001b[1;33m(\u001b[0m\u001b[1;34m\"Index does not support mutable operations\"\u001b[0m\u001b[1;33m)\u001b[0m\u001b[1;33m\u001b[0m\u001b[0m\n\u001b[0m\u001b[0;32m   1238\u001b[0m \u001b[1;33m\u001b[0m\u001b[0m\n\u001b[0;32m   1239\u001b[0m     \u001b[1;32mdef\u001b[0m \u001b[0m__getitem__\u001b[0m\u001b[1;33m(\u001b[0m\u001b[0mself\u001b[0m\u001b[1;33m,\u001b[0m \u001b[0mkey\u001b[0m\u001b[1;33m)\u001b[0m\u001b[1;33m:\u001b[0m\u001b[1;33m\u001b[0m\u001b[0m\n",
      "\u001b[1;31mTypeError\u001b[0m: Index does not support mutable operations"
     ]
    }
   ],
   "source": [
    "###!!!!INDEXES ARE IMMUTABLE!!!\n",
    "\n",
    "my_index[0]='Z'"
   ]
  },
  {
   "cell_type": "markdown",
   "metadata": {},
   "source": [
    "# Reindexing"
   ]
  },
  {
   "cell_type": "code",
   "execution_count": 84,
   "metadata": {
    "collapsed": true
   },
   "outputs": [],
   "source": [
    "import numpy as np\n",
    "from pandas import Series, DataFrame\n",
    "\n",
    "import pandas as pd\n",
    "\n",
    "from numpy.random import randn"
   ]
  },
  {
   "cell_type": "code",
   "execution_count": 85,
   "metadata": {
    "collapsed": true
   },
   "outputs": [],
   "source": [
    "ser1=Series([1,2,3,4], index=['A','B','C','D'])"
   ]
  },
  {
   "cell_type": "code",
   "execution_count": 86,
   "metadata": {
    "collapsed": false
   },
   "outputs": [
    {
     "data": {
      "text/plain": [
       "A    1\n",
       "B    2\n",
       "C    3\n",
       "D    4\n",
       "dtype: int64"
      ]
     },
     "execution_count": 86,
     "metadata": {},
     "output_type": "execute_result"
    }
   ],
   "source": [
    "ser1"
   ]
  },
  {
   "cell_type": "code",
   "execution_count": 87,
   "metadata": {
    "collapsed": true
   },
   "outputs": [],
   "source": [
    "ser2=ser1.reindex(['A','B','C','D','E','F'])"
   ]
  },
  {
   "cell_type": "code",
   "execution_count": 88,
   "metadata": {
    "collapsed": false
   },
   "outputs": [
    {
     "data": {
      "text/plain": [
       "A    1.0\n",
       "B    2.0\n",
       "C    3.0\n",
       "D    4.0\n",
       "E    NaN\n",
       "F    NaN\n",
       "dtype: float64"
      ]
     },
     "execution_count": 88,
     "metadata": {},
     "output_type": "execute_result"
    }
   ],
   "source": [
    "ser2"
   ]
  },
  {
   "cell_type": "code",
   "execution_count": 89,
   "metadata": {
    "collapsed": false
   },
   "outputs": [
    {
     "data": {
      "text/plain": [
       "A    1\n",
       "B    2\n",
       "C    3\n",
       "D    4\n",
       "dtype: int64"
      ]
     },
     "execution_count": 89,
     "metadata": {},
     "output_type": "execute_result"
    }
   ],
   "source": [
    "ser1"
   ]
  },
  {
   "cell_type": "code",
   "execution_count": 93,
   "metadata": {
    "collapsed": false
   },
   "outputs": [
    {
     "data": {
      "text/plain": [
       "A    0\n",
       "B    0\n",
       "C    0\n",
       "D    0\n",
       "E    0\n",
       "F    0\n",
       "G    0\n",
       "dtype: object"
      ]
     },
     "execution_count": 93,
     "metadata": {},
     "output_type": "execute_result"
    }
   ],
   "source": [
    "###the fill_value assign the value 0 to the new values instead of NaN\n",
    "ser2.reindex(['A','B','C','D','E','F','G'], fill_value=0)"
   ]
  },
  {
   "cell_type": "code",
   "execution_count": 94,
   "metadata": {
    "collapsed": true
   },
   "outputs": [],
   "source": [
    "ser3=Series(['USA','Mexico','Canada'], index=[0,5,10])"
   ]
  },
  {
   "cell_type": "code",
   "execution_count": 95,
   "metadata": {
    "collapsed": false
   },
   "outputs": [
    {
     "data": {
      "text/plain": [
       "0        USA\n",
       "5     Mexico\n",
       "10    Canada\n",
       "dtype: object"
      ]
     },
     "execution_count": 95,
     "metadata": {},
     "output_type": "execute_result"
    }
   ],
   "source": [
    "ser3"
   ]
  },
  {
   "cell_type": "code",
   "execution_count": 96,
   "metadata": {
    "collapsed": true
   },
   "outputs": [],
   "source": [
    "ranger=range(15)"
   ]
  },
  {
   "cell_type": "code",
   "execution_count": 97,
   "metadata": {
    "collapsed": false
   },
   "outputs": [
    {
     "data": {
      "text/plain": [
       "[0, 1, 2, 3, 4, 5, 6, 7, 8, 9, 10, 11, 12, 13, 14]"
      ]
     },
     "execution_count": 97,
     "metadata": {},
     "output_type": "execute_result"
    }
   ],
   "source": [
    "ranger"
   ]
  },
  {
   "cell_type": "code",
   "execution_count": 98,
   "metadata": {
    "collapsed": false
   },
   "outputs": [
    {
     "data": {
      "text/plain": [
       "0        USA\n",
       "1        USA\n",
       "2        USA\n",
       "3        USA\n",
       "4        USA\n",
       "5     Mexico\n",
       "6     Mexico\n",
       "7     Mexico\n",
       "8     Mexico\n",
       "9     Mexico\n",
       "10    Canada\n",
       "11    Canada\n",
       "12    Canada\n",
       "13    Canada\n",
       "14    Canada\n",
       "dtype: object"
      ]
     },
     "execution_count": 98,
     "metadata": {},
     "output_type": "execute_result"
    }
   ],
   "source": [
    "###the ffill graps the previous values when does not exist the particular index\n",
    "\n",
    "ser3.reindex(ranger,method='ffill')"
   ]
  },
  {
   "cell_type": "code",
   "execution_count": 99,
   "metadata": {
    "collapsed": false
   },
   "outputs": [
    {
     "data": {
      "text/html": [
       "<div>\n",
       "<table border=\"1\" class=\"dataframe\">\n",
       "  <thead>\n",
       "    <tr style=\"text-align: right;\">\n",
       "      <th></th>\n",
       "      <th>col1</th>\n",
       "      <th>col2</th>\n",
       "      <th>col3</th>\n",
       "      <th>col4</th>\n",
       "      <th>col5</th>\n",
       "    </tr>\n",
       "  </thead>\n",
       "  <tbody>\n",
       "    <tr>\n",
       "      <th>A</th>\n",
       "      <td>-1.094445</td>\n",
       "      <td>0.107089</td>\n",
       "      <td>2.269432</td>\n",
       "      <td>0.391644</td>\n",
       "      <td>-1.550756</td>\n",
       "    </tr>\n",
       "    <tr>\n",
       "      <th>B</th>\n",
       "      <td>0.148390</td>\n",
       "      <td>0.887957</td>\n",
       "      <td>1.184949</td>\n",
       "      <td>-0.423574</td>\n",
       "      <td>-0.925696</td>\n",
       "    </tr>\n",
       "    <tr>\n",
       "      <th>D</th>\n",
       "      <td>-0.012260</td>\n",
       "      <td>-0.251771</td>\n",
       "      <td>-0.929250</td>\n",
       "      <td>-0.372775</td>\n",
       "      <td>-0.160995</td>\n",
       "    </tr>\n",
       "    <tr>\n",
       "      <th>E</th>\n",
       "      <td>1.098587</td>\n",
       "      <td>1.093668</td>\n",
       "      <td>0.671058</td>\n",
       "      <td>-0.368663</td>\n",
       "      <td>-1.701764</td>\n",
       "    </tr>\n",
       "    <tr>\n",
       "      <th>F</th>\n",
       "      <td>-0.794559</td>\n",
       "      <td>2.033171</td>\n",
       "      <td>-1.084107</td>\n",
       "      <td>0.247221</td>\n",
       "      <td>-0.471377</td>\n",
       "    </tr>\n",
       "  </tbody>\n",
       "</table>\n",
       "</div>"
      ],
      "text/plain": [
       "       col1      col2      col3      col4      col5\n",
       "A -1.094445  0.107089  2.269432  0.391644 -1.550756\n",
       "B  0.148390  0.887957  1.184949 -0.423574 -0.925696\n",
       "D -0.012260 -0.251771 -0.929250 -0.372775 -0.160995\n",
       "E  1.098587  1.093668  0.671058 -0.368663 -1.701764\n",
       "F -0.794559  2.033171 -1.084107  0.247221 -0.471377"
      ]
     },
     "execution_count": 99,
     "metadata": {},
     "output_type": "execute_result"
    }
   ],
   "source": [
    "dframe=DataFrame(randn(25).reshape((5,5)),index=['A','B','D','E', 'F'], columns=['col1', 'col2', 'col3','col4', 'col5'])\n",
    "\n",
    "dframe"
   ]
  },
  {
   "cell_type": "code",
   "execution_count": 102,
   "metadata": {
    "collapsed": false
   },
   "outputs": [],
   "source": [
    "dframe2=dframe.reindex(['A','B','C','D','E', 'F'])"
   ]
  },
  {
   "cell_type": "code",
   "execution_count": 104,
   "metadata": {
    "collapsed": false
   },
   "outputs": [
    {
     "data": {
      "text/html": [
       "<div>\n",
       "<table border=\"1\" class=\"dataframe\">\n",
       "  <thead>\n",
       "    <tr style=\"text-align: right;\">\n",
       "      <th></th>\n",
       "      <th>col1</th>\n",
       "      <th>col2</th>\n",
       "      <th>col3</th>\n",
       "      <th>col4</th>\n",
       "      <th>col5</th>\n",
       "    </tr>\n",
       "  </thead>\n",
       "  <tbody>\n",
       "    <tr>\n",
       "      <th>A</th>\n",
       "      <td>-1.094445</td>\n",
       "      <td>0.107089</td>\n",
       "      <td>2.269432</td>\n",
       "      <td>0.391644</td>\n",
       "      <td>-1.550756</td>\n",
       "    </tr>\n",
       "    <tr>\n",
       "      <th>B</th>\n",
       "      <td>0.148390</td>\n",
       "      <td>0.887957</td>\n",
       "      <td>1.184949</td>\n",
       "      <td>-0.423574</td>\n",
       "      <td>-0.925696</td>\n",
       "    </tr>\n",
       "    <tr>\n",
       "      <th>C</th>\n",
       "      <td>NaN</td>\n",
       "      <td>NaN</td>\n",
       "      <td>NaN</td>\n",
       "      <td>NaN</td>\n",
       "      <td>NaN</td>\n",
       "    </tr>\n",
       "    <tr>\n",
       "      <th>D</th>\n",
       "      <td>-0.012260</td>\n",
       "      <td>-0.251771</td>\n",
       "      <td>-0.929250</td>\n",
       "      <td>-0.372775</td>\n",
       "      <td>-0.160995</td>\n",
       "    </tr>\n",
       "    <tr>\n",
       "      <th>E</th>\n",
       "      <td>1.098587</td>\n",
       "      <td>1.093668</td>\n",
       "      <td>0.671058</td>\n",
       "      <td>-0.368663</td>\n",
       "      <td>-1.701764</td>\n",
       "    </tr>\n",
       "    <tr>\n",
       "      <th>F</th>\n",
       "      <td>-0.794559</td>\n",
       "      <td>2.033171</td>\n",
       "      <td>-1.084107</td>\n",
       "      <td>0.247221</td>\n",
       "      <td>-0.471377</td>\n",
       "    </tr>\n",
       "  </tbody>\n",
       "</table>\n",
       "</div>"
      ],
      "text/plain": [
       "       col1      col2      col3      col4      col5\n",
       "A -1.094445  0.107089  2.269432  0.391644 -1.550756\n",
       "B  0.148390  0.887957  1.184949 -0.423574 -0.925696\n",
       "C       NaN       NaN       NaN       NaN       NaN\n",
       "D -0.012260 -0.251771 -0.929250 -0.372775 -0.160995\n",
       "E  1.098587  1.093668  0.671058 -0.368663 -1.701764\n",
       "F -0.794559  2.033171 -1.084107  0.247221 -0.471377"
      ]
     },
     "execution_count": 104,
     "metadata": {},
     "output_type": "execute_result"
    }
   ],
   "source": [
    "dframe2"
   ]
  },
  {
   "cell_type": "code",
   "execution_count": 105,
   "metadata": {
    "collapsed": true
   },
   "outputs": [],
   "source": [
    "new_columns=['col1', 'col2', 'col3','col4', 'col5', 'col6']"
   ]
  },
  {
   "cell_type": "code",
   "execution_count": 106,
   "metadata": {
    "collapsed": false
   },
   "outputs": [
    {
     "data": {
      "text/html": [
       "<div>\n",
       "<table border=\"1\" class=\"dataframe\">\n",
       "  <thead>\n",
       "    <tr style=\"text-align: right;\">\n",
       "      <th></th>\n",
       "      <th>col1</th>\n",
       "      <th>col2</th>\n",
       "      <th>col3</th>\n",
       "      <th>col4</th>\n",
       "      <th>col5</th>\n",
       "      <th>col6</th>\n",
       "    </tr>\n",
       "  </thead>\n",
       "  <tbody>\n",
       "    <tr>\n",
       "      <th>A</th>\n",
       "      <td>-1.094445</td>\n",
       "      <td>0.107089</td>\n",
       "      <td>2.269432</td>\n",
       "      <td>0.391644</td>\n",
       "      <td>-1.550756</td>\n",
       "      <td>NaN</td>\n",
       "    </tr>\n",
       "    <tr>\n",
       "      <th>B</th>\n",
       "      <td>0.148390</td>\n",
       "      <td>0.887957</td>\n",
       "      <td>1.184949</td>\n",
       "      <td>-0.423574</td>\n",
       "      <td>-0.925696</td>\n",
       "      <td>NaN</td>\n",
       "    </tr>\n",
       "    <tr>\n",
       "      <th>C</th>\n",
       "      <td>NaN</td>\n",
       "      <td>NaN</td>\n",
       "      <td>NaN</td>\n",
       "      <td>NaN</td>\n",
       "      <td>NaN</td>\n",
       "      <td>NaN</td>\n",
       "    </tr>\n",
       "    <tr>\n",
       "      <th>D</th>\n",
       "      <td>-0.012260</td>\n",
       "      <td>-0.251771</td>\n",
       "      <td>-0.929250</td>\n",
       "      <td>-0.372775</td>\n",
       "      <td>-0.160995</td>\n",
       "      <td>NaN</td>\n",
       "    </tr>\n",
       "    <tr>\n",
       "      <th>E</th>\n",
       "      <td>1.098587</td>\n",
       "      <td>1.093668</td>\n",
       "      <td>0.671058</td>\n",
       "      <td>-0.368663</td>\n",
       "      <td>-1.701764</td>\n",
       "      <td>NaN</td>\n",
       "    </tr>\n",
       "    <tr>\n",
       "      <th>F</th>\n",
       "      <td>-0.794559</td>\n",
       "      <td>2.033171</td>\n",
       "      <td>-1.084107</td>\n",
       "      <td>0.247221</td>\n",
       "      <td>-0.471377</td>\n",
       "      <td>NaN</td>\n",
       "    </tr>\n",
       "  </tbody>\n",
       "</table>\n",
       "</div>"
      ],
      "text/plain": [
       "       col1      col2      col3      col4      col5  col6\n",
       "A -1.094445  0.107089  2.269432  0.391644 -1.550756   NaN\n",
       "B  0.148390  0.887957  1.184949 -0.423574 -0.925696   NaN\n",
       "C       NaN       NaN       NaN       NaN       NaN   NaN\n",
       "D -0.012260 -0.251771 -0.929250 -0.372775 -0.160995   NaN\n",
       "E  1.098587  1.093668  0.671058 -0.368663 -1.701764   NaN\n",
       "F -0.794559  2.033171 -1.084107  0.247221 -0.471377   NaN"
      ]
     },
     "execution_count": 106,
     "metadata": {},
     "output_type": "execute_result"
    }
   ],
   "source": [
    "dframe2.reindex(columns=new_columns)"
   ]
  },
  {
   "cell_type": "code",
   "execution_count": 107,
   "metadata": {
    "collapsed": false
   },
   "outputs": [
    {
     "data": {
      "text/html": [
       "<div>\n",
       "<table border=\"1\" class=\"dataframe\">\n",
       "  <thead>\n",
       "    <tr style=\"text-align: right;\">\n",
       "      <th></th>\n",
       "      <th>col1</th>\n",
       "      <th>col2</th>\n",
       "      <th>col3</th>\n",
       "      <th>col4</th>\n",
       "      <th>col5</th>\n",
       "      <th>col6</th>\n",
       "    </tr>\n",
       "  </thead>\n",
       "  <tbody>\n",
       "    <tr>\n",
       "      <th>A</th>\n",
       "      <td>-1.094445</td>\n",
       "      <td>0.107089</td>\n",
       "      <td>2.269432</td>\n",
       "      <td>0.391644</td>\n",
       "      <td>-1.550756</td>\n",
       "      <td>NaN</td>\n",
       "    </tr>\n",
       "    <tr>\n",
       "      <th>B</th>\n",
       "      <td>0.148390</td>\n",
       "      <td>0.887957</td>\n",
       "      <td>1.184949</td>\n",
       "      <td>-0.423574</td>\n",
       "      <td>-0.925696</td>\n",
       "      <td>NaN</td>\n",
       "    </tr>\n",
       "    <tr>\n",
       "      <th>C</th>\n",
       "      <td>NaN</td>\n",
       "      <td>NaN</td>\n",
       "      <td>NaN</td>\n",
       "      <td>NaN</td>\n",
       "      <td>NaN</td>\n",
       "      <td>NaN</td>\n",
       "    </tr>\n",
       "    <tr>\n",
       "      <th>D</th>\n",
       "      <td>-0.012260</td>\n",
       "      <td>-0.251771</td>\n",
       "      <td>-0.929250</td>\n",
       "      <td>-0.372775</td>\n",
       "      <td>-0.160995</td>\n",
       "      <td>NaN</td>\n",
       "    </tr>\n",
       "    <tr>\n",
       "      <th>E</th>\n",
       "      <td>1.098587</td>\n",
       "      <td>1.093668</td>\n",
       "      <td>0.671058</td>\n",
       "      <td>-0.368663</td>\n",
       "      <td>-1.701764</td>\n",
       "      <td>NaN</td>\n",
       "    </tr>\n",
       "    <tr>\n",
       "      <th>F</th>\n",
       "      <td>-0.794559</td>\n",
       "      <td>2.033171</td>\n",
       "      <td>-1.084107</td>\n",
       "      <td>0.247221</td>\n",
       "      <td>-0.471377</td>\n",
       "      <td>NaN</td>\n",
       "    </tr>\n",
       "  </tbody>\n",
       "</table>\n",
       "</div>"
      ],
      "text/plain": [
       "       col1      col2      col3      col4      col5  col6\n",
       "A -1.094445  0.107089  2.269432  0.391644 -1.550756   NaN\n",
       "B  0.148390  0.887957  1.184949 -0.423574 -0.925696   NaN\n",
       "C       NaN       NaN       NaN       NaN       NaN   NaN\n",
       "D -0.012260 -0.251771 -0.929250 -0.372775 -0.160995   NaN\n",
       "E  1.098587  1.093668  0.671058 -0.368663 -1.701764   NaN\n",
       "F -0.794559  2.033171 -1.084107  0.247221 -0.471377   NaN"
      ]
     },
     "execution_count": 107,
     "metadata": {},
     "output_type": "execute_result"
    }
   ],
   "source": [
    "###alternative way to reindex with ix\n",
    "\n",
    "dframe.ix[['A','B','C','D','E','F'], new_columns]"
   ]
  },
  {
   "cell_type": "code",
   "execution_count": 108,
   "metadata": {
    "collapsed": false
   },
   "outputs": [
    {
     "data": {
      "text/html": [
       "<div>\n",
       "<table border=\"1\" class=\"dataframe\">\n",
       "  <thead>\n",
       "    <tr style=\"text-align: right;\">\n",
       "      <th></th>\n",
       "      <th>col1</th>\n",
       "      <th>col2</th>\n",
       "      <th>col3</th>\n",
       "      <th>col4</th>\n",
       "      <th>col5</th>\n",
       "    </tr>\n",
       "  </thead>\n",
       "  <tbody>\n",
       "    <tr>\n",
       "      <th>A</th>\n",
       "      <td>-1.094445</td>\n",
       "      <td>0.107089</td>\n",
       "      <td>2.269432</td>\n",
       "      <td>0.391644</td>\n",
       "      <td>-1.550756</td>\n",
       "    </tr>\n",
       "    <tr>\n",
       "      <th>B</th>\n",
       "      <td>0.148390</td>\n",
       "      <td>0.887957</td>\n",
       "      <td>1.184949</td>\n",
       "      <td>-0.423574</td>\n",
       "      <td>-0.925696</td>\n",
       "    </tr>\n",
       "    <tr>\n",
       "      <th>D</th>\n",
       "      <td>-0.012260</td>\n",
       "      <td>-0.251771</td>\n",
       "      <td>-0.929250</td>\n",
       "      <td>-0.372775</td>\n",
       "      <td>-0.160995</td>\n",
       "    </tr>\n",
       "    <tr>\n",
       "      <th>E</th>\n",
       "      <td>1.098587</td>\n",
       "      <td>1.093668</td>\n",
       "      <td>0.671058</td>\n",
       "      <td>-0.368663</td>\n",
       "      <td>-1.701764</td>\n",
       "    </tr>\n",
       "    <tr>\n",
       "      <th>F</th>\n",
       "      <td>-0.794559</td>\n",
       "      <td>2.033171</td>\n",
       "      <td>-1.084107</td>\n",
       "      <td>0.247221</td>\n",
       "      <td>-0.471377</td>\n",
       "    </tr>\n",
       "  </tbody>\n",
       "</table>\n",
       "</div>"
      ],
      "text/plain": [
       "       col1      col2      col3      col4      col5\n",
       "A -1.094445  0.107089  2.269432  0.391644 -1.550756\n",
       "B  0.148390  0.887957  1.184949 -0.423574 -0.925696\n",
       "D -0.012260 -0.251771 -0.929250 -0.372775 -0.160995\n",
       "E  1.098587  1.093668  0.671058 -0.368663 -1.701764\n",
       "F -0.794559  2.033171 -1.084107  0.247221 -0.471377"
      ]
     },
     "execution_count": 108,
     "metadata": {},
     "output_type": "execute_result"
    }
   ],
   "source": [
    "dframe"
   ]
  },
  {
   "cell_type": "code",
   "execution_count": 109,
   "metadata": {
    "collapsed": false
   },
   "outputs": [
    {
     "data": {
      "text/html": [
       "<div>\n",
       "<table border=\"1\" class=\"dataframe\">\n",
       "  <thead>\n",
       "    <tr style=\"text-align: right;\">\n",
       "      <th></th>\n",
       "      <th>col1</th>\n",
       "      <th>col2</th>\n",
       "      <th>col3</th>\n",
       "      <th>col4</th>\n",
       "      <th>col5</th>\n",
       "    </tr>\n",
       "  </thead>\n",
       "  <tbody>\n",
       "    <tr>\n",
       "      <th>A</th>\n",
       "      <td>-1.094445</td>\n",
       "      <td>0.107089</td>\n",
       "      <td>2.269432</td>\n",
       "      <td>0.391644</td>\n",
       "      <td>-1.550756</td>\n",
       "    </tr>\n",
       "    <tr>\n",
       "      <th>B</th>\n",
       "      <td>0.148390</td>\n",
       "      <td>0.887957</td>\n",
       "      <td>1.184949</td>\n",
       "      <td>-0.423574</td>\n",
       "      <td>-0.925696</td>\n",
       "    </tr>\n",
       "    <tr>\n",
       "      <th>C</th>\n",
       "      <td>NaN</td>\n",
       "      <td>NaN</td>\n",
       "      <td>NaN</td>\n",
       "      <td>NaN</td>\n",
       "      <td>NaN</td>\n",
       "    </tr>\n",
       "    <tr>\n",
       "      <th>D</th>\n",
       "      <td>-0.012260</td>\n",
       "      <td>-0.251771</td>\n",
       "      <td>-0.929250</td>\n",
       "      <td>-0.372775</td>\n",
       "      <td>-0.160995</td>\n",
       "    </tr>\n",
       "    <tr>\n",
       "      <th>E</th>\n",
       "      <td>1.098587</td>\n",
       "      <td>1.093668</td>\n",
       "      <td>0.671058</td>\n",
       "      <td>-0.368663</td>\n",
       "      <td>-1.701764</td>\n",
       "    </tr>\n",
       "    <tr>\n",
       "      <th>F</th>\n",
       "      <td>-0.794559</td>\n",
       "      <td>2.033171</td>\n",
       "      <td>-1.084107</td>\n",
       "      <td>0.247221</td>\n",
       "      <td>-0.471377</td>\n",
       "    </tr>\n",
       "  </tbody>\n",
       "</table>\n",
       "</div>"
      ],
      "text/plain": [
       "       col1      col2      col3      col4      col5\n",
       "A -1.094445  0.107089  2.269432  0.391644 -1.550756\n",
       "B  0.148390  0.887957  1.184949 -0.423574 -0.925696\n",
       "C       NaN       NaN       NaN       NaN       NaN\n",
       "D -0.012260 -0.251771 -0.929250 -0.372775 -0.160995\n",
       "E  1.098587  1.093668  0.671058 -0.368663 -1.701764\n",
       "F -0.794559  2.033171 -1.084107  0.247221 -0.471377"
      ]
     },
     "execution_count": 109,
     "metadata": {},
     "output_type": "execute_result"
    }
   ],
   "source": [
    "dframe2"
   ]
  },
  {
   "cell_type": "markdown",
   "metadata": {},
   "source": [
    "# Drop Entry"
   ]
  },
  {
   "cell_type": "code",
   "execution_count": 110,
   "metadata": {
    "collapsed": true
   },
   "outputs": [],
   "source": [
    "import numpy as np\n",
    "from pandas import Series, DataFrame\n",
    "import pandas as pd"
   ]
  },
  {
   "cell_type": "code",
   "execution_count": 111,
   "metadata": {
    "collapsed": true
   },
   "outputs": [],
   "source": [
    "ser1=Series(np.arange(3), index=['a','b','c'])"
   ]
  },
  {
   "cell_type": "code",
   "execution_count": 112,
   "metadata": {
    "collapsed": false
   },
   "outputs": [
    {
     "data": {
      "text/plain": [
       "a    0\n",
       "b    1\n",
       "c    2\n",
       "dtype: int32"
      ]
     },
     "execution_count": 112,
     "metadata": {},
     "output_type": "execute_result"
    }
   ],
   "source": [
    "ser1"
   ]
  },
  {
   "cell_type": "code",
   "execution_count": 113,
   "metadata": {
    "collapsed": false
   },
   "outputs": [
    {
     "data": {
      "text/plain": [
       "a    0\n",
       "c    2\n",
       "dtype: int32"
      ]
     },
     "execution_count": 113,
     "metadata": {},
     "output_type": "execute_result"
    }
   ],
   "source": [
    "###to drop an index\n",
    "ser1.drop('b')"
   ]
  },
  {
   "cell_type": "code",
   "execution_count": 115,
   "metadata": {
    "collapsed": false
   },
   "outputs": [],
   "source": [
    "###now for data frames\n",
    "\n",
    "dframe1=DataFrame(np.arange(9).reshape((3,3)), index=['SF', 'LA', 'NY'], columns=['pop', 'size', 'year'])"
   ]
  },
  {
   "cell_type": "code",
   "execution_count": 117,
   "metadata": {
    "collapsed": false
   },
   "outputs": [
    {
     "data": {
      "text/html": [
       "<div>\n",
       "<table border=\"1\" class=\"dataframe\">\n",
       "  <thead>\n",
       "    <tr style=\"text-align: right;\">\n",
       "      <th></th>\n",
       "      <th>pop</th>\n",
       "      <th>size</th>\n",
       "      <th>year</th>\n",
       "    </tr>\n",
       "  </thead>\n",
       "  <tbody>\n",
       "    <tr>\n",
       "      <th>SF</th>\n",
       "      <td>0</td>\n",
       "      <td>1</td>\n",
       "      <td>2</td>\n",
       "    </tr>\n",
       "    <tr>\n",
       "      <th>LA</th>\n",
       "      <td>3</td>\n",
       "      <td>4</td>\n",
       "      <td>5</td>\n",
       "    </tr>\n",
       "    <tr>\n",
       "      <th>NY</th>\n",
       "      <td>6</td>\n",
       "      <td>7</td>\n",
       "      <td>8</td>\n",
       "    </tr>\n",
       "  </tbody>\n",
       "</table>\n",
       "</div>"
      ],
      "text/plain": [
       "    pop  size  year\n",
       "SF    0     1     2\n",
       "LA    3     4     5\n",
       "NY    6     7     8"
      ]
     },
     "execution_count": 117,
     "metadata": {},
     "output_type": "execute_result"
    }
   ],
   "source": [
    "dframe1"
   ]
  },
  {
   "cell_type": "code",
   "execution_count": 120,
   "metadata": {
    "collapsed": false
   },
   "outputs": [
    {
     "data": {
      "text/html": [
       "<div>\n",
       "<table border=\"1\" class=\"dataframe\">\n",
       "  <thead>\n",
       "    <tr style=\"text-align: right;\">\n",
       "      <th></th>\n",
       "      <th>pop</th>\n",
       "      <th>size</th>\n",
       "      <th>year</th>\n",
       "    </tr>\n",
       "  </thead>\n",
       "  <tbody>\n",
       "    <tr>\n",
       "      <th>SF</th>\n",
       "      <td>0</td>\n",
       "      <td>1</td>\n",
       "      <td>2</td>\n",
       "    </tr>\n",
       "    <tr>\n",
       "      <th>NY</th>\n",
       "      <td>6</td>\n",
       "      <td>7</td>\n",
       "      <td>8</td>\n",
       "    </tr>\n",
       "  </tbody>\n",
       "</table>\n",
       "</div>"
      ],
      "text/plain": [
       "    pop  size  year\n",
       "SF    0     1     2\n",
       "NY    6     7     8"
      ]
     },
     "execution_count": 120,
     "metadata": {},
     "output_type": "execute_result"
    }
   ],
   "source": [
    "###drop a row\n",
    "dframe1.drop('LA')"
   ]
  },
  {
   "cell_type": "code",
   "execution_count": 121,
   "metadata": {
    "collapsed": false
   },
   "outputs": [
    {
     "data": {
      "text/html": [
       "<div>\n",
       "<table border=\"1\" class=\"dataframe\">\n",
       "  <thead>\n",
       "    <tr style=\"text-align: right;\">\n",
       "      <th></th>\n",
       "      <th>pop</th>\n",
       "      <th>size</th>\n",
       "    </tr>\n",
       "  </thead>\n",
       "  <tbody>\n",
       "    <tr>\n",
       "      <th>SF</th>\n",
       "      <td>0</td>\n",
       "      <td>1</td>\n",
       "    </tr>\n",
       "    <tr>\n",
       "      <th>LA</th>\n",
       "      <td>3</td>\n",
       "      <td>4</td>\n",
       "    </tr>\n",
       "    <tr>\n",
       "      <th>NY</th>\n",
       "      <td>6</td>\n",
       "      <td>7</td>\n",
       "    </tr>\n",
       "  </tbody>\n",
       "</table>\n",
       "</div>"
      ],
      "text/plain": [
       "    pop  size\n",
       "SF    0     1\n",
       "LA    3     4\n",
       "NY    6     7"
      ]
     },
     "execution_count": 121,
     "metadata": {},
     "output_type": "execute_result"
    }
   ],
   "source": [
    "###drop a column\n",
    "dframe1.drop('year', axis=1)"
   ]
  },
  {
   "cell_type": "markdown",
   "metadata": {},
   "source": [
    "# Selecting Entries"
   ]
  },
  {
   "cell_type": "code",
   "execution_count": 122,
   "metadata": {
    "collapsed": true
   },
   "outputs": [],
   "source": [
    "ser1=Series(np.arange(3), index=['a','b','c'])"
   ]
  },
  {
   "cell_type": "code",
   "execution_count": 123,
   "metadata": {
    "collapsed": true
   },
   "outputs": [],
   "source": [
    "ser1=2*ser1"
   ]
  },
  {
   "cell_type": "code",
   "execution_count": 124,
   "metadata": {
    "collapsed": false
   },
   "outputs": [
    {
     "data": {
      "text/plain": [
       "a    0\n",
       "b    2\n",
       "c    4\n",
       "dtype: int32"
      ]
     },
     "execution_count": 124,
     "metadata": {},
     "output_type": "execute_result"
    }
   ],
   "source": [
    "ser1"
   ]
  },
  {
   "cell_type": "code",
   "execution_count": 127,
   "metadata": {
    "collapsed": false
   },
   "outputs": [
    {
     "data": {
      "text/plain": [
       "2"
      ]
     },
     "execution_count": 127,
     "metadata": {},
     "output_type": "execute_result"
    }
   ],
   "source": [
    "###by index values\n",
    "ser1['b']"
   ]
  },
  {
   "cell_type": "code",
   "execution_count": 129,
   "metadata": {
    "collapsed": false
   },
   "outputs": [
    {
     "data": {
      "text/plain": [
       "2"
      ]
     },
     "execution_count": 129,
     "metadata": {},
     "output_type": "execute_result"
    }
   ],
   "source": [
    "###by index\n",
    "ser1[1]"
   ]
  },
  {
   "cell_type": "code",
   "execution_count": 132,
   "metadata": {
    "collapsed": false
   },
   "outputs": [
    {
     "data": {
      "text/plain": [
       "a    0\n",
       "b    2\n",
       "c    4\n",
       "dtype: int32"
      ]
     },
     "execution_count": 132,
     "metadata": {},
     "output_type": "execute_result"
    }
   ],
   "source": [
    "##by index numerical\n",
    "ser1[0:3]"
   ]
  },
  {
   "cell_type": "code",
   "execution_count": 133,
   "metadata": {
    "collapsed": false
   },
   "outputs": [
    {
     "data": {
      "text/plain": [
       "a    0\n",
       "b    2\n",
       "dtype: int32"
      ]
     },
     "execution_count": 133,
     "metadata": {},
     "output_type": "execute_result"
    }
   ],
   "source": [
    "##by index values\n",
    "ser1[['a', 'b']]"
   ]
  },
  {
   "cell_type": "code",
   "execution_count": 134,
   "metadata": {
    "collapsed": false
   },
   "outputs": [
    {
     "data": {
      "text/plain": [
       "c    4\n",
       "dtype: int32"
      ]
     },
     "execution_count": 134,
     "metadata": {},
     "output_type": "execute_result"
    }
   ],
   "source": [
    "ser1[ser1>3]"
   ]
  },
  {
   "cell_type": "code",
   "execution_count": 135,
   "metadata": {
    "collapsed": true
   },
   "outputs": [],
   "source": [
    "ser1[ser1>3]=10"
   ]
  },
  {
   "cell_type": "code",
   "execution_count": 136,
   "metadata": {
    "collapsed": false
   },
   "outputs": [
    {
     "data": {
      "text/plain": [
       "a     0\n",
       "b     2\n",
       "c    10\n",
       "dtype: int32"
      ]
     },
     "execution_count": 136,
     "metadata": {},
     "output_type": "execute_result"
    }
   ],
   "source": [
    "ser1"
   ]
  },
  {
   "cell_type": "code",
   "execution_count": 137,
   "metadata": {
    "collapsed": true
   },
   "outputs": [],
   "source": [
    "dframe=DataFrame(np.arange(25).reshape((5,5)), index=['nyc', 'la', 'sf', 'dc', 'chi'], columns=['A', 'B', 'C', 'D', 'E'])"
   ]
  },
  {
   "cell_type": "code",
   "execution_count": 138,
   "metadata": {
    "collapsed": false
   },
   "outputs": [
    {
     "data": {
      "text/html": [
       "<div>\n",
       "<table border=\"1\" class=\"dataframe\">\n",
       "  <thead>\n",
       "    <tr style=\"text-align: right;\">\n",
       "      <th></th>\n",
       "      <th>A</th>\n",
       "      <th>B</th>\n",
       "      <th>C</th>\n",
       "      <th>D</th>\n",
       "      <th>E</th>\n",
       "    </tr>\n",
       "  </thead>\n",
       "  <tbody>\n",
       "    <tr>\n",
       "      <th>nyc</th>\n",
       "      <td>0</td>\n",
       "      <td>1</td>\n",
       "      <td>2</td>\n",
       "      <td>3</td>\n",
       "      <td>4</td>\n",
       "    </tr>\n",
       "    <tr>\n",
       "      <th>la</th>\n",
       "      <td>5</td>\n",
       "      <td>6</td>\n",
       "      <td>7</td>\n",
       "      <td>8</td>\n",
       "      <td>9</td>\n",
       "    </tr>\n",
       "    <tr>\n",
       "      <th>sf</th>\n",
       "      <td>10</td>\n",
       "      <td>11</td>\n",
       "      <td>12</td>\n",
       "      <td>13</td>\n",
       "      <td>14</td>\n",
       "    </tr>\n",
       "    <tr>\n",
       "      <th>dc</th>\n",
       "      <td>15</td>\n",
       "      <td>16</td>\n",
       "      <td>17</td>\n",
       "      <td>18</td>\n",
       "      <td>19</td>\n",
       "    </tr>\n",
       "    <tr>\n",
       "      <th>chi</th>\n",
       "      <td>20</td>\n",
       "      <td>21</td>\n",
       "      <td>22</td>\n",
       "      <td>23</td>\n",
       "      <td>24</td>\n",
       "    </tr>\n",
       "  </tbody>\n",
       "</table>\n",
       "</div>"
      ],
      "text/plain": [
       "      A   B   C   D   E\n",
       "nyc   0   1   2   3   4\n",
       "la    5   6   7   8   9\n",
       "sf   10  11  12  13  14\n",
       "dc   15  16  17  18  19\n",
       "chi  20  21  22  23  24"
      ]
     },
     "execution_count": 138,
     "metadata": {},
     "output_type": "execute_result"
    }
   ],
   "source": [
    "dframe"
   ]
  },
  {
   "cell_type": "code",
   "execution_count": 139,
   "metadata": {
    "collapsed": false
   },
   "outputs": [
    {
     "data": {
      "text/plain": [
       "nyc     1\n",
       "la      6\n",
       "sf     11\n",
       "dc     16\n",
       "chi    21\n",
       "Name: B, dtype: int32"
      ]
     },
     "execution_count": 139,
     "metadata": {},
     "output_type": "execute_result"
    }
   ],
   "source": [
    "dframe['B']"
   ]
  },
  {
   "cell_type": "code",
   "execution_count": 140,
   "metadata": {
    "collapsed": false
   },
   "outputs": [
    {
     "data": {
      "text/html": [
       "<div>\n",
       "<table border=\"1\" class=\"dataframe\">\n",
       "  <thead>\n",
       "    <tr style=\"text-align: right;\">\n",
       "      <th></th>\n",
       "      <th>B</th>\n",
       "      <th>E</th>\n",
       "    </tr>\n",
       "  </thead>\n",
       "  <tbody>\n",
       "    <tr>\n",
       "      <th>nyc</th>\n",
       "      <td>1</td>\n",
       "      <td>4</td>\n",
       "    </tr>\n",
       "    <tr>\n",
       "      <th>la</th>\n",
       "      <td>6</td>\n",
       "      <td>9</td>\n",
       "    </tr>\n",
       "    <tr>\n",
       "      <th>sf</th>\n",
       "      <td>11</td>\n",
       "      <td>14</td>\n",
       "    </tr>\n",
       "    <tr>\n",
       "      <th>dc</th>\n",
       "      <td>16</td>\n",
       "      <td>19</td>\n",
       "    </tr>\n",
       "    <tr>\n",
       "      <th>chi</th>\n",
       "      <td>21</td>\n",
       "      <td>24</td>\n",
       "    </tr>\n",
       "  </tbody>\n",
       "</table>\n",
       "</div>"
      ],
      "text/plain": [
       "      B   E\n",
       "nyc   1   4\n",
       "la    6   9\n",
       "sf   11  14\n",
       "dc   16  19\n",
       "chi  21  24"
      ]
     },
     "execution_count": 140,
     "metadata": {},
     "output_type": "execute_result"
    }
   ],
   "source": [
    "dframe[['B', 'E']]"
   ]
  },
  {
   "cell_type": "code",
   "execution_count": 141,
   "metadata": {
    "collapsed": false
   },
   "outputs": [
    {
     "data": {
      "text/html": [
       "<div>\n",
       "<table border=\"1\" class=\"dataframe\">\n",
       "  <thead>\n",
       "    <tr style=\"text-align: right;\">\n",
       "      <th></th>\n",
       "      <th>A</th>\n",
       "      <th>B</th>\n",
       "      <th>C</th>\n",
       "      <th>D</th>\n",
       "      <th>E</th>\n",
       "    </tr>\n",
       "  </thead>\n",
       "  <tbody>\n",
       "    <tr>\n",
       "      <th>sf</th>\n",
       "      <td>10</td>\n",
       "      <td>11</td>\n",
       "      <td>12</td>\n",
       "      <td>13</td>\n",
       "      <td>14</td>\n",
       "    </tr>\n",
       "    <tr>\n",
       "      <th>dc</th>\n",
       "      <td>15</td>\n",
       "      <td>16</td>\n",
       "      <td>17</td>\n",
       "      <td>18</td>\n",
       "      <td>19</td>\n",
       "    </tr>\n",
       "    <tr>\n",
       "      <th>chi</th>\n",
       "      <td>20</td>\n",
       "      <td>21</td>\n",
       "      <td>22</td>\n",
       "      <td>23</td>\n",
       "      <td>24</td>\n",
       "    </tr>\n",
       "  </tbody>\n",
       "</table>\n",
       "</div>"
      ],
      "text/plain": [
       "      A   B   C   D   E\n",
       "sf   10  11  12  13  14\n",
       "dc   15  16  17  18  19\n",
       "chi  20  21  22  23  24"
      ]
     },
     "execution_count": 141,
     "metadata": {},
     "output_type": "execute_result"
    }
   ],
   "source": [
    "dframe[dframe['C']>8]"
   ]
  },
  {
   "cell_type": "code",
   "execution_count": 142,
   "metadata": {
    "collapsed": false
   },
   "outputs": [
    {
     "data": {
      "text/html": [
       "<div>\n",
       "<table border=\"1\" class=\"dataframe\">\n",
       "  <thead>\n",
       "    <tr style=\"text-align: right;\">\n",
       "      <th></th>\n",
       "      <th>A</th>\n",
       "      <th>B</th>\n",
       "      <th>C</th>\n",
       "      <th>D</th>\n",
       "      <th>E</th>\n",
       "    </tr>\n",
       "  </thead>\n",
       "  <tbody>\n",
       "    <tr>\n",
       "      <th>nyc</th>\n",
       "      <td>False</td>\n",
       "      <td>False</td>\n",
       "      <td>False</td>\n",
       "      <td>False</td>\n",
       "      <td>False</td>\n",
       "    </tr>\n",
       "    <tr>\n",
       "      <th>la</th>\n",
       "      <td>False</td>\n",
       "      <td>False</td>\n",
       "      <td>False</td>\n",
       "      <td>False</td>\n",
       "      <td>False</td>\n",
       "    </tr>\n",
       "    <tr>\n",
       "      <th>sf</th>\n",
       "      <td>False</td>\n",
       "      <td>True</td>\n",
       "      <td>True</td>\n",
       "      <td>True</td>\n",
       "      <td>True</td>\n",
       "    </tr>\n",
       "    <tr>\n",
       "      <th>dc</th>\n",
       "      <td>True</td>\n",
       "      <td>True</td>\n",
       "      <td>True</td>\n",
       "      <td>True</td>\n",
       "      <td>True</td>\n",
       "    </tr>\n",
       "    <tr>\n",
       "      <th>chi</th>\n",
       "      <td>True</td>\n",
       "      <td>True</td>\n",
       "      <td>True</td>\n",
       "      <td>True</td>\n",
       "      <td>True</td>\n",
       "    </tr>\n",
       "  </tbody>\n",
       "</table>\n",
       "</div>"
      ],
      "text/plain": [
       "         A      B      C      D      E\n",
       "nyc  False  False  False  False  False\n",
       "la   False  False  False  False  False\n",
       "sf   False   True   True   True   True\n",
       "dc    True   True   True   True   True\n",
       "chi   True   True   True   True   True"
      ]
     },
     "execution_count": 142,
     "metadata": {},
     "output_type": "execute_result"
    }
   ],
   "source": [
    "dframe>10"
   ]
  },
  {
   "cell_type": "code",
   "execution_count": 143,
   "metadata": {
    "collapsed": false
   },
   "outputs": [
    {
     "data": {
      "text/plain": [
       "A    5\n",
       "B    6\n",
       "C    7\n",
       "D    8\n",
       "E    9\n",
       "Name: la, dtype: int32"
      ]
     },
     "execution_count": 143,
     "metadata": {},
     "output_type": "execute_result"
    }
   ],
   "source": [
    "dframe.ix['la']"
   ]
  },
  {
   "cell_type": "code",
   "execution_count": 146,
   "metadata": {
    "collapsed": false
   },
   "outputs": [
    {
     "data": {
      "text/plain": [
       "A    5\n",
       "B    6\n",
       "C    7\n",
       "D    8\n",
       "E    9\n",
       "Name: la, dtype: int32"
      ]
     },
     "execution_count": 146,
     "metadata": {},
     "output_type": "execute_result"
    }
   ],
   "source": [
    "dframe.ix[1]"
   ]
  },
  {
   "cell_type": "markdown",
   "metadata": {},
   "source": [
    "# Data Alignment"
   ]
  },
  {
   "cell_type": "code",
   "execution_count": 147,
   "metadata": {
    "collapsed": true
   },
   "outputs": [],
   "source": [
    "import numpy as np\n",
    "from pandas import Series, DataFrame\n",
    "import pandas as pd"
   ]
  },
  {
   "cell_type": "code",
   "execution_count": 149,
   "metadata": {
    "collapsed": false
   },
   "outputs": [],
   "source": [
    "ser1=Series([0,1,2], index=['A','B','C'])"
   ]
  },
  {
   "cell_type": "code",
   "execution_count": 150,
   "metadata": {
    "collapsed": true
   },
   "outputs": [],
   "source": [
    "ser2=Series([0,1,2,3], index=['A','B','C', 'D'])"
   ]
  },
  {
   "cell_type": "code",
   "execution_count": 151,
   "metadata": {
    "collapsed": false
   },
   "outputs": [
    {
     "data": {
      "text/plain": [
       "A    0\n",
       "B    1\n",
       "C    2\n",
       "D    3\n",
       "dtype: int64"
      ]
     },
     "execution_count": 151,
     "metadata": {},
     "output_type": "execute_result"
    }
   ],
   "source": [
    "ser2"
   ]
  },
  {
   "cell_type": "code",
   "execution_count": 152,
   "metadata": {
    "collapsed": false
   },
   "outputs": [
    {
     "data": {
      "text/plain": [
       "A    0\n",
       "B    1\n",
       "C    2\n",
       "dtype: int64"
      ]
     },
     "execution_count": 152,
     "metadata": {},
     "output_type": "execute_result"
    }
   ],
   "source": [
    "ser1"
   ]
  },
  {
   "cell_type": "code",
   "execution_count": 153,
   "metadata": {
    "collapsed": false
   },
   "outputs": [
    {
     "data": {
      "text/plain": [
       "A    0.0\n",
       "B    2.0\n",
       "C    4.0\n",
       "D    NaN\n",
       "dtype: float64"
      ]
     },
     "execution_count": 153,
     "metadata": {},
     "output_type": "execute_result"
    }
   ],
   "source": [
    "ser1+ser2"
   ]
  },
  {
   "cell_type": "code",
   "execution_count": 159,
   "metadata": {
    "collapsed": false
   },
   "outputs": [],
   "source": [
    "dframe1=DataFrame(np.arange(4).reshape(2,2), columns=list('AB'), index=['NYC','LA'])"
   ]
  },
  {
   "cell_type": "code",
   "execution_count": 160,
   "metadata": {
    "collapsed": false
   },
   "outputs": [
    {
     "data": {
      "text/html": [
       "<div>\n",
       "<table border=\"1\" class=\"dataframe\">\n",
       "  <thead>\n",
       "    <tr style=\"text-align: right;\">\n",
       "      <th></th>\n",
       "      <th>A</th>\n",
       "      <th>B</th>\n",
       "    </tr>\n",
       "  </thead>\n",
       "  <tbody>\n",
       "    <tr>\n",
       "      <th>NYC</th>\n",
       "      <td>0</td>\n",
       "      <td>1</td>\n",
       "    </tr>\n",
       "    <tr>\n",
       "      <th>LA</th>\n",
       "      <td>2</td>\n",
       "      <td>3</td>\n",
       "    </tr>\n",
       "  </tbody>\n",
       "</table>\n",
       "</div>"
      ],
      "text/plain": [
       "     A  B\n",
       "NYC  0  1\n",
       "LA   2  3"
      ]
     },
     "execution_count": 160,
     "metadata": {},
     "output_type": "execute_result"
    }
   ],
   "source": [
    "dframe1"
   ]
  },
  {
   "cell_type": "code",
   "execution_count": 161,
   "metadata": {
    "collapsed": true
   },
   "outputs": [],
   "source": [
    "dframe2=DataFrame(np.arange(9).reshape(3,3), columns=list('ADC'), index=['NYC','SF','LA'])"
   ]
  },
  {
   "cell_type": "code",
   "execution_count": 162,
   "metadata": {
    "collapsed": false
   },
   "outputs": [
    {
     "data": {
      "text/html": [
       "<div>\n",
       "<table border=\"1\" class=\"dataframe\">\n",
       "  <thead>\n",
       "    <tr style=\"text-align: right;\">\n",
       "      <th></th>\n",
       "      <th>A</th>\n",
       "      <th>D</th>\n",
       "      <th>C</th>\n",
       "    </tr>\n",
       "  </thead>\n",
       "  <tbody>\n",
       "    <tr>\n",
       "      <th>NYC</th>\n",
       "      <td>0</td>\n",
       "      <td>1</td>\n",
       "      <td>2</td>\n",
       "    </tr>\n",
       "    <tr>\n",
       "      <th>SF</th>\n",
       "      <td>3</td>\n",
       "      <td>4</td>\n",
       "      <td>5</td>\n",
       "    </tr>\n",
       "    <tr>\n",
       "      <th>LA</th>\n",
       "      <td>6</td>\n",
       "      <td>7</td>\n",
       "      <td>8</td>\n",
       "    </tr>\n",
       "  </tbody>\n",
       "</table>\n",
       "</div>"
      ],
      "text/plain": [
       "     A  D  C\n",
       "NYC  0  1  2\n",
       "SF   3  4  5\n",
       "LA   6  7  8"
      ]
     },
     "execution_count": 162,
     "metadata": {},
     "output_type": "execute_result"
    }
   ],
   "source": [
    "dframe2"
   ]
  },
  {
   "cell_type": "code",
   "execution_count": 163,
   "metadata": {
    "collapsed": false
   },
   "outputs": [
    {
     "data": {
      "text/html": [
       "<div>\n",
       "<table border=\"1\" class=\"dataframe\">\n",
       "  <thead>\n",
       "    <tr style=\"text-align: right;\">\n",
       "      <th></th>\n",
       "      <th>A</th>\n",
       "      <th>B</th>\n",
       "      <th>C</th>\n",
       "      <th>D</th>\n",
       "    </tr>\n",
       "  </thead>\n",
       "  <tbody>\n",
       "    <tr>\n",
       "      <th>LA</th>\n",
       "      <td>8.0</td>\n",
       "      <td>NaN</td>\n",
       "      <td>NaN</td>\n",
       "      <td>NaN</td>\n",
       "    </tr>\n",
       "    <tr>\n",
       "      <th>NYC</th>\n",
       "      <td>0.0</td>\n",
       "      <td>NaN</td>\n",
       "      <td>NaN</td>\n",
       "      <td>NaN</td>\n",
       "    </tr>\n",
       "    <tr>\n",
       "      <th>SF</th>\n",
       "      <td>NaN</td>\n",
       "      <td>NaN</td>\n",
       "      <td>NaN</td>\n",
       "      <td>NaN</td>\n",
       "    </tr>\n",
       "  </tbody>\n",
       "</table>\n",
       "</div>"
      ],
      "text/plain": [
       "       A   B   C   D\n",
       "LA   8.0 NaN NaN NaN\n",
       "NYC  0.0 NaN NaN NaN\n",
       "SF   NaN NaN NaN NaN"
      ]
     },
     "execution_count": 163,
     "metadata": {},
     "output_type": "execute_result"
    }
   ],
   "source": [
    "dframe1+dframe2"
   ]
  },
  {
   "cell_type": "code",
   "execution_count": 164,
   "metadata": {
    "collapsed": false
   },
   "outputs": [
    {
     "data": {
      "text/html": [
       "<div>\n",
       "<table border=\"1\" class=\"dataframe\">\n",
       "  <thead>\n",
       "    <tr style=\"text-align: right;\">\n",
       "      <th></th>\n",
       "      <th>A</th>\n",
       "      <th>B</th>\n",
       "      <th>C</th>\n",
       "      <th>D</th>\n",
       "    </tr>\n",
       "  </thead>\n",
       "  <tbody>\n",
       "    <tr>\n",
       "      <th>LA</th>\n",
       "      <td>8.0</td>\n",
       "      <td>3.0</td>\n",
       "      <td>8.0</td>\n",
       "      <td>7.0</td>\n",
       "    </tr>\n",
       "    <tr>\n",
       "      <th>NYC</th>\n",
       "      <td>0.0</td>\n",
       "      <td>1.0</td>\n",
       "      <td>2.0</td>\n",
       "      <td>1.0</td>\n",
       "    </tr>\n",
       "    <tr>\n",
       "      <th>SF</th>\n",
       "      <td>3.0</td>\n",
       "      <td>NaN</td>\n",
       "      <td>5.0</td>\n",
       "      <td>4.0</td>\n",
       "    </tr>\n",
       "  </tbody>\n",
       "</table>\n",
       "</div>"
      ],
      "text/plain": [
       "       A    B    C    D\n",
       "LA   8.0  3.0  8.0  7.0\n",
       "NYC  0.0  1.0  2.0  1.0\n",
       "SF   3.0  NaN  5.0  4.0"
      ]
     },
     "execution_count": 164,
     "metadata": {},
     "output_type": "execute_result"
    }
   ],
   "source": [
    "###in order to avoid the NaN\n",
    "\n",
    "dframe1.add(dframe2, fill_value=0)"
   ]
  },
  {
   "cell_type": "code",
   "execution_count": 165,
   "metadata": {
    "collapsed": false
   },
   "outputs": [
    {
     "data": {
      "text/html": [
       "<div>\n",
       "<table border=\"1\" class=\"dataframe\">\n",
       "  <thead>\n",
       "    <tr style=\"text-align: right;\">\n",
       "      <th></th>\n",
       "      <th>A</th>\n",
       "      <th>B</th>\n",
       "      <th>C</th>\n",
       "      <th>D</th>\n",
       "    </tr>\n",
       "  </thead>\n",
       "  <tbody>\n",
       "    <tr>\n",
       "      <th>LA</th>\n",
       "      <td>8.0</td>\n",
       "      <td>3.0</td>\n",
       "      <td>8.0</td>\n",
       "      <td>7.0</td>\n",
       "    </tr>\n",
       "    <tr>\n",
       "      <th>NYC</th>\n",
       "      <td>0.0</td>\n",
       "      <td>1.0</td>\n",
       "      <td>2.0</td>\n",
       "      <td>1.0</td>\n",
       "    </tr>\n",
       "    <tr>\n",
       "      <th>SF</th>\n",
       "      <td>3.0</td>\n",
       "      <td>NaN</td>\n",
       "      <td>5.0</td>\n",
       "      <td>4.0</td>\n",
       "    </tr>\n",
       "  </tbody>\n",
       "</table>\n",
       "</div>"
      ],
      "text/plain": [
       "       A    B    C    D\n",
       "LA   8.0  3.0  8.0  7.0\n",
       "NYC  0.0  1.0  2.0  1.0\n",
       "SF   3.0  NaN  5.0  4.0"
      ]
     },
     "execution_count": 165,
     "metadata": {},
     "output_type": "execute_result"
    }
   ],
   "source": [
    "dframe2.add(dframe1, fill_value=0)"
   ]
  },
  {
   "cell_type": "code",
   "execution_count": 166,
   "metadata": {
    "collapsed": true
   },
   "outputs": [],
   "source": [
    "ser3=dframe2.ix[0]"
   ]
  },
  {
   "cell_type": "code",
   "execution_count": 168,
   "metadata": {
    "collapsed": false
   },
   "outputs": [
    {
     "data": {
      "text/plain": [
       "A    0\n",
       "D    1\n",
       "C    2\n",
       "Name: NYC, dtype: int32"
      ]
     },
     "execution_count": 168,
     "metadata": {},
     "output_type": "execute_result"
    }
   ],
   "source": [
    "ser3"
   ]
  },
  {
   "cell_type": "code",
   "execution_count": 169,
   "metadata": {
    "collapsed": false
   },
   "outputs": [
    {
     "data": {
      "text/html": [
       "<div>\n",
       "<table border=\"1\" class=\"dataframe\">\n",
       "  <thead>\n",
       "    <tr style=\"text-align: right;\">\n",
       "      <th></th>\n",
       "      <th>A</th>\n",
       "      <th>D</th>\n",
       "      <th>C</th>\n",
       "    </tr>\n",
       "  </thead>\n",
       "  <tbody>\n",
       "    <tr>\n",
       "      <th>NYC</th>\n",
       "      <td>0</td>\n",
       "      <td>0</td>\n",
       "      <td>0</td>\n",
       "    </tr>\n",
       "    <tr>\n",
       "      <th>SF</th>\n",
       "      <td>3</td>\n",
       "      <td>3</td>\n",
       "      <td>3</td>\n",
       "    </tr>\n",
       "    <tr>\n",
       "      <th>LA</th>\n",
       "      <td>6</td>\n",
       "      <td>6</td>\n",
       "      <td>6</td>\n",
       "    </tr>\n",
       "  </tbody>\n",
       "</table>\n",
       "</div>"
      ],
      "text/plain": [
       "     A  D  C\n",
       "NYC  0  0  0\n",
       "SF   3  3  3\n",
       "LA   6  6  6"
      ]
     },
     "execution_count": 169,
     "metadata": {},
     "output_type": "execute_result"
    }
   ],
   "source": [
    "dframe2-ser3"
   ]
  },
  {
   "cell_type": "markdown",
   "metadata": {},
   "source": [
    "# Rank and Sort"
   ]
  },
  {
   "cell_type": "code",
   "execution_count": 170,
   "metadata": {
    "collapsed": true
   },
   "outputs": [],
   "source": [
    "import numpy as np\n",
    "from pandas import Series, DataFrame\n",
    "import pandas as pd"
   ]
  },
  {
   "cell_type": "code",
   "execution_count": 175,
   "metadata": {
    "collapsed": false
   },
   "outputs": [],
   "source": [
    "ser1=Series(range(3), index=['C','A','B'])"
   ]
  },
  {
   "cell_type": "code",
   "execution_count": 176,
   "metadata": {
    "collapsed": false
   },
   "outputs": [
    {
     "data": {
      "text/plain": [
       "C    0\n",
       "A    1\n",
       "B    2\n",
       "dtype: int64"
      ]
     },
     "execution_count": 176,
     "metadata": {},
     "output_type": "execute_result"
    }
   ],
   "source": [
    "ser1"
   ]
  },
  {
   "cell_type": "code",
   "execution_count": 177,
   "metadata": {
    "collapsed": false
   },
   "outputs": [
    {
     "data": {
      "text/plain": [
       "A    1\n",
       "B    2\n",
       "C    0\n",
       "dtype: int64"
      ]
     },
     "execution_count": 177,
     "metadata": {},
     "output_type": "execute_result"
    }
   ],
   "source": [
    "###order by index\n",
    "\n",
    "ser1.sort_index()"
   ]
  },
  {
   "cell_type": "code",
   "execution_count": 178,
   "metadata": {
    "collapsed": false
   },
   "outputs": [
    {
     "name": "stderr",
     "output_type": "stream",
     "text": [
      "C:\\Users\\gpipis\\AppData\\Local\\Continuum\\Anaconda2\\lib\\site-packages\\ipykernel\\__main__.py:3: FutureWarning: order is deprecated, use sort_values(...)\n",
      "  app.launch_new_instance()\n"
     ]
    },
    {
     "data": {
      "text/plain": [
       "C    0\n",
       "A    1\n",
       "B    2\n",
       "dtype: int64"
      ]
     },
     "execution_count": 178,
     "metadata": {},
     "output_type": "execute_result"
    }
   ],
   "source": [
    "###order by the values\n",
    "\n",
    "ser1.order()"
   ]
  },
  {
   "cell_type": "code",
   "execution_count": 179,
   "metadata": {
    "collapsed": false
   },
   "outputs": [
    {
     "data": {
      "text/plain": [
       "C    0\n",
       "A    1\n",
       "B    2\n",
       "dtype: int64"
      ]
     },
     "execution_count": 179,
     "metadata": {},
     "output_type": "execute_result"
    }
   ],
   "source": [
    "ser1.sort_values()"
   ]
  },
  {
   "cell_type": "code",
   "execution_count": 180,
   "metadata": {
    "collapsed": true
   },
   "outputs": [],
   "source": [
    "ser2=Series(randn(10))"
   ]
  },
  {
   "cell_type": "code",
   "execution_count": 181,
   "metadata": {
    "collapsed": false
   },
   "outputs": [
    {
     "data": {
      "text/plain": [
       "0    0.587228\n",
       "1   -0.517643\n",
       "2   -0.223145\n",
       "3   -0.363045\n",
       "4    0.136314\n",
       "5   -0.191718\n",
       "6   -0.766966\n",
       "7    1.227779\n",
       "8   -0.698291\n",
       "9    0.169734\n",
       "dtype: float64"
      ]
     },
     "execution_count": 181,
     "metadata": {},
     "output_type": "execute_result"
    }
   ],
   "source": [
    "ser2"
   ]
  },
  {
   "cell_type": "code",
   "execution_count": 183,
   "metadata": {
    "collapsed": false
   },
   "outputs": [
    {
     "data": {
      "text/plain": [
       "6   -0.766966\n",
       "8   -0.698291\n",
       "1   -0.517643\n",
       "3   -0.363045\n",
       "2   -0.223145\n",
       "5   -0.191718\n",
       "4    0.136314\n",
       "9    0.169734\n",
       "0    0.587228\n",
       "7    1.227779\n",
       "dtype: float64"
      ]
     },
     "execution_count": 183,
     "metadata": {},
     "output_type": "execute_result"
    }
   ],
   "source": [
    "ser2.sort_values()"
   ]
  },
  {
   "cell_type": "code",
   "execution_count": 184,
   "metadata": {
    "collapsed": false
   },
   "outputs": [
    {
     "data": {
      "text/plain": [
       "6     1.0\n",
       "8     2.0\n",
       "1     3.0\n",
       "3     4.0\n",
       "2     5.0\n",
       "5     6.0\n",
       "4     7.0\n",
       "9     8.0\n",
       "0     9.0\n",
       "7    10.0\n",
       "dtype: float64"
      ]
     },
     "execution_count": 184,
     "metadata": {},
     "output_type": "execute_result"
    }
   ],
   "source": [
    "ser2.rank()"
   ]
  },
  {
   "cell_type": "code",
   "execution_count": 186,
   "metadata": {
    "collapsed": true
   },
   "outputs": [],
   "source": [
    "ser3=Series(randn(10))"
   ]
  },
  {
   "cell_type": "code",
   "execution_count": 187,
   "metadata": {
    "collapsed": false
   },
   "outputs": [
    {
     "data": {
      "text/plain": [
       "0    0.242467\n",
       "1    0.477429\n",
       "2   -0.631218\n",
       "3   -0.389670\n",
       "4   -0.767759\n",
       "5   -0.265382\n",
       "6   -1.856585\n",
       "7    1.580495\n",
       "8    0.943432\n",
       "9    0.562571\n",
       "dtype: float64"
      ]
     },
     "execution_count": 187,
     "metadata": {},
     "output_type": "execute_result"
    }
   ],
   "source": [
    "ser3"
   ]
  },
  {
   "cell_type": "code",
   "execution_count": 188,
   "metadata": {
    "collapsed": false
   },
   "outputs": [
    {
     "data": {
      "text/plain": [
       "0     6.0\n",
       "1     7.0\n",
       "2     3.0\n",
       "3     4.0\n",
       "4     2.0\n",
       "5     5.0\n",
       "6     1.0\n",
       "7    10.0\n",
       "8     9.0\n",
       "9     8.0\n",
       "dtype: float64"
      ]
     },
     "execution_count": 188,
     "metadata": {},
     "output_type": "execute_result"
    }
   ],
   "source": [
    "ser3.rank()"
   ]
  },
  {
   "cell_type": "code",
   "execution_count": 190,
   "metadata": {
    "collapsed": false
   },
   "outputs": [
    {
     "data": {
      "text/plain": [
       "6   -1.856585\n",
       "4   -0.767759\n",
       "2   -0.631218\n",
       "3   -0.389670\n",
       "5   -0.265382\n",
       "0    0.242467\n",
       "1    0.477429\n",
       "9    0.562571\n",
       "8    0.943432\n",
       "7    1.580495\n",
       "dtype: float64"
      ]
     },
     "execution_count": 190,
     "metadata": {},
     "output_type": "execute_result"
    }
   ],
   "source": [
    "ser3.sort_values()"
   ]
  },
  {
   "cell_type": "code",
   "execution_count": 191,
   "metadata": {
    "collapsed": false
   },
   "outputs": [
    {
     "data": {
      "text/plain": [
       "0    0.242467\n",
       "1    0.477429\n",
       "2   -0.631218\n",
       "3   -0.389670\n",
       "4   -0.767759\n",
       "5   -0.265382\n",
       "6   -1.856585\n",
       "7    1.580495\n",
       "8    0.943432\n",
       "9    0.562571\n",
       "dtype: float64"
      ]
     },
     "execution_count": 191,
     "metadata": {},
     "output_type": "execute_result"
    }
   ],
   "source": [
    "ser3"
   ]
  },
  {
   "cell_type": "code",
   "execution_count": 193,
   "metadata": {
    "collapsed": false
   },
   "outputs": [
    {
     "data": {
      "text/plain": [
       "7    1.580495\n",
       "8    0.943432\n",
       "9    0.562571\n",
       "1    0.477429\n",
       "0    0.242467\n",
       "5   -0.265382\n",
       "3   -0.389670\n",
       "2   -0.631218\n",
       "4   -0.767759\n",
       "6   -1.856585\n",
       "dtype: float64"
      ]
     },
     "execution_count": 193,
     "metadata": {},
     "output_type": "execute_result"
    }
   ],
   "source": [
    "ser3.sort_values(ascending=False)"
   ]
  },
  {
   "cell_type": "markdown",
   "metadata": {},
   "source": [
    "# Summary Statistics"
   ]
  },
  {
   "cell_type": "code",
   "execution_count": 194,
   "metadata": {
    "collapsed": true
   },
   "outputs": [],
   "source": [
    "import numpy as np\n",
    "from pandas import Series, DataFrame\n",
    "import pandas as pd"
   ]
  },
  {
   "cell_type": "code",
   "execution_count": 195,
   "metadata": {
    "collapsed": true
   },
   "outputs": [],
   "source": [
    "arr=np.array([[1,2,np.nan],[np.nan,3,4]])"
   ]
  },
  {
   "cell_type": "code",
   "execution_count": 196,
   "metadata": {
    "collapsed": false
   },
   "outputs": [
    {
     "data": {
      "text/plain": [
       "array([[  1.,   2.,  nan],\n",
       "       [ nan,   3.,   4.]])"
      ]
     },
     "execution_count": 196,
     "metadata": {},
     "output_type": "execute_result"
    }
   ],
   "source": [
    "arr"
   ]
  },
  {
   "cell_type": "code",
   "execution_count": 197,
   "metadata": {
    "collapsed": true
   },
   "outputs": [],
   "source": [
    "dframe1=DataFrame(arr, index=['A','B'], columns=['One', 'Two', 'Three'])"
   ]
  },
  {
   "cell_type": "code",
   "execution_count": 198,
   "metadata": {
    "collapsed": false
   },
   "outputs": [
    {
     "data": {
      "text/html": [
       "<div>\n",
       "<table border=\"1\" class=\"dataframe\">\n",
       "  <thead>\n",
       "    <tr style=\"text-align: right;\">\n",
       "      <th></th>\n",
       "      <th>One</th>\n",
       "      <th>Two</th>\n",
       "      <th>Three</th>\n",
       "    </tr>\n",
       "  </thead>\n",
       "  <tbody>\n",
       "    <tr>\n",
       "      <th>A</th>\n",
       "      <td>1.0</td>\n",
       "      <td>2.0</td>\n",
       "      <td>NaN</td>\n",
       "    </tr>\n",
       "    <tr>\n",
       "      <th>B</th>\n",
       "      <td>NaN</td>\n",
       "      <td>3.0</td>\n",
       "      <td>4.0</td>\n",
       "    </tr>\n",
       "  </tbody>\n",
       "</table>\n",
       "</div>"
      ],
      "text/plain": [
       "   One  Two  Three\n",
       "A  1.0  2.0    NaN\n",
       "B  NaN  3.0    4.0"
      ]
     },
     "execution_count": 198,
     "metadata": {},
     "output_type": "execute_result"
    }
   ],
   "source": [
    "dframe1"
   ]
  },
  {
   "cell_type": "code",
   "execution_count": 199,
   "metadata": {
    "collapsed": false
   },
   "outputs": [
    {
     "data": {
      "text/plain": [
       "One      1.0\n",
       "Two      5.0\n",
       "Three    4.0\n",
       "dtype: float64"
      ]
     },
     "execution_count": 199,
     "metadata": {},
     "output_type": "execute_result"
    }
   ],
   "source": [
    "##sum all the values by row. it ignores the NaN values\n",
    "\n",
    "dframe1.sum()"
   ]
  },
  {
   "cell_type": "code",
   "execution_count": 200,
   "metadata": {
    "collapsed": false
   },
   "outputs": [
    {
     "data": {
      "text/plain": [
       "A    3.0\n",
       "B    7.0\n",
       "dtype: float64"
      ]
     },
     "execution_count": 200,
     "metadata": {},
     "output_type": "execute_result"
    }
   ],
   "source": [
    "dframe1.sum(axis=1) ###it adds the rows"
   ]
  },
  {
   "cell_type": "code",
   "execution_count": 203,
   "metadata": {
    "collapsed": false
   },
   "outputs": [
    {
     "data": {
      "text/plain": [
       "One      1.0\n",
       "Two      2.0\n",
       "Three    4.0\n",
       "dtype: float64"
      ]
     },
     "execution_count": 203,
     "metadata": {},
     "output_type": "execute_result"
    }
   ],
   "source": [
    "dframe1.min() ###minimum value of each column"
   ]
  },
  {
   "cell_type": "code",
   "execution_count": 205,
   "metadata": {
    "collapsed": false
   },
   "outputs": [
    {
     "data": {
      "text/plain": [
       "One      A\n",
       "Two      A\n",
       "Three    B\n",
       "dtype: object"
      ]
     },
     "execution_count": 205,
     "metadata": {},
     "output_type": "execute_result"
    }
   ],
   "source": [
    "dframe1.idxmin() ###the index of the minimum value"
   ]
  },
  {
   "cell_type": "code",
   "execution_count": 206,
   "metadata": {
    "collapsed": false
   },
   "outputs": [
    {
     "data": {
      "text/html": [
       "<div>\n",
       "<table border=\"1\" class=\"dataframe\">\n",
       "  <thead>\n",
       "    <tr style=\"text-align: right;\">\n",
       "      <th></th>\n",
       "      <th>One</th>\n",
       "      <th>Two</th>\n",
       "      <th>Three</th>\n",
       "    </tr>\n",
       "  </thead>\n",
       "  <tbody>\n",
       "    <tr>\n",
       "      <th>A</th>\n",
       "      <td>1.0</td>\n",
       "      <td>2.0</td>\n",
       "      <td>NaN</td>\n",
       "    </tr>\n",
       "    <tr>\n",
       "      <th>B</th>\n",
       "      <td>NaN</td>\n",
       "      <td>5.0</td>\n",
       "      <td>4.0</td>\n",
       "    </tr>\n",
       "  </tbody>\n",
       "</table>\n",
       "</div>"
      ],
      "text/plain": [
       "   One  Two  Three\n",
       "A  1.0  2.0    NaN\n",
       "B  NaN  5.0    4.0"
      ]
     },
     "execution_count": 206,
     "metadata": {},
     "output_type": "execute_result"
    }
   ],
   "source": [
    "dframe1.cumsum() ###accumulation sum per column"
   ]
  },
  {
   "cell_type": "code",
   "execution_count": 207,
   "metadata": {
    "collapsed": false
   },
   "outputs": [
    {
     "data": {
      "text/html": [
       "<div>\n",
       "<table border=\"1\" class=\"dataframe\">\n",
       "  <thead>\n",
       "    <tr style=\"text-align: right;\">\n",
       "      <th></th>\n",
       "      <th>One</th>\n",
       "      <th>Two</th>\n",
       "      <th>Three</th>\n",
       "    </tr>\n",
       "  </thead>\n",
       "  <tbody>\n",
       "    <tr>\n",
       "      <th>count</th>\n",
       "      <td>1.0</td>\n",
       "      <td>2.000000</td>\n",
       "      <td>1.0</td>\n",
       "    </tr>\n",
       "    <tr>\n",
       "      <th>mean</th>\n",
       "      <td>1.0</td>\n",
       "      <td>2.500000</td>\n",
       "      <td>4.0</td>\n",
       "    </tr>\n",
       "    <tr>\n",
       "      <th>std</th>\n",
       "      <td>NaN</td>\n",
       "      <td>0.707107</td>\n",
       "      <td>NaN</td>\n",
       "    </tr>\n",
       "    <tr>\n",
       "      <th>min</th>\n",
       "      <td>1.0</td>\n",
       "      <td>2.000000</td>\n",
       "      <td>4.0</td>\n",
       "    </tr>\n",
       "    <tr>\n",
       "      <th>25%</th>\n",
       "      <td>1.0</td>\n",
       "      <td>2.250000</td>\n",
       "      <td>4.0</td>\n",
       "    </tr>\n",
       "    <tr>\n",
       "      <th>50%</th>\n",
       "      <td>1.0</td>\n",
       "      <td>2.500000</td>\n",
       "      <td>4.0</td>\n",
       "    </tr>\n",
       "    <tr>\n",
       "      <th>75%</th>\n",
       "      <td>1.0</td>\n",
       "      <td>2.750000</td>\n",
       "      <td>4.0</td>\n",
       "    </tr>\n",
       "    <tr>\n",
       "      <th>max</th>\n",
       "      <td>1.0</td>\n",
       "      <td>3.000000</td>\n",
       "      <td>4.0</td>\n",
       "    </tr>\n",
       "  </tbody>\n",
       "</table>\n",
       "</div>"
      ],
      "text/plain": [
       "       One       Two  Three\n",
       "count  1.0  2.000000    1.0\n",
       "mean   1.0  2.500000    4.0\n",
       "std    NaN  0.707107    NaN\n",
       "min    1.0  2.000000    4.0\n",
       "25%    1.0  2.250000    4.0\n",
       "50%    1.0  2.500000    4.0\n",
       "75%    1.0  2.750000    4.0\n",
       "max    1.0  3.000000    4.0"
      ]
     },
     "execution_count": 207,
     "metadata": {},
     "output_type": "execute_result"
    }
   ],
   "source": [
    "dframe1.describe()  ##summary statistics"
   ]
  },
  {
   "cell_type": "code",
   "execution_count": 208,
   "metadata": {
    "collapsed": true
   },
   "outputs": [],
   "source": [
    "from IPython.display import YouTubeVideo"
   ]
  },
  {
   "cell_type": "code",
   "execution_count": 209,
   "metadata": {
    "collapsed": false
   },
   "outputs": [
    {
     "data": {
      "image/jpeg": "[encoded data removed]",
      "text/html": [
       "\n",
       "        <iframe\n",
       "            width=\"400\"\n",
       "            height=\"300\"\n",
       "            src=\"https://www.youtube.com/embed/xGbpuFNR1ME\"\n",
       "            frameborder=\"0\"\n",
       "            allowfullscreen\n",
       "        ></iframe>\n",
       "        "
      ],
      "text/plain": [
       "<IPython.lib.display.YouTubeVideo at 0x8fc26d8>"
      ]
     },
     "execution_count": 209,
     "metadata": {},
     "output_type": "execute_result"
    }
   ],
   "source": [
    "YouTubeVideo('xGbpuFNR1ME')"
   ]
  },
  {
   "cell_type": "code",
   "execution_count": 15,
   "metadata": {
    "collapsed": false
   },
   "outputs": [],
   "source": [
    "import pandas.io.data as pdwed\n",
    "\n",
    "import datetime"
   ]
  },
  {
   "cell_type": "code",
   "execution_count": 18,
   "metadata": {
    "collapsed": false
   },
   "outputs": [],
   "source": [
    "import matplotlib.pyplot as plt"
   ]
  },
  {
   "cell_type": "code",
   "execution_count": 27,
   "metadata": {
    "collapsed": false
   },
   "outputs": [],
   "source": [
    "import sys"
   ]
  },
  {
   "cell_type": "code",
   "execution_count": 34,
   "metadata": {
    "collapsed": false
   },
   "outputs": [],
   "source": [
    "import scipy\n"
   ]
  },
  {
   "cell_type": "code",
   "execution_count": 35,
   "metadata": {
    "collapsed": true
   },
   "outputs": [],
   "source": [
    "import seaborn"
   ]
  },
  {
   "cell_type": "markdown",
   "metadata": {},
   "source": [
    "# Missing Data"
   ]
  },
  {
   "cell_type": "code",
   "execution_count": 36,
   "metadata": {
    "collapsed": true
   },
   "outputs": [],
   "source": [
    "import numpy as np\n",
    "from pandas import Series, DataFrame\n",
    "import pandas as pd"
   ]
  },
  {
   "cell_type": "code",
   "execution_count": 37,
   "metadata": {
    "collapsed": true
   },
   "outputs": [],
   "source": [
    "data=Series(['one', 'two', np.nan, 'four'])"
   ]
  },
  {
   "cell_type": "code",
   "execution_count": 38,
   "metadata": {
    "collapsed": false
   },
   "outputs": [
    {
     "data": {
      "text/plain": [
       "0     one\n",
       "1     two\n",
       "2     NaN\n",
       "3    four\n",
       "dtype: object"
      ]
     },
     "execution_count": 38,
     "metadata": {},
     "output_type": "execute_result"
    }
   ],
   "source": [
    "data"
   ]
  },
  {
   "cell_type": "code",
   "execution_count": 39,
   "metadata": {
    "collapsed": false
   },
   "outputs": [
    {
     "data": {
      "text/plain": [
       "0    False\n",
       "1    False\n",
       "2     True\n",
       "3    False\n",
       "dtype: bool"
      ]
     },
     "execution_count": 39,
     "metadata": {},
     "output_type": "execute_result"
    }
   ],
   "source": [
    "###how to find the missing values\n",
    "data.isnull()"
   ]
  },
  {
   "cell_type": "code",
   "execution_count": 40,
   "metadata": {
    "collapsed": false
   },
   "outputs": [
    {
     "data": {
      "text/plain": [
       "0     one\n",
       "1     two\n",
       "3    four\n",
       "dtype: object"
      ]
     },
     "execution_count": 40,
     "metadata": {},
     "output_type": "execute_result"
    }
   ],
   "source": [
    "###remove the missing values\n",
    "data.dropna()"
   ]
  },
  {
   "cell_type": "code",
   "execution_count": 41,
   "metadata": {
    "collapsed": false
   },
   "outputs": [
    {
     "data": {
      "text/plain": [
       "0     one\n",
       "1     two\n",
       "2     NaN\n",
       "3    four\n",
       "dtype: object"
      ]
     },
     "execution_count": 41,
     "metadata": {},
     "output_type": "execute_result"
    }
   ],
   "source": [
    "data"
   ]
  },
  {
   "cell_type": "code",
   "execution_count": 42,
   "metadata": {
    "collapsed": true
   },
   "outputs": [],
   "source": [
    "dframe=DataFrame([[1,2,3],[np.nan,5,6],[np.nan,np.nan,np.nan]])"
   ]
  },
  {
   "cell_type": "code",
   "execution_count": 43,
   "metadata": {
    "collapsed": false
   },
   "outputs": [
    {
     "data": {
      "text/html": [
       "<div>\n",
       "<table border=\"1\" class=\"dataframe\">\n",
       "  <thead>\n",
       "    <tr style=\"text-align: right;\">\n",
       "      <th></th>\n",
       "      <th>0</th>\n",
       "      <th>1</th>\n",
       "      <th>2</th>\n",
       "    </tr>\n",
       "  </thead>\n",
       "  <tbody>\n",
       "    <tr>\n",
       "      <th>0</th>\n",
       "      <td>1.0</td>\n",
       "      <td>2.0</td>\n",
       "      <td>3.0</td>\n",
       "    </tr>\n",
       "    <tr>\n",
       "      <th>1</th>\n",
       "      <td>NaN</td>\n",
       "      <td>5.0</td>\n",
       "      <td>6.0</td>\n",
       "    </tr>\n",
       "    <tr>\n",
       "      <th>2</th>\n",
       "      <td>NaN</td>\n",
       "      <td>NaN</td>\n",
       "      <td>NaN</td>\n",
       "    </tr>\n",
       "  </tbody>\n",
       "</table>\n",
       "</div>"
      ],
      "text/plain": [
       "     0    1    2\n",
       "0  1.0  2.0  3.0\n",
       "1  NaN  5.0  6.0\n",
       "2  NaN  NaN  NaN"
      ]
     },
     "execution_count": 43,
     "metadata": {},
     "output_type": "execute_result"
    }
   ],
   "source": [
    "dframe"
   ]
  },
  {
   "cell_type": "code",
   "execution_count": 46,
   "metadata": {
    "collapsed": false
   },
   "outputs": [],
   "source": [
    "clean_dframe=dframe.dropna()  ###it is the equivalent of complete cases"
   ]
  },
  {
   "cell_type": "code",
   "execution_count": 47,
   "metadata": {
    "collapsed": false
   },
   "outputs": [
    {
     "data": {
      "text/html": [
       "<div>\n",
       "<table border=\"1\" class=\"dataframe\">\n",
       "  <thead>\n",
       "    <tr style=\"text-align: right;\">\n",
       "      <th></th>\n",
       "      <th>0</th>\n",
       "      <th>1</th>\n",
       "      <th>2</th>\n",
       "    </tr>\n",
       "  </thead>\n",
       "  <tbody>\n",
       "    <tr>\n",
       "      <th>0</th>\n",
       "      <td>1.0</td>\n",
       "      <td>2.0</td>\n",
       "      <td>3.0</td>\n",
       "    </tr>\n",
       "  </tbody>\n",
       "</table>\n",
       "</div>"
      ],
      "text/plain": [
       "     0    1    2\n",
       "0  1.0  2.0  3.0"
      ]
     },
     "execution_count": 47,
     "metadata": {},
     "output_type": "execute_result"
    }
   ],
   "source": [
    "clean_dframe  "
   ]
  },
  {
   "cell_type": "code",
   "execution_count": 48,
   "metadata": {
    "collapsed": false
   },
   "outputs": [
    {
     "data": {
      "text/html": [
       "<div>\n",
       "<table border=\"1\" class=\"dataframe\">\n",
       "  <thead>\n",
       "    <tr style=\"text-align: right;\">\n",
       "      <th></th>\n",
       "      <th>0</th>\n",
       "      <th>1</th>\n",
       "      <th>2</th>\n",
       "    </tr>\n",
       "  </thead>\n",
       "  <tbody>\n",
       "    <tr>\n",
       "      <th>0</th>\n",
       "      <td>1.0</td>\n",
       "      <td>2.0</td>\n",
       "      <td>3.0</td>\n",
       "    </tr>\n",
       "  </tbody>\n",
       "</table>\n",
       "</div>"
      ],
      "text/plain": [
       "     0    1    2\n",
       "0  1.0  2.0  3.0"
      ]
     },
     "execution_count": 48,
     "metadata": {},
     "output_type": "execute_result"
    }
   ],
   "source": [
    "dframe.dropna()"
   ]
  },
  {
   "cell_type": "code",
   "execution_count": 49,
   "metadata": {
    "collapsed": false
   },
   "outputs": [
    {
     "data": {
      "text/html": [
       "<div>\n",
       "<table border=\"1\" class=\"dataframe\">\n",
       "  <thead>\n",
       "    <tr style=\"text-align: right;\">\n",
       "      <th></th>\n",
       "      <th>0</th>\n",
       "      <th>1</th>\n",
       "      <th>2</th>\n",
       "    </tr>\n",
       "  </thead>\n",
       "  <tbody>\n",
       "    <tr>\n",
       "      <th>0</th>\n",
       "      <td>1.0</td>\n",
       "      <td>2.0</td>\n",
       "      <td>3.0</td>\n",
       "    </tr>\n",
       "    <tr>\n",
       "      <th>1</th>\n",
       "      <td>NaN</td>\n",
       "      <td>5.0</td>\n",
       "      <td>6.0</td>\n",
       "    </tr>\n",
       "  </tbody>\n",
       "</table>\n",
       "</div>"
      ],
      "text/plain": [
       "     0    1    2\n",
       "0  1.0  2.0  3.0\n",
       "1  NaN  5.0  6.0"
      ]
     },
     "execution_count": 49,
     "metadata": {},
     "output_type": "execute_result"
    }
   ],
   "source": [
    "dframe.dropna(how='all') ###now it removes only the rows where ALL are missing"
   ]
  },
  {
   "cell_type": "code",
   "execution_count": 52,
   "metadata": {
    "collapsed": false
   },
   "outputs": [
    {
     "data": {
      "text/html": [
       "<div>\n",
       "<table border=\"1\" class=\"dataframe\">\n",
       "  <thead>\n",
       "    <tr style=\"text-align: right;\">\n",
       "      <th></th>\n",
       "    </tr>\n",
       "  </thead>\n",
       "  <tbody>\n",
       "    <tr>\n",
       "      <th>0</th>\n",
       "    </tr>\n",
       "    <tr>\n",
       "      <th>1</th>\n",
       "    </tr>\n",
       "    <tr>\n",
       "      <th>2</th>\n",
       "    </tr>\n",
       "  </tbody>\n",
       "</table>\n",
       "</div>"
      ],
      "text/plain": [
       "Empty DataFrame\n",
       "Columns: []\n",
       "Index: [0, 1, 2]"
      ]
     },
     "execution_count": 52,
     "metadata": {},
     "output_type": "execute_result"
    }
   ],
   "source": [
    "dframe.dropna(axis=1)  ###the complete cases by rows so it drop "
   ]
  },
  {
   "cell_type": "code",
   "execution_count": 51,
   "metadata": {
    "collapsed": false
   },
   "outputs": [
    {
     "data": {
      "text/html": [
       "<div>\n",
       "<table border=\"1\" class=\"dataframe\">\n",
       "  <thead>\n",
       "    <tr style=\"text-align: right;\">\n",
       "      <th></th>\n",
       "      <th>0</th>\n",
       "      <th>1</th>\n",
       "      <th>2</th>\n",
       "    </tr>\n",
       "  </thead>\n",
       "  <tbody>\n",
       "    <tr>\n",
       "      <th>0</th>\n",
       "      <td>1.0</td>\n",
       "      <td>2.0</td>\n",
       "      <td>3.0</td>\n",
       "    </tr>\n",
       "    <tr>\n",
       "      <th>1</th>\n",
       "      <td>NaN</td>\n",
       "      <td>5.0</td>\n",
       "      <td>6.0</td>\n",
       "    </tr>\n",
       "    <tr>\n",
       "      <th>2</th>\n",
       "      <td>NaN</td>\n",
       "      <td>NaN</td>\n",
       "      <td>NaN</td>\n",
       "    </tr>\n",
       "  </tbody>\n",
       "</table>\n",
       "</div>"
      ],
      "text/plain": [
       "     0    1    2\n",
       "0  1.0  2.0  3.0\n",
       "1  NaN  5.0  6.0\n",
       "2  NaN  NaN  NaN"
      ]
     },
     "execution_count": 51,
     "metadata": {},
     "output_type": "execute_result"
    }
   ],
   "source": [
    "dframe"
   ]
  },
  {
   "cell_type": "code",
   "execution_count": 54,
   "metadata": {
    "collapsed": false
   },
   "outputs": [],
   "source": [
    "dframe=DataFrame([[1,2,3],[np.nan,5,6],[7, np.nan,9],[np.nan,np.nan,np.nan]])"
   ]
  },
  {
   "cell_type": "code",
   "execution_count": 57,
   "metadata": {
    "collapsed": false
   },
   "outputs": [
    {
     "data": {
      "text/html": [
       "<div>\n",
       "<table border=\"1\" class=\"dataframe\">\n",
       "  <thead>\n",
       "    <tr style=\"text-align: right;\">\n",
       "      <th></th>\n",
       "      <th>0</th>\n",
       "      <th>1</th>\n",
       "      <th>2</th>\n",
       "    </tr>\n",
       "  </thead>\n",
       "  <tbody>\n",
       "    <tr>\n",
       "      <th>0</th>\n",
       "      <td>1.0</td>\n",
       "      <td>2.0</td>\n",
       "      <td>3.0</td>\n",
       "    </tr>\n",
       "    <tr>\n",
       "      <th>1</th>\n",
       "      <td>NaN</td>\n",
       "      <td>5.0</td>\n",
       "      <td>6.0</td>\n",
       "    </tr>\n",
       "    <tr>\n",
       "      <th>2</th>\n",
       "      <td>7.0</td>\n",
       "      <td>NaN</td>\n",
       "      <td>9.0</td>\n",
       "    </tr>\n",
       "    <tr>\n",
       "      <th>3</th>\n",
       "      <td>NaN</td>\n",
       "      <td>NaN</td>\n",
       "      <td>NaN</td>\n",
       "    </tr>\n",
       "  </tbody>\n",
       "</table>\n",
       "</div>"
      ],
      "text/plain": [
       "     0    1    2\n",
       "0  1.0  2.0  3.0\n",
       "1  NaN  5.0  6.0\n",
       "2  7.0  NaN  9.0\n",
       "3  NaN  NaN  NaN"
      ]
     },
     "execution_count": 57,
     "metadata": {},
     "output_type": "execute_result"
    }
   ],
   "source": [
    "dframe"
   ]
  },
  {
   "cell_type": "code",
   "execution_count": 56,
   "metadata": {
    "collapsed": false
   },
   "outputs": [
    {
     "data": {
      "text/html": [
       "<div>\n",
       "<table border=\"1\" class=\"dataframe\">\n",
       "  <thead>\n",
       "    <tr style=\"text-align: right;\">\n",
       "      <th></th>\n",
       "    </tr>\n",
       "  </thead>\n",
       "  <tbody>\n",
       "    <tr>\n",
       "      <th>0</th>\n",
       "    </tr>\n",
       "    <tr>\n",
       "      <th>1</th>\n",
       "    </tr>\n",
       "    <tr>\n",
       "      <th>2</th>\n",
       "    </tr>\n",
       "    <tr>\n",
       "      <th>3</th>\n",
       "    </tr>\n",
       "  </tbody>\n",
       "</table>\n",
       "</div>"
      ],
      "text/plain": [
       "Empty DataFrame\n",
       "Columns: []\n",
       "Index: [0, 1, 2, 3]"
      ]
     },
     "execution_count": 56,
     "metadata": {},
     "output_type": "execute_result"
    }
   ],
   "source": [
    "dframe.dropna(axis=1)  ###the complete cases by rows so it drops the columns"
   ]
  },
  {
   "cell_type": "code",
   "execution_count": 58,
   "metadata": {
    "collapsed": true
   },
   "outputs": [],
   "source": [
    "dframe2=DataFrame([[1,2,3, np.nan],[2,np.nan,5,6],[np.nan, 7, np.nan,9],[1,np.nan,np.nan,np.nan]])"
   ]
  },
  {
   "cell_type": "code",
   "execution_count": 59,
   "metadata": {
    "collapsed": false
   },
   "outputs": [
    {
     "data": {
      "text/html": [
       "<div>\n",
       "<table border=\"1\" class=\"dataframe\">\n",
       "  <thead>\n",
       "    <tr style=\"text-align: right;\">\n",
       "      <th></th>\n",
       "      <th>0</th>\n",
       "      <th>1</th>\n",
       "      <th>2</th>\n",
       "      <th>3</th>\n",
       "    </tr>\n",
       "  </thead>\n",
       "  <tbody>\n",
       "    <tr>\n",
       "      <th>0</th>\n",
       "      <td>1.0</td>\n",
       "      <td>2.0</td>\n",
       "      <td>3.0</td>\n",
       "      <td>NaN</td>\n",
       "    </tr>\n",
       "    <tr>\n",
       "      <th>1</th>\n",
       "      <td>2.0</td>\n",
       "      <td>NaN</td>\n",
       "      <td>5.0</td>\n",
       "      <td>6.0</td>\n",
       "    </tr>\n",
       "    <tr>\n",
       "      <th>2</th>\n",
       "      <td>NaN</td>\n",
       "      <td>7.0</td>\n",
       "      <td>NaN</td>\n",
       "      <td>9.0</td>\n",
       "    </tr>\n",
       "    <tr>\n",
       "      <th>3</th>\n",
       "      <td>1.0</td>\n",
       "      <td>NaN</td>\n",
       "      <td>NaN</td>\n",
       "      <td>NaN</td>\n",
       "    </tr>\n",
       "  </tbody>\n",
       "</table>\n",
       "</div>"
      ],
      "text/plain": [
       "     0    1    2    3\n",
       "0  1.0  2.0  3.0  NaN\n",
       "1  2.0  NaN  5.0  6.0\n",
       "2  NaN  7.0  NaN  9.0\n",
       "3  1.0  NaN  NaN  NaN"
      ]
     },
     "execution_count": 59,
     "metadata": {},
     "output_type": "execute_result"
    }
   ],
   "source": [
    "dframe2"
   ]
  },
  {
   "cell_type": "code",
   "execution_count": 60,
   "metadata": {
    "collapsed": false
   },
   "outputs": [
    {
     "data": {
      "text/html": [
       "<div>\n",
       "<table border=\"1\" class=\"dataframe\">\n",
       "  <thead>\n",
       "    <tr style=\"text-align: right;\">\n",
       "      <th></th>\n",
       "      <th>0</th>\n",
       "      <th>1</th>\n",
       "      <th>2</th>\n",
       "      <th>3</th>\n",
       "    </tr>\n",
       "  </thead>\n",
       "  <tbody>\n",
       "    <tr>\n",
       "      <th>0</th>\n",
       "      <td>1.0</td>\n",
       "      <td>2.0</td>\n",
       "      <td>3.0</td>\n",
       "      <td>NaN</td>\n",
       "    </tr>\n",
       "    <tr>\n",
       "      <th>1</th>\n",
       "      <td>2.0</td>\n",
       "      <td>NaN</td>\n",
       "      <td>5.0</td>\n",
       "      <td>6.0</td>\n",
       "    </tr>\n",
       "    <tr>\n",
       "      <th>2</th>\n",
       "      <td>NaN</td>\n",
       "      <td>7.0</td>\n",
       "      <td>NaN</td>\n",
       "      <td>9.0</td>\n",
       "    </tr>\n",
       "  </tbody>\n",
       "</table>\n",
       "</div>"
      ],
      "text/plain": [
       "     0    1    2    3\n",
       "0  1.0  2.0  3.0  NaN\n",
       "1  2.0  NaN  5.0  6.0\n",
       "2  NaN  7.0  NaN  9.0"
      ]
     },
     "execution_count": 60,
     "metadata": {},
     "output_type": "execute_result"
    }
   ],
   "source": [
    "dframe2.dropna(thresh=2) ###how many actual data point values at least you want (not null)"
   ]
  },
  {
   "cell_type": "code",
   "execution_count": 61,
   "metadata": {
    "collapsed": false
   },
   "outputs": [
    {
     "data": {
      "text/html": [
       "<div>\n",
       "<table border=\"1\" class=\"dataframe\">\n",
       "  <thead>\n",
       "    <tr style=\"text-align: right;\">\n",
       "      <th></th>\n",
       "      <th>0</th>\n",
       "      <th>1</th>\n",
       "      <th>2</th>\n",
       "      <th>3</th>\n",
       "    </tr>\n",
       "  </thead>\n",
       "  <tbody>\n",
       "    <tr>\n",
       "      <th>0</th>\n",
       "      <td>1.0</td>\n",
       "      <td>2.0</td>\n",
       "      <td>3.0</td>\n",
       "      <td>NaN</td>\n",
       "    </tr>\n",
       "    <tr>\n",
       "      <th>1</th>\n",
       "      <td>2.0</td>\n",
       "      <td>NaN</td>\n",
       "      <td>5.0</td>\n",
       "      <td>6.0</td>\n",
       "    </tr>\n",
       "  </tbody>\n",
       "</table>\n",
       "</div>"
      ],
      "text/plain": [
       "     0    1    2    3\n",
       "0  1.0  2.0  3.0  NaN\n",
       "1  2.0  NaN  5.0  6.0"
      ]
     },
     "execution_count": 61,
     "metadata": {},
     "output_type": "execute_result"
    }
   ],
   "source": [
    "dframe2.dropna(thresh=3) ###another exaple, it keeps only the rows who have at least 3 not null values"
   ]
  },
  {
   "cell_type": "code",
   "execution_count": 62,
   "metadata": {
    "collapsed": false
   },
   "outputs": [
    {
     "data": {
      "text/html": [
       "<div>\n",
       "<table border=\"1\" class=\"dataframe\">\n",
       "  <thead>\n",
       "    <tr style=\"text-align: right;\">\n",
       "      <th></th>\n",
       "      <th>0</th>\n",
       "      <th>1</th>\n",
       "      <th>2</th>\n",
       "      <th>3</th>\n",
       "    </tr>\n",
       "  </thead>\n",
       "  <tbody>\n",
       "    <tr>\n",
       "      <th>0</th>\n",
       "      <td>1.0</td>\n",
       "      <td>2.0</td>\n",
       "      <td>3.0</td>\n",
       "      <td>1.0</td>\n",
       "    </tr>\n",
       "    <tr>\n",
       "      <th>1</th>\n",
       "      <td>2.0</td>\n",
       "      <td>1.0</td>\n",
       "      <td>5.0</td>\n",
       "      <td>6.0</td>\n",
       "    </tr>\n",
       "    <tr>\n",
       "      <th>2</th>\n",
       "      <td>1.0</td>\n",
       "      <td>7.0</td>\n",
       "      <td>1.0</td>\n",
       "      <td>9.0</td>\n",
       "    </tr>\n",
       "    <tr>\n",
       "      <th>3</th>\n",
       "      <td>1.0</td>\n",
       "      <td>1.0</td>\n",
       "      <td>1.0</td>\n",
       "      <td>1.0</td>\n",
       "    </tr>\n",
       "  </tbody>\n",
       "</table>\n",
       "</div>"
      ],
      "text/plain": [
       "     0    1    2    3\n",
       "0  1.0  2.0  3.0  1.0\n",
       "1  2.0  1.0  5.0  6.0\n",
       "2  1.0  7.0  1.0  9.0\n",
       "3  1.0  1.0  1.0  1.0"
      ]
     },
     "execution_count": 62,
     "metadata": {},
     "output_type": "execute_result"
    }
   ],
   "source": [
    "dframe2.fillna(1) ###fill the null values by a specific value"
   ]
  },
  {
   "cell_type": "code",
   "execution_count": null,
   "metadata": {
    "collapsed": true
   },
   "outputs": [],
   "source": [
    "dframe2.fillna({0:0,1:1,2:2,3:4})  ### by using a dictionary you can specify which null values to replace with what value.\n",
    "## For example here it say the 0 column with 0 the 1 column with 1 the 2 column with 2 the 3 column with 4"
   ]
  },
  {
   "cell_type": "code",
   "execution_count": 68,
   "metadata": {
    "collapsed": false,
    "scrolled": true
   },
   "outputs": [
    {
     "data": {
      "text/html": [
       "<div>\n",
       "<table border=\"1\" class=\"dataframe\">\n",
       "  <thead>\n",
       "    <tr style=\"text-align: right;\">\n",
       "      <th></th>\n",
       "      <th>0</th>\n",
       "      <th>1</th>\n",
       "      <th>2</th>\n",
       "      <th>3</th>\n",
       "    </tr>\n",
       "  </thead>\n",
       "  <tbody>\n",
       "    <tr>\n",
       "      <th>0</th>\n",
       "      <td>1.0</td>\n",
       "      <td>2.0</td>\n",
       "      <td>3.0</td>\n",
       "      <td>NaN</td>\n",
       "    </tr>\n",
       "    <tr>\n",
       "      <th>1</th>\n",
       "      <td>2.0</td>\n",
       "      <td>NaN</td>\n",
       "      <td>5.0</td>\n",
       "      <td>6.0</td>\n",
       "    </tr>\n",
       "    <tr>\n",
       "      <th>2</th>\n",
       "      <td>NaN</td>\n",
       "      <td>7.0</td>\n",
       "      <td>NaN</td>\n",
       "      <td>9.0</td>\n",
       "    </tr>\n",
       "    <tr>\n",
       "      <th>3</th>\n",
       "      <td>1.0</td>\n",
       "      <td>NaN</td>\n",
       "      <td>NaN</td>\n",
       "      <td>NaN</td>\n",
       "    </tr>\n",
       "  </tbody>\n",
       "</table>\n",
       "</div>"
      ],
      "text/plain": [
       "     0    1    2    3\n",
       "0  1.0  2.0  3.0  NaN\n",
       "1  2.0  NaN  5.0  6.0\n",
       "2  NaN  7.0  NaN  9.0\n",
       "3  1.0  NaN  NaN  NaN"
      ]
     },
     "execution_count": 68,
     "metadata": {},
     "output_type": "execute_result"
    }
   ],
   "source": [
    "dframe2"
   ]
  },
  {
   "cell_type": "code",
   "execution_count": 69,
   "metadata": {
    "collapsed": false
   },
   "outputs": [
    {
     "data": {
      "text/html": [
       "<div>\n",
       "<table border=\"1\" class=\"dataframe\">\n",
       "  <thead>\n",
       "    <tr style=\"text-align: right;\">\n",
       "      <th></th>\n",
       "      <th>0</th>\n",
       "      <th>1</th>\n",
       "      <th>2</th>\n",
       "      <th>3</th>\n",
       "    </tr>\n",
       "  </thead>\n",
       "  <tbody>\n",
       "    <tr>\n",
       "      <th>0</th>\n",
       "      <td>1.0</td>\n",
       "      <td>2.0</td>\n",
       "      <td>3.0</td>\n",
       "      <td>0.0</td>\n",
       "    </tr>\n",
       "    <tr>\n",
       "      <th>1</th>\n",
       "      <td>2.0</td>\n",
       "      <td>0.0</td>\n",
       "      <td>5.0</td>\n",
       "      <td>6.0</td>\n",
       "    </tr>\n",
       "    <tr>\n",
       "      <th>2</th>\n",
       "      <td>0.0</td>\n",
       "      <td>7.0</td>\n",
       "      <td>0.0</td>\n",
       "      <td>9.0</td>\n",
       "    </tr>\n",
       "    <tr>\n",
       "      <th>3</th>\n",
       "      <td>1.0</td>\n",
       "      <td>0.0</td>\n",
       "      <td>0.0</td>\n",
       "      <td>0.0</td>\n",
       "    </tr>\n",
       "  </tbody>\n",
       "</table>\n",
       "</div>"
      ],
      "text/plain": [
       "     0    1    2    3\n",
       "0  1.0  2.0  3.0  0.0\n",
       "1  2.0  0.0  5.0  6.0\n",
       "2  0.0  7.0  0.0  9.0\n",
       "3  1.0  0.0  0.0  0.0"
      ]
     },
     "execution_count": 69,
     "metadata": {},
     "output_type": "execute_result"
    }
   ],
   "source": [
    "dframe2.fillna(0)"
   ]
  },
  {
   "cell_type": "code",
   "execution_count": 70,
   "metadata": {
    "collapsed": true
   },
   "outputs": [],
   "source": [
    "dframe2.fillna(0,inplace=True) ##permanent change!!!!"
   ]
  },
  {
   "cell_type": "code",
   "execution_count": 71,
   "metadata": {
    "collapsed": false
   },
   "outputs": [
    {
     "data": {
      "text/html": [
       "<div>\n",
       "<table border=\"1\" class=\"dataframe\">\n",
       "  <thead>\n",
       "    <tr style=\"text-align: right;\">\n",
       "      <th></th>\n",
       "      <th>0</th>\n",
       "      <th>1</th>\n",
       "      <th>2</th>\n",
       "    </tr>\n",
       "  </thead>\n",
       "  <tbody>\n",
       "    <tr>\n",
       "      <th>0</th>\n",
       "      <td>1.0</td>\n",
       "      <td>2.0</td>\n",
       "      <td>3.0</td>\n",
       "    </tr>\n",
       "    <tr>\n",
       "      <th>1</th>\n",
       "      <td>NaN</td>\n",
       "      <td>5.0</td>\n",
       "      <td>6.0</td>\n",
       "    </tr>\n",
       "    <tr>\n",
       "      <th>2</th>\n",
       "      <td>7.0</td>\n",
       "      <td>NaN</td>\n",
       "      <td>9.0</td>\n",
       "    </tr>\n",
       "    <tr>\n",
       "      <th>3</th>\n",
       "      <td>NaN</td>\n",
       "      <td>NaN</td>\n",
       "      <td>NaN</td>\n",
       "    </tr>\n",
       "  </tbody>\n",
       "</table>\n",
       "</div>"
      ],
      "text/plain": [
       "     0    1    2\n",
       "0  1.0  2.0  3.0\n",
       "1  NaN  5.0  6.0\n",
       "2  7.0  NaN  9.0\n",
       "3  NaN  NaN  NaN"
      ]
     },
     "execution_count": 71,
     "metadata": {},
     "output_type": "execute_result"
    }
   ],
   "source": [
    "dframe"
   ]
  },
  {
   "cell_type": "markdown",
   "metadata": {},
   "source": [
    "# Index Hierarchy"
   ]
  },
  {
   "cell_type": "code",
   "execution_count": 73,
   "metadata": {
    "collapsed": true
   },
   "outputs": [],
   "source": [
    "import numpy as np\n",
    "from pandas import Series, DataFrame\n",
    "import pandas as pd\n",
    "\n",
    "from numpy.random import randn"
   ]
  },
  {
   "cell_type": "code",
   "execution_count": 74,
   "metadata": {
    "collapsed": true
   },
   "outputs": [],
   "source": [
    "ser=Series(randn(6), index=[[1,1,1,2,2,2],['a','b','c','a','b','c']])"
   ]
  },
  {
   "cell_type": "code",
   "execution_count": 75,
   "metadata": {
    "collapsed": false
   },
   "outputs": [
    {
     "data": {
      "text/plain": [
       "1  a   -0.603820\n",
       "   b   -0.602503\n",
       "   c   -2.296670\n",
       "2  a    0.111327\n",
       "   b    0.321913\n",
       "   c    0.583417\n",
       "dtype: float64"
      ]
     },
     "execution_count": 75,
     "metadata": {},
     "output_type": "execute_result"
    }
   ],
   "source": [
    "ser"
   ]
  },
  {
   "cell_type": "code",
   "execution_count": 76,
   "metadata": {
    "collapsed": false
   },
   "outputs": [
    {
     "data": {
      "text/plain": [
       "MultiIndex(levels=[[1, 2], [u'a', u'b', u'c']],\n",
       "           labels=[[0, 0, 0, 1, 1, 1], [0, 1, 2, 0, 1, 2]])"
      ]
     },
     "execution_count": 76,
     "metadata": {},
     "output_type": "execute_result"
    }
   ],
   "source": [
    "ser.index"
   ]
  },
  {
   "cell_type": "code",
   "execution_count": 77,
   "metadata": {
    "collapsed": false
   },
   "outputs": [
    {
     "data": {
      "text/plain": [
       "a   -0.603820\n",
       "b   -0.602503\n",
       "c   -2.296670\n",
       "dtype: float64"
      ]
     },
     "execution_count": 77,
     "metadata": {},
     "output_type": "execute_result"
    }
   ],
   "source": [
    "ser[1]"
   ]
  },
  {
   "cell_type": "code",
   "execution_count": 78,
   "metadata": {
    "collapsed": false
   },
   "outputs": [
    {
     "data": {
      "text/plain": [
       "a    0.111327\n",
       "b    0.321913\n",
       "c    0.583417\n",
       "dtype: float64"
      ]
     },
     "execution_count": 78,
     "metadata": {},
     "output_type": "execute_result"
    }
   ],
   "source": [
    "ser[2]"
   ]
  },
  {
   "cell_type": "code",
   "execution_count": 80,
   "metadata": {
    "collapsed": false
   },
   "outputs": [
    {
     "data": {
      "text/plain": [
       "1   -0.603820\n",
       "2    0.111327\n",
       "dtype: float64"
      ]
     },
     "execution_count": 80,
     "metadata": {},
     "output_type": "execute_result"
    }
   ],
   "source": [
    "ser[:,'a']"
   ]
  },
  {
   "cell_type": "code",
   "execution_count": 81,
   "metadata": {
    "collapsed": true
   },
   "outputs": [],
   "source": [
    "dframe=ser.unstack()"
   ]
  },
  {
   "cell_type": "code",
   "execution_count": 82,
   "metadata": {
    "collapsed": false
   },
   "outputs": [
    {
     "data": {
      "text/html": [
       "<div>\n",
       "<table border=\"1\" class=\"dataframe\">\n",
       "  <thead>\n",
       "    <tr style=\"text-align: right;\">\n",
       "      <th></th>\n",
       "      <th>a</th>\n",
       "      <th>b</th>\n",
       "      <th>c</th>\n",
       "    </tr>\n",
       "  </thead>\n",
       "  <tbody>\n",
       "    <tr>\n",
       "      <th>1</th>\n",
       "      <td>-0.603820</td>\n",
       "      <td>-0.602503</td>\n",
       "      <td>-2.296670</td>\n",
       "    </tr>\n",
       "    <tr>\n",
       "      <th>2</th>\n",
       "      <td>0.111327</td>\n",
       "      <td>0.321913</td>\n",
       "      <td>0.583417</td>\n",
       "    </tr>\n",
       "  </tbody>\n",
       "</table>\n",
       "</div>"
      ],
      "text/plain": [
       "          a         b         c\n",
       "1 -0.603820 -0.602503 -2.296670\n",
       "2  0.111327  0.321913  0.583417"
      ]
     },
     "execution_count": 82,
     "metadata": {},
     "output_type": "execute_result"
    }
   ],
   "source": [
    "dframe"
   ]
  },
  {
   "cell_type": "code",
   "execution_count": 84,
   "metadata": {
    "collapsed": false
   },
   "outputs": [],
   "source": [
    "dframe2=DataFrame(np.arange(16).reshape(4,4), index=[['a','a','b','b'], [1,2,1,2]], \n",
    "                  columns=[['NY','NY','LA','SF'], ['cold','hot','hot','cold']])"
   ]
  },
  {
   "cell_type": "code",
   "execution_count": 85,
   "metadata": {
    "collapsed": false
   },
   "outputs": [
    {
     "data": {
      "text/html": [
       "<div>\n",
       "<table border=\"1\" class=\"dataframe\">\n",
       "  <thead>\n",
       "    <tr>\n",
       "      <th></th>\n",
       "      <th></th>\n",
       "      <th colspan=\"2\" halign=\"left\">NY</th>\n",
       "      <th>LA</th>\n",
       "      <th>SF</th>\n",
       "    </tr>\n",
       "    <tr>\n",
       "      <th></th>\n",
       "      <th></th>\n",
       "      <th>cold</th>\n",
       "      <th>hot</th>\n",
       "      <th>hot</th>\n",
       "      <th>cold</th>\n",
       "    </tr>\n",
       "  </thead>\n",
       "  <tbody>\n",
       "    <tr>\n",
       "      <th rowspan=\"2\" valign=\"top\">a</th>\n",
       "      <th>1</th>\n",
       "      <td>0</td>\n",
       "      <td>1</td>\n",
       "      <td>2</td>\n",
       "      <td>3</td>\n",
       "    </tr>\n",
       "    <tr>\n",
       "      <th>2</th>\n",
       "      <td>4</td>\n",
       "      <td>5</td>\n",
       "      <td>6</td>\n",
       "      <td>7</td>\n",
       "    </tr>\n",
       "    <tr>\n",
       "      <th rowspan=\"2\" valign=\"top\">b</th>\n",
       "      <th>1</th>\n",
       "      <td>8</td>\n",
       "      <td>9</td>\n",
       "      <td>10</td>\n",
       "      <td>11</td>\n",
       "    </tr>\n",
       "    <tr>\n",
       "      <th>2</th>\n",
       "      <td>12</td>\n",
       "      <td>13</td>\n",
       "      <td>14</td>\n",
       "      <td>15</td>\n",
       "    </tr>\n",
       "  </tbody>\n",
       "</table>\n",
       "</div>"
      ],
      "text/plain": [
       "      NY      LA   SF\n",
       "    cold hot hot cold\n",
       "a 1    0   1   2    3\n",
       "  2    4   5   6    7\n",
       "b 1    8   9  10   11\n",
       "  2   12  13  14   15"
      ]
     },
     "execution_count": 85,
     "metadata": {},
     "output_type": "execute_result"
    }
   ],
   "source": [
    "dframe2"
   ]
  },
  {
   "cell_type": "code",
   "execution_count": 86,
   "metadata": {
    "collapsed": true
   },
   "outputs": [],
   "source": [
    "dframe2.index.names=['INDEX_1', 'INDEX_2']\n",
    "\n",
    "dframe2.columns.names=['Cities', 'Temp']"
   ]
  },
  {
   "cell_type": "code",
   "execution_count": 87,
   "metadata": {
    "collapsed": false
   },
   "outputs": [
    {
     "data": {
      "text/html": [
       "<div>\n",
       "<table border=\"1\" class=\"dataframe\">\n",
       "  <thead>\n",
       "    <tr>\n",
       "      <th></th>\n",
       "      <th>Cities</th>\n",
       "      <th colspan=\"2\" halign=\"left\">NY</th>\n",
       "      <th>LA</th>\n",
       "      <th>SF</th>\n",
       "    </tr>\n",
       "    <tr>\n",
       "      <th></th>\n",
       "      <th>Temp</th>\n",
       "      <th>cold</th>\n",
       "      <th>hot</th>\n",
       "      <th>hot</th>\n",
       "      <th>cold</th>\n",
       "    </tr>\n",
       "    <tr>\n",
       "      <th>INDEX_1</th>\n",
       "      <th>INDEX_2</th>\n",
       "      <th></th>\n",
       "      <th></th>\n",
       "      <th></th>\n",
       "      <th></th>\n",
       "    </tr>\n",
       "  </thead>\n",
       "  <tbody>\n",
       "    <tr>\n",
       "      <th rowspan=\"2\" valign=\"top\">a</th>\n",
       "      <th>1</th>\n",
       "      <td>0</td>\n",
       "      <td>1</td>\n",
       "      <td>2</td>\n",
       "      <td>3</td>\n",
       "    </tr>\n",
       "    <tr>\n",
       "      <th>2</th>\n",
       "      <td>4</td>\n",
       "      <td>5</td>\n",
       "      <td>6</td>\n",
       "      <td>7</td>\n",
       "    </tr>\n",
       "    <tr>\n",
       "      <th rowspan=\"2\" valign=\"top\">b</th>\n",
       "      <th>1</th>\n",
       "      <td>8</td>\n",
       "      <td>9</td>\n",
       "      <td>10</td>\n",
       "      <td>11</td>\n",
       "    </tr>\n",
       "    <tr>\n",
       "      <th>2</th>\n",
       "      <td>12</td>\n",
       "      <td>13</td>\n",
       "      <td>14</td>\n",
       "      <td>15</td>\n",
       "    </tr>\n",
       "  </tbody>\n",
       "</table>\n",
       "</div>"
      ],
      "text/plain": [
       "Cities            NY      LA   SF\n",
       "Temp            cold hot hot cold\n",
       "INDEX_1 INDEX_2                  \n",
       "a       1          0   1   2    3\n",
       "        2          4   5   6    7\n",
       "b       1          8   9  10   11\n",
       "        2         12  13  14   15"
      ]
     },
     "execution_count": 87,
     "metadata": {},
     "output_type": "execute_result"
    }
   ],
   "source": [
    "dframe2"
   ]
  },
  {
   "cell_type": "code",
   "execution_count": 88,
   "metadata": {
    "collapsed": false
   },
   "outputs": [
    {
     "data": {
      "text/html": [
       "<div>\n",
       "<table border=\"1\" class=\"dataframe\">\n",
       "  <thead>\n",
       "    <tr>\n",
       "      <th></th>\n",
       "      <th>Temp</th>\n",
       "      <th>cold</th>\n",
       "      <th colspan=\"2\" halign=\"left\">hot</th>\n",
       "      <th>cold</th>\n",
       "    </tr>\n",
       "    <tr>\n",
       "      <th></th>\n",
       "      <th>Cities</th>\n",
       "      <th>NY</th>\n",
       "      <th>NY</th>\n",
       "      <th>LA</th>\n",
       "      <th>SF</th>\n",
       "    </tr>\n",
       "    <tr>\n",
       "      <th>INDEX_1</th>\n",
       "      <th>INDEX_2</th>\n",
       "      <th></th>\n",
       "      <th></th>\n",
       "      <th></th>\n",
       "      <th></th>\n",
       "    </tr>\n",
       "  </thead>\n",
       "  <tbody>\n",
       "    <tr>\n",
       "      <th rowspan=\"2\" valign=\"top\">a</th>\n",
       "      <th>1</th>\n",
       "      <td>0</td>\n",
       "      <td>1</td>\n",
       "      <td>2</td>\n",
       "      <td>3</td>\n",
       "    </tr>\n",
       "    <tr>\n",
       "      <th>2</th>\n",
       "      <td>4</td>\n",
       "      <td>5</td>\n",
       "      <td>6</td>\n",
       "      <td>7</td>\n",
       "    </tr>\n",
       "    <tr>\n",
       "      <th rowspan=\"2\" valign=\"top\">b</th>\n",
       "      <th>1</th>\n",
       "      <td>8</td>\n",
       "      <td>9</td>\n",
       "      <td>10</td>\n",
       "      <td>11</td>\n",
       "    </tr>\n",
       "    <tr>\n",
       "      <th>2</th>\n",
       "      <td>12</td>\n",
       "      <td>13</td>\n",
       "      <td>14</td>\n",
       "      <td>15</td>\n",
       "    </tr>\n",
       "  </tbody>\n",
       "</table>\n",
       "</div>"
      ],
      "text/plain": [
       "Temp            cold hot     cold\n",
       "Cities            NY  NY  LA   SF\n",
       "INDEX_1 INDEX_2                  \n",
       "a       1          0   1   2    3\n",
       "        2          4   5   6    7\n",
       "b       1          8   9  10   11\n",
       "        2         12  13  14   15"
      ]
     },
     "execution_count": 88,
     "metadata": {},
     "output_type": "execute_result"
    }
   ],
   "source": [
    "dframe2.swaplevel('Cities', 'Temp', axis=1)"
   ]
  },
  {
   "cell_type": "code",
   "execution_count": 89,
   "metadata": {
    "collapsed": false
   },
   "outputs": [
    {
     "data": {
      "text/html": [
       "<div>\n",
       "<table border=\"1\" class=\"dataframe\">\n",
       "  <thead>\n",
       "    <tr>\n",
       "      <th></th>\n",
       "      <th>Cities</th>\n",
       "      <th colspan=\"2\" halign=\"left\">NY</th>\n",
       "      <th>LA</th>\n",
       "      <th>SF</th>\n",
       "    </tr>\n",
       "    <tr>\n",
       "      <th></th>\n",
       "      <th>Temp</th>\n",
       "      <th>cold</th>\n",
       "      <th>hot</th>\n",
       "      <th>hot</th>\n",
       "      <th>cold</th>\n",
       "    </tr>\n",
       "    <tr>\n",
       "      <th>INDEX_1</th>\n",
       "      <th>INDEX_2</th>\n",
       "      <th></th>\n",
       "      <th></th>\n",
       "      <th></th>\n",
       "      <th></th>\n",
       "    </tr>\n",
       "  </thead>\n",
       "  <tbody>\n",
       "    <tr>\n",
       "      <th>a</th>\n",
       "      <th>1</th>\n",
       "      <td>0</td>\n",
       "      <td>1</td>\n",
       "      <td>2</td>\n",
       "      <td>3</td>\n",
       "    </tr>\n",
       "    <tr>\n",
       "      <th>b</th>\n",
       "      <th>1</th>\n",
       "      <td>8</td>\n",
       "      <td>9</td>\n",
       "      <td>10</td>\n",
       "      <td>11</td>\n",
       "    </tr>\n",
       "    <tr>\n",
       "      <th>a</th>\n",
       "      <th>2</th>\n",
       "      <td>4</td>\n",
       "      <td>5</td>\n",
       "      <td>6</td>\n",
       "      <td>7</td>\n",
       "    </tr>\n",
       "    <tr>\n",
       "      <th>b</th>\n",
       "      <th>2</th>\n",
       "      <td>12</td>\n",
       "      <td>13</td>\n",
       "      <td>14</td>\n",
       "      <td>15</td>\n",
       "    </tr>\n",
       "  </tbody>\n",
       "</table>\n",
       "</div>"
      ],
      "text/plain": [
       "Cities            NY      LA   SF\n",
       "Temp            cold hot hot cold\n",
       "INDEX_1 INDEX_2                  \n",
       "a       1          0   1   2    3\n",
       "b       1          8   9  10   11\n",
       "a       2          4   5   6    7\n",
       "b       2         12  13  14   15"
      ]
     },
     "execution_count": 89,
     "metadata": {},
     "output_type": "execute_result"
    }
   ],
   "source": [
    "dframe2.sortlevel(1)"
   ]
  },
  {
   "cell_type": "code",
   "execution_count": 90,
   "metadata": {
    "collapsed": false
   },
   "outputs": [
    {
     "data": {
      "text/html": [
       "<div>\n",
       "<table border=\"1\" class=\"dataframe\">\n",
       "  <thead>\n",
       "    <tr>\n",
       "      <th></th>\n",
       "      <th>Cities</th>\n",
       "      <th colspan=\"2\" halign=\"left\">NY</th>\n",
       "      <th>LA</th>\n",
       "      <th>SF</th>\n",
       "    </tr>\n",
       "    <tr>\n",
       "      <th></th>\n",
       "      <th>Temp</th>\n",
       "      <th>cold</th>\n",
       "      <th>hot</th>\n",
       "      <th>hot</th>\n",
       "      <th>cold</th>\n",
       "    </tr>\n",
       "    <tr>\n",
       "      <th>INDEX_1</th>\n",
       "      <th>INDEX_2</th>\n",
       "      <th></th>\n",
       "      <th></th>\n",
       "      <th></th>\n",
       "      <th></th>\n",
       "    </tr>\n",
       "  </thead>\n",
       "  <tbody>\n",
       "    <tr>\n",
       "      <th rowspan=\"2\" valign=\"top\">a</th>\n",
       "      <th>1</th>\n",
       "      <td>0</td>\n",
       "      <td>1</td>\n",
       "      <td>2</td>\n",
       "      <td>3</td>\n",
       "    </tr>\n",
       "    <tr>\n",
       "      <th>2</th>\n",
       "      <td>4</td>\n",
       "      <td>5</td>\n",
       "      <td>6</td>\n",
       "      <td>7</td>\n",
       "    </tr>\n",
       "    <tr>\n",
       "      <th rowspan=\"2\" valign=\"top\">b</th>\n",
       "      <th>1</th>\n",
       "      <td>8</td>\n",
       "      <td>9</td>\n",
       "      <td>10</td>\n",
       "      <td>11</td>\n",
       "    </tr>\n",
       "    <tr>\n",
       "      <th>2</th>\n",
       "      <td>12</td>\n",
       "      <td>13</td>\n",
       "      <td>14</td>\n",
       "      <td>15</td>\n",
       "    </tr>\n",
       "  </tbody>\n",
       "</table>\n",
       "</div>"
      ],
      "text/plain": [
       "Cities            NY      LA   SF\n",
       "Temp            cold hot hot cold\n",
       "INDEX_1 INDEX_2                  \n",
       "a       1          0   1   2    3\n",
       "        2          4   5   6    7\n",
       "b       1          8   9  10   11\n",
       "        2         12  13  14   15"
      ]
     },
     "execution_count": 90,
     "metadata": {},
     "output_type": "execute_result"
    }
   ],
   "source": [
    "dframe2.sortlevel(0)"
   ]
  },
  {
   "cell_type": "code",
   "execution_count": 91,
   "metadata": {
    "collapsed": false
   },
   "outputs": [
    {
     "data": {
      "text/html": [
       "<div>\n",
       "<table border=\"1\" class=\"dataframe\">\n",
       "  <thead>\n",
       "    <tr style=\"text-align: right;\">\n",
       "      <th></th>\n",
       "      <th>Temp</th>\n",
       "      <th>cold</th>\n",
       "      <th>hot</th>\n",
       "    </tr>\n",
       "    <tr>\n",
       "      <th>INDEX_1</th>\n",
       "      <th>INDEX_2</th>\n",
       "      <th></th>\n",
       "      <th></th>\n",
       "    </tr>\n",
       "  </thead>\n",
       "  <tbody>\n",
       "    <tr>\n",
       "      <th rowspan=\"2\" valign=\"top\">a</th>\n",
       "      <th>1</th>\n",
       "      <td>3</td>\n",
       "      <td>3</td>\n",
       "    </tr>\n",
       "    <tr>\n",
       "      <th>2</th>\n",
       "      <td>11</td>\n",
       "      <td>11</td>\n",
       "    </tr>\n",
       "    <tr>\n",
       "      <th rowspan=\"2\" valign=\"top\">b</th>\n",
       "      <th>1</th>\n",
       "      <td>19</td>\n",
       "      <td>19</td>\n",
       "    </tr>\n",
       "    <tr>\n",
       "      <th>2</th>\n",
       "      <td>27</td>\n",
       "      <td>27</td>\n",
       "    </tr>\n",
       "  </tbody>\n",
       "</table>\n",
       "</div>"
      ],
      "text/plain": [
       "Temp             cold  hot\n",
       "INDEX_1 INDEX_2           \n",
       "a       1           3    3\n",
       "        2          11   11\n",
       "b       1          19   19\n",
       "        2          27   27"
      ]
     },
     "execution_count": 91,
     "metadata": {},
     "output_type": "execute_result"
    }
   ],
   "source": [
    "dframe2.sum(level='Temp', axis=1) "
   ]
  },
  {
   "cell_type": "code",
   "execution_count": null,
   "metadata": {
    "collapsed": true
   },
   "outputs": [],
   "source": []
  }
 ],
 "metadata": {
  "kernelspec": {
   "display_name": "Python 2",
   "language": "python",
   "name": "python2"
  },
  "language_info": {
   "codemirror_mode": {
    "name": "ipython",
    "version": 2
   },
   "file_extension": ".py",
   "mimetype": "text/x-python",
   "name": "python",
   "nbconvert_exporter": "python",
   "pygments_lexer": "ipython2",
   "version": "2.7.11"
  }
 },
 "nbformat": 4,
 "nbformat_minor": 0
}
